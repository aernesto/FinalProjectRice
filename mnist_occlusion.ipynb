{
 "cells": [
  {
   "cell_type": "code",
   "execution_count": 1,
   "metadata": {},
   "outputs": [
    {
     "name": "stdout",
     "output_type": "stream",
     "text": [
      "Extracting MNIST_data/train-images-idx3-ubyte.gz\n",
      "Extracting MNIST_data/train-labels-idx1-ubyte.gz\n",
      "Extracting MNIST_data/t10k-images-idx3-ubyte.gz\n",
      "Extracting MNIST_data/t10k-labels-idx1-ubyte.gz\n"
     ]
    }
   ],
   "source": [
    "__author__ = 'tan_nguyen'\n",
    "\n",
    "import os\n",
    "import time\n",
    "\n",
    "# Load MNIST dataset\n",
    "from tensorflow.examples.tutorials.mnist import input_data\n",
    "mnist = input_data.read_data_sets('MNIST_data', one_hot=True)\n",
    "\n",
    "# Import Tensorflow and start a session\n",
    "import tensorflow as tf\n",
    "sess = tf.InteractiveSession()\n",
    "\n"
   ]
  },
  {
   "cell_type": "code",
   "execution_count": 2,
   "metadata": {},
   "outputs": [
    {
     "name": "stdout",
     "output_type": "stream",
     "text": [
      "(1, 784)\n"
     ]
    },
    {
     "data": {
      "text/plain": [
       "<matplotlib.image.AxesImage at 0x7f781940b898>"
      ]
     },
     "execution_count": 2,
     "metadata": {},
     "output_type": "execute_result"
    },
    {
     "data": {
      "image/png": "[encoded data removed]",
      "text/plain": [
       "<matplotlib.figure.Figure at 0x7f78194dbfd0>"
      ]
     },
     "metadata": {},
     "output_type": "display_data"
    }
   ],
   "source": [
    "import matplotlib.pyplot as plt\n",
    "%matplotlib inline\n",
    "\n",
    "sample_image = mnist.train.next_batch(1)[0]\n",
    "print(sample_image.shape)\n",
    "\n",
    "sample_image = sample_image.reshape([28, 28])\n",
    "plt.imshow(sample_image, cmap='Greys')"
   ]
  },
  {
   "cell_type": "code",
   "execution_count": 3,
   "metadata": {},
   "outputs": [
    {
     "name": "stdout",
     "output_type": "stream",
     "text": [
      "step 0, training accuracy 0.12\n",
      "step 100, training accuracy 0.84\n",
      "test accuracy 0.9137\n",
      "The training takes 17.435453 second to finish\n"
     ]
    }
   ],
   "source": [
    "\n",
    "\n",
    "def weight_variable(shape):\n",
    "    '''\n",
    "    Initialize weights\n",
    "    :param shape: shape of weights, e.g. [w, h ,Cin, Cout] where\n",
    "    w: width of the filters\n",
    "    h: height of the filters\n",
    "    Cin: the number of the channels of the filters\n",
    "    Cout: the number of filters\n",
    "    :return: a tensor variable for weights with initial values\n",
    "    '''\n",
    "    # IMPLEMENT YOUR WEIGHT_VARIABLE HERE\n",
    "    initial_W = tf.truncated_normal(shape, stddev=0.1)\n",
    "    return tf.Variable(initial_W)\n",
    "\n",
    "def bias_variable(shape):\n",
    "    '''\n",
    "    Initialize biases\n",
    "    :param shape: shape of biases, e.g. [Cout] where\n",
    "    Cout: the number of filters\n",
    "    :return: a tensor variable for biases with initial values\n",
    "    '''\n",
    "\n",
    "    # IMPLEMENT YOUR BIAS_VARIABLE HERE\n",
    "    initial_b = tf.constant(0.1, shape=shape)\n",
    "    return tf.Variable(initial_b)\n",
    "\n",
    "def conv2d(x, W):\n",
    "    '''\n",
    "    Perform 2-D convolution\n",
    "    :param x: input tensor of size [N, W, H, Cin] where\n",
    "    N: the number of images\n",
    "    W: width of images\n",
    "    H: height of images\n",
    "    Cin: the number of channels of images\n",
    "    :param W: weight tensor [w, h, Cin, Cout]\n",
    "    w: width of the filters\n",
    "    h: height of the filters\n",
    "    Cin: the number of the channels of the filters = the number of channels of images\n",
    "    Cout: the number of filters\n",
    "    :return: a tensor of features extracted by the filters, a.k.a. the results after convolution\n",
    "    '''\n",
    "\n",
    "    # IMPLEMENT YOUR CONV2D HERE\n",
    "    h_conv = tf.nn.conv2d(x, W, strides=[1, 1, 1, 1], padding='SAME')\n",
    "    return h_conv\n",
    "\n",
    "def max_pool_2x2(x):\n",
    "    '''\n",
    "    Perform non-overlapping 2-D maxpooling on 2x2 regions in the input data\n",
    "    :param x: input data\n",
    "    :return: the results of maxpooling (max-marginalized + downsampling)\n",
    "    '''\n",
    "\n",
    "    # IMPLEMENT YOUR MAX_POOL_2X2 HERE\n",
    "    h_max = tf.nn.max_pool(x, ksize=[1, 2, 2, 1],\n",
    "                        strides=[1, 2, 2, 1], padding='SAME')\n",
    "    return h_max\n",
    "\n",
    "\n",
    "# Specify training parameters\n",
    "result_dir = './results/' # directory where the results from the training are saved\n",
    "max_step = 200 # the maximum iterations. After max_step iterations, the training will stop no matter what\n",
    "\n",
    "start_time = time.time() # start timing\n",
    "\n",
    "# FILL IN THE CODE BELOW TO BUILD YOUR NETWORK\n",
    "\n",
    "# placeholders for input data and input labeles\n",
    "x       = tf.placeholder(tf.float32, shape=[None, 784])\n",
    "y_      = tf.placeholder(tf.float32, shape=[None, 10])\n",
    "\n",
    "\n",
    "# reshape the input image\n",
    "x_image = tf.reshape(x, [-1, 28, 28, 1])\n",
    "\n",
    "# first convolutional layer\n",
    "W_conv1 = weight_variable([5, 5, 1, 32])\n",
    "b_conv1 = bias_variable([32])\n",
    "\n",
    "h_conv1 = tf.nn.relu(conv2d(x_image, W_conv1) + b_conv1)\n",
    "h_pool1 = max_pool_2x2(h_conv1)\n",
    "\n",
    "# second convolutional layer\n",
    "W_conv2 = weight_variable([5, 5, 32, 64])\n",
    "b_conv2 = bias_variable([64])\n",
    "h_conv2 = tf.nn.relu(conv2d(h_pool1, W_conv2) + b_conv2)\n",
    "h_pool2 = max_pool_2x2(h_conv2)\n",
    "\n",
    "# densely connected layer\n",
    "W_fc1 = weight_variable([7 * 7 * 64, 1024])\n",
    "b_fc1 = bias_variable([1024])\n",
    "\n",
    "h_pool2_flat = tf.reshape(h_pool2, [-1, 7*7*64])\n",
    "h_fc1 = tf.nn.relu(tf.matmul(h_pool2_flat, W_fc1) + b_fc1)\n",
    "\n",
    "# dropout\n",
    "keep_prob  = tf.placeholder(tf.float32)\n",
    "h_fc1_drop = tf.nn.dropout(h_fc1, keep_prob)\n",
    "\n",
    "# softmax\n",
    "W_fc2 = weight_variable([1024, 10])\n",
    "b_fc2 = bias_variable([10])\n",
    "y_conv = tf.matmul(h_fc1_drop, W_fc2) + b_fc2\n",
    "\n",
    "# FILL IN THE FOLLOWING CODE TO SET UP THE TRAINING\n",
    "\n",
    "# setup training\n",
    "cross_entropy = tf.reduce_mean(\n",
    "tf.nn.softmax_cross_entropy_with_logits(labels=y_, logits=y_conv))\n",
    "\n",
    "train_step = tf.train.AdamOptimizer(1e-4).minimize(cross_entropy)\n",
    "correct_prediction = tf.equal(tf.argmax(y_conv, 1), tf.argmax(y_, 1))\n",
    "\n",
    "accuracy = tf.reduce_mean(tf.cast(correct_prediction, tf.float32))\n",
    "\n",
    "\n",
    "# Add a scalar summary for the snapshot loss.\n",
    "#tf.summary.scalar(cross_entropy.op.name, cross_entropy)\n",
    "# Build the summary operation based on the TF collection of Summaries.\n",
    "#summary_op = tf.summary.merge_all()\n",
    "\n",
    "# Add the variable initializer Op.\n",
    "init = tf.global_variables_initializer()\n",
    "\n",
    "# Create a saver for writing training checkpoints.\n",
    "#saver = tf.train.Saver()\n",
    "\n",
    "# Instantiate a SummaryWriter to output summaries and the Graph.\n",
    "#summary_writer = tf.summary.FileWriter(result_dir, sess.graph)\n",
    "\n",
    "# Run the Op to initialize the variables.\n",
    "sess.run(init)\n",
    "\n",
    "# run the training\n",
    "for i in range(max_step):\n",
    "    batch = mnist.train.next_batch(50) # make the data batch, which is used in the training iteration.\n",
    "                                        # the batch size is 50\n",
    "    if i%100 == 0:\n",
    "        # output the training accuracy every 100 iterations\n",
    "        train_accuracy = accuracy.eval(feed_dict={\n",
    "            x:batch[0], y_:batch[1], keep_prob: 1.0})\n",
    "        print(\"step %d, training accuracy %g\"%(i, train_accuracy))\n",
    "\n",
    "        # Update the events file which is used to monitor the training (in this case,\n",
    "        # only the training loss is monitored)\n",
    "        #summary_str = sess.run(summary_op, feed_dict={x: batch[0], y_: batch[1], keep_prob: 0.5})\n",
    "        #summary_writer.add_summary(summary_str, i)\n",
    "        #summary_writer.flush()\n",
    "\n",
    "    # save the checkpoints every 1100 iterations\n",
    "    #if i % 1100 == 0 or i == max_step:\n",
    "        #checkpoint_file = os.path.join(result_dir, 'checkpoint')\n",
    "        #saver.save(sess, checkpoint_file, global_step=i)\n",
    "\n",
    "    train_step.run(feed_dict={x: batch[0], y_: batch[1], keep_prob: 0.5}) # run one train_step\n",
    "\n",
    "# print test error\n",
    "print(\"test accuracy %g\"%accuracy.eval(feed_dict={\n",
    "    x: mnist.test.images, y_: mnist.test.labels, keep_prob: 1.0}))\n",
    "\n",
    "stop_time = time.time()\n",
    "print('The training takes %f second to finish'%(stop_time - start_time))\n",
    "\n"
   ]
  },
  {
   "cell_type": "code",
   "execution_count": 85,
   "metadata": {},
   "outputs": [
    {
     "name": "stdout",
     "output_type": "stream",
     "text": [
      "true accuracy:  1.0\n",
      "4\n",
      "2\n",
      "index:  4 7\n",
      "predicted label: [0]\n",
      "accuracy: 1.0\n",
      "\n",
      "\n",
      "\n",
      "index:  4 10\n",
      "predicted label: [0]\n",
      "accuracy: 1.0\n",
      "\n",
      "\n",
      "\n",
      "index:  4 13\n",
      "predicted label: [0]\n",
      "accuracy: 1.0\n",
      "\n",
      "\n",
      "\n",
      "index:  7 7\n",
      "predicted label: [2]\n",
      "accuracy: 0.0\n",
      "\n",
      "\n",
      "\n",
      "index:  7 10\n",
      "predicted label: [0]\n",
      "accuracy: 1.0\n",
      "\n",
      "\n",
      "\n",
      "index:  7 13\n",
      "predicted label: [0]\n",
      "accuracy: 1.0\n",
      "\n",
      "\n",
      "\n",
      "index:  10 7\n",
      "predicted label: [0]\n",
      "accuracy: 1.0\n",
      "\n",
      "\n",
      "\n",
      "index:  10 10\n",
      "predicted label: [0]\n",
      "accuracy: 1.0\n",
      "\n",
      "\n",
      "\n",
      "index:  10 13\n",
      "predicted label: [0]\n",
      "accuracy: 1.0\n",
      "\n",
      "\n",
      "\n"
     ]
    },
    {
     "ename": "IndexError",
     "evalue": "index 8 is out of bounds for axis 0 with size 8",
     "output_type": "error",
     "traceback": [
      "\u001b[0;31m---------------------------------------------------------------------------\u001b[0m",
      "\u001b[0;31mIndexError\u001b[0m                                Traceback (most recent call last)",
      "\u001b[0;32m<ipython-input-85-f2297609af4a>\u001b[0m in \u001b[0;36m<module>\u001b[0;34m()\u001b[0m\n\u001b[1;32m     61\u001b[0m \u001b[0;34m\u001b[0m\u001b[0m\n\u001b[1;32m     62\u001b[0m \u001b[0;34m\u001b[0m\u001b[0m\n\u001b[0;32m---> 63\u001b[0;31m         \u001b[0maxs\u001b[0m\u001b[0;34m[\u001b[0m\u001b[0mindex\u001b[0m\u001b[0;34m]\u001b[0m\u001b[0;34m.\u001b[0m\u001b[0mimshow\u001b[0m\u001b[0;34m(\u001b[0m\u001b[0ma_tmp\u001b[0m\u001b[0;34m,\u001b[0m \u001b[0mcmap\u001b[0m\u001b[0;34m=\u001b[0m\u001b[0;34m'Greys'\u001b[0m\u001b[0;34m)\u001b[0m\u001b[0;34m\u001b[0m\u001b[0m\n\u001b[0m\u001b[1;32m     64\u001b[0m         \u001b[0maxs\u001b[0m\u001b[0;34m[\u001b[0m\u001b[0mindex\u001b[0m\u001b[0;34m]\u001b[0m\u001b[0;34m.\u001b[0m\u001b[0mset_title\u001b[0m\u001b[0;34m(\u001b[0m\u001b[0;34m\"predicted label: \"\u001b[0m\u001b[0;34m+\u001b[0m \u001b[0mstr\u001b[0m\u001b[0;34m(\u001b[0m\u001b[0mperd_label\u001b[0m\u001b[0;34m)\u001b[0m\u001b[0;34m)\u001b[0m\u001b[0;34m\u001b[0m\u001b[0m\n\u001b[1;32m     65\u001b[0m         \u001b[0mindex\u001b[0m \u001b[0;34m+=\u001b[0m\u001b[0;36m1\u001b[0m\u001b[0;34m\u001b[0m\u001b[0m\n",
      "\u001b[0;31mIndexError\u001b[0m: index 8 is out of bounds for axis 0 with size 8"
     ]
    },
    {
     "data": {
      "image/png": "[encoded data removed]",
      "text/plain": [
       "<matplotlib.figure.Figure at 0x7f7730e909e8>"
      ]
     },
     "metadata": {},
     "output_type": "display_data"
    },
    {
     "data": {
      "image/png": "[encoded data removed]",
      "text/plain": [
       "<matplotlib.figure.Figure at 0x7f7730e90710>"
      ]
     },
     "metadata": {},
     "output_type": "display_data"
    },
    {
     "data": {
      "text/plain": [
       "<matplotlib.figure.Figure at 0x7f77316f5c50>"
      ]
     },
     "metadata": {},
     "output_type": "display_data"
    },
    {
     "data": {
      "text/plain": [
       "<matplotlib.figure.Figure at 0x7f772f13fc88>"
      ]
     },
     "metadata": {},
     "output_type": "display_data"
    },
    {
     "data": {
      "text/plain": [
       "<matplotlib.figure.Figure at 0x7f772fad51d0>"
      ]
     },
     "metadata": {},
     "output_type": "display_data"
    },
    {
     "data": {
      "text/plain": [
       "<matplotlib.figure.Figure at 0x7f77308c41d0>"
      ]
     },
     "metadata": {},
     "output_type": "display_data"
    },
    {
     "data": {
      "text/plain": [
       "<matplotlib.figure.Figure at 0x7f7730dcf898>"
      ]
     },
     "metadata": {},
     "output_type": "display_data"
    },
    {
     "data": {
      "text/plain": [
       "<matplotlib.figure.Figure at 0x7f7730c82630>"
      ]
     },
     "metadata": {},
     "output_type": "display_data"
    },
    {
     "data": {
      "text/plain": [
       "<matplotlib.figure.Figure at 0x7f77309fecf8>"
      ]
     },
     "metadata": {},
     "output_type": "display_data"
    },
    {
     "data": {
      "text/plain": [
       "<matplotlib.figure.Figure at 0x7f772ffdb128>"
      ]
     },
     "metadata": {},
     "output_type": "display_data"
    },
    {
     "data": {
      "text/plain": [
       "<matplotlib.figure.Figure at 0x7f773015cac8>"
      ]
     },
     "metadata": {},
     "output_type": "display_data"
    }
   ],
   "source": [
    "import numpy as np\n",
    "sample_image = mnist.test.images[3]\n",
    "sample_label = mnist.test.labels[3]\n",
    "#rint(sample_label)\n",
    "sample_image = sample_image.reshape((1,784))\n",
    "sample_label = sample_label.reshape((1,10))\n",
    "true_label = np.argmax(sample_label, axis=1)\n",
    "\n",
    "print(\"true accuracy: \", sess.run(accuracy, feed_dict={x:sample_image, y_:sample_label, keep_prob: 1.0}))\n",
    "sample_image = sample_image.reshape([28, 28])\n",
    "a_padded = sample_image\n",
    "plt.imshow(a_padded, cmap='Greys')\n",
    "#print(a_padded.nonzero())\n",
    "max_r = np.max(a_padded.nonzero(), axis = 1)[0]\n",
    "max_c = np.max(a_padded.nonzero(), axis = 1)[1]\n",
    "min_r = np.min(a_padded.nonzero(), axis = 1)[0]\n",
    "min_c = np.min(a_padded.nonzero(), axis = 1)[1]\n",
    "\n",
    "w = 10\n",
    "h = 10\n",
    "\n",
    "strides2 = strides1 = 3\n",
    "if strides1%2 ==0:\n",
    "    num_rows = int((max_r-w+strides1 - min_r+1)/strides1)\n",
    "    num_columns = int((max_c-w+strides2 - min_c+1)/strides2)\n",
    "    print(num_rows)\n",
    "    print(num_columns)\n",
    "else:\n",
    "    num_rows = int((max_r-w+strides1 - min_r)/strides1)\n",
    "    num_columns = int((max_c-w+strides2 - min_c)/strides2)\n",
    "    print(num_rows)\n",
    "    print(num_columns)\n",
    "\n",
    "\n",
    "\n",
    "fig, axs = plt.subplots(num_rows,num_columns, figsize=(28, 28))\n",
    "fig.subplots_adjust(hspace = .5, wspace=.001)\n",
    "\n",
    "axs = axs.ravel()\n",
    "index = 0\n",
    "#axs[index].imshow(sample_image, cmap='Greys')\n",
    "#axs[index].set_title(\"true label \"+ str(true_label))\n",
    "#index +=1\n",
    "for i in range(min_r,max_r-w+strides1, strides1):\n",
    "    for j in range(min_c, max_c-h+strides2, strides2):\n",
    "        a_tmp = a_padded.copy()\n",
    "        a_tmp[i:i+w, j:j+h] = 0\n",
    "        \n",
    "        #plt.figure()\n",
    "        print(\"index: \", i, j)\n",
    "        a = a_tmp.reshape((1,784))\n",
    "        fig = plt.figure()\n",
    "        #ax  = fig.add_subplot(5, 1, 5)\n",
    "        \n",
    "        perd, acc = sess.run([y_conv,accuracy], feed_dict={x:a, y_:sample_label, keep_prob: 1.0})\n",
    "        probs = sess.run((tf.nn.softmax(perd)))\n",
    "        perd_label = np.argmax(probs, axis=1)\n",
    "        print(\"predicted label:\", perd_label)\n",
    "        print(\"accuracy:\", acc)\n",
    "        print(2*'\\n')\n",
    "        \n",
    "        \n",
    "        axs[index].imshow(a_tmp, cmap='Greys')\n",
    "        axs[index].set_title(\"predicted label: \"+ str(perd_label))\n",
    "        index +=1\n",
    "print(index)"
   ]
  },
  {
   "cell_type": "code",
   "execution_count": 100,
   "metadata": {},
   "outputs": [
    {
     "name": "stdout",
     "output_type": "stream",
     "text": [
      "[[ 0  1  2  3  4  5  6  7  8  9]\n",
      " [10 11 12 13 14 15 16 17 18 19]\n",
      " [20 21 22 23 24 25 26 27 28 29]\n",
      " [30 31 32 33 34 35 36 37 38 39]\n",
      " [40 41 42 43 44 45 46 47 48 49]\n",
      " [50 51 52 53 54 55 56 57 58 59]\n",
      " [60 61 62 63 64 65 66 67 68 69]\n",
      " [70 71 72 73 74 75 76 77 78 79]\n",
      " [80 81 82 83 84 85 86 87 88 89]\n",
      " [90 91 92 93 94 95 96 97 98 99]]\n",
      "[[ 0  1  2  3  4  5  6  7  8  9]\n",
      " [10 11 12 13 14 15 16 17 18 19]\n",
      " [20 21 22 23 24 25 26 27 28 29]\n",
      " [30 31 32 33 34 35 36 37 38 39]\n",
      " [40 41 42 43 44 45 46 47 48 49]\n",
      " [50 51 52 53 54 55 56 57 58 59]\n",
      " [60 61 62 63 64 65 66 67 68 69]\n",
      " [70 71 72 73 74 75 76 77 78 79]\n",
      " [80 81 82 83 84 85 86 87 88 89]\n",
      " [90 91 92 93 94 95 96 97 98 99]]\n",
      "index:  0 0\n",
      "[[ 0  0  2  3  4  5  6  7  8  9]\n",
      " [ 0  0 12 13 14 15 16 17 18 19]\n",
      " [20 21 22 23 24 25 26 27 28 29]\n",
      " [30 31 32 33 34 35 36 37 38 39]\n",
      " [40 41 42 43 44 45 46 47 48 49]\n",
      " [50 51 52 53 54 55 56 57 58 59]\n",
      " [60 61 62 63 64 65 66 67 68 69]\n",
      " [70 71 72 73 74 75 76 77 78 79]\n",
      " [80 81 82 83 84 85 86 87 88 89]\n",
      " [90 91 92 93 94 95 96 97 98 99]]\n",
      "\n",
      "\n",
      "\n",
      "index:  0 5\n",
      "[[ 0  1  2  3  4  0  0  7  8  9]\n",
      " [10 11 12 13 14  0  0 17 18 19]\n",
      " [20 21 22 23 24 25 26 27 28 29]\n",
      " [30 31 32 33 34 35 36 37 38 39]\n",
      " [40 41 42 43 44 45 46 47 48 49]\n",
      " [50 51 52 53 54 55 56 57 58 59]\n",
      " [60 61 62 63 64 65 66 67 68 69]\n",
      " [70 71 72 73 74 75 76 77 78 79]\n",
      " [80 81 82 83 84 85 86 87 88 89]\n",
      " [90 91 92 93 94 95 96 97 98 99]]\n",
      "\n",
      "\n",
      "\n",
      "index:  0 10\n",
      "[[ 0  1  2  3  4  5  6  7  8  9]\n",
      " [10 11 12 13 14 15 16 17 18 19]\n",
      " [20 21 22 23 24 25 26 27 28 29]\n",
      " [30 31 32 33 34 35 36 37 38 39]\n",
      " [40 41 42 43 44 45 46 47 48 49]\n",
      " [50 51 52 53 54 55 56 57 58 59]\n",
      " [60 61 62 63 64 65 66 67 68 69]\n",
      " [70 71 72 73 74 75 76 77 78 79]\n",
      " [80 81 82 83 84 85 86 87 88 89]\n",
      " [90 91 92 93 94 95 96 97 98 99]]\n",
      "\n",
      "\n",
      "\n",
      "index:  5 0\n",
      "[[ 0  1  2  3  4  5  6  7  8  9]\n",
      " [10 11 12 13 14 15 16 17 18 19]\n",
      " [20 21 22 23 24 25 26 27 28 29]\n",
      " [30 31 32 33 34 35 36 37 38 39]\n",
      " [40 41 42 43 44 45 46 47 48 49]\n",
      " [ 0  0 52 53 54 55 56 57 58 59]\n",
      " [ 0  0 62 63 64 65 66 67 68 69]\n",
      " [70 71 72 73 74 75 76 77 78 79]\n",
      " [80 81 82 83 84 85 86 87 88 89]\n",
      " [90 91 92 93 94 95 96 97 98 99]]\n",
      "\n",
      "\n",
      "\n",
      "index:  5 5\n",
      "[[ 0  1  2  3  4  5  6  7  8  9]\n",
      " [10 11 12 13 14 15 16 17 18 19]\n",
      " [20 21 22 23 24 25 26 27 28 29]\n",
      " [30 31 32 33 34 35 36 37 38 39]\n",
      " [40 41 42 43 44 45 46 47 48 49]\n",
      " [50 51 52 53 54  0  0 57 58 59]\n",
      " [60 61 62 63 64  0  0 67 68 69]\n",
      " [70 71 72 73 74 75 76 77 78 79]\n",
      " [80 81 82 83 84 85 86 87 88 89]\n",
      " [90 91 92 93 94 95 96 97 98 99]]\n",
      "\n",
      "\n",
      "\n",
      "index:  5 10\n",
      "[[ 0  1  2  3  4  5  6  7  8  9]\n",
      " [10 11 12 13 14 15 16 17 18 19]\n",
      " [20 21 22 23 24 25 26 27 28 29]\n",
      " [30 31 32 33 34 35 36 37 38 39]\n",
      " [40 41 42 43 44 45 46 47 48 49]\n",
      " [50 51 52 53 54 55 56 57 58 59]\n",
      " [60 61 62 63 64 65 66 67 68 69]\n",
      " [70 71 72 73 74 75 76 77 78 79]\n",
      " [80 81 82 83 84 85 86 87 88 89]\n",
      " [90 91 92 93 94 95 96 97 98 99]]\n",
      "\n",
      "\n",
      "\n",
      "index:  10 0\n",
      "[[ 0  1  2  3  4  5  6  7  8  9]\n",
      " [10 11 12 13 14 15 16 17 18 19]\n",
      " [20 21 22 23 24 25 26 27 28 29]\n",
      " [30 31 32 33 34 35 36 37 38 39]\n",
      " [40 41 42 43 44 45 46 47 48 49]\n",
      " [50 51 52 53 54 55 56 57 58 59]\n",
      " [60 61 62 63 64 65 66 67 68 69]\n",
      " [70 71 72 73 74 75 76 77 78 79]\n",
      " [80 81 82 83 84 85 86 87 88 89]\n",
      " [90 91 92 93 94 95 96 97 98 99]]\n",
      "\n",
      "\n",
      "\n",
      "index:  10 5\n",
      "[[ 0  1  2  3  4  5  6  7  8  9]\n",
      " [10 11 12 13 14 15 16 17 18 19]\n",
      " [20 21 22 23 24 25 26 27 28 29]\n",
      " [30 31 32 33 34 35 36 37 38 39]\n",
      " [40 41 42 43 44 45 46 47 48 49]\n",
      " [50 51 52 53 54 55 56 57 58 59]\n",
      " [60 61 62 63 64 65 66 67 68 69]\n",
      " [70 71 72 73 74 75 76 77 78 79]\n",
      " [80 81 82 83 84 85 86 87 88 89]\n",
      " [90 91 92 93 94 95 96 97 98 99]]\n",
      "\n",
      "\n",
      "\n",
      "index:  10 10\n",
      "[[ 0  1  2  3  4  5  6  7  8  9]\n",
      " [10 11 12 13 14 15 16 17 18 19]\n",
      " [20 21 22 23 24 25 26 27 28 29]\n",
      " [30 31 32 33 34 35 36 37 38 39]\n",
      " [40 41 42 43 44 45 46 47 48 49]\n",
      " [50 51 52 53 54 55 56 57 58 59]\n",
      " [60 61 62 63 64 65 66 67 68 69]\n",
      " [70 71 72 73 74 75 76 77 78 79]\n",
      " [80 81 82 83 84 85 86 87 88 89]\n",
      " [90 91 92 93 94 95 96 97 98 99]]\n",
      "\n",
      "\n",
      "\n",
      "9\n",
      "1\n",
      "1\n"
     ]
    }
   ],
   "source": [
    "import numpy as np\n",
    "a = np.arange(100).reshape((10,10))\n",
    "print(a)\n",
    "a_padded = a\n",
    "print(a_padded)\n",
    "w = 2\n",
    "h = 2\n",
    "\n",
    "#print(a_padded.nonzero())\n",
    "#print(np.min(a_padded.nonzero(), axis = 1))\n",
    "#print(np.max(a_padded.nonzero(), axis = 1))\n",
    "#print(a_padded[2,2])\n",
    "#print(a_padded[2,6])\n",
    "#print(a_padded[6,2])\n",
    "#print(a_padded[6,6])\n",
    "\n",
    "max_r = np.max(a_padded.nonzero(), axis = 1)[0]\n",
    "max_c = np.max(a_padded.nonzero(), axis = 1)[1]\n",
    "min_r = np.min(a_padded.nonzero(), axis = 1)[0]\n",
    "min_c = np.min(a_padded.nonzero(), axis = 1)[1]\n",
    "\n",
    "strides1 = 5\n",
    "strides2 = 5\n",
    "count = 0\n",
    "for i in range(min_r,max_r-w+strides1, strides1):\n",
    "    for j in range(min_c, max_c-h+strides2, strides2):\n",
    "        a_tmp = a_padded.copy()\n",
    "        a_tmp[i:i+w, j:j+h] = 0\n",
    "        print(\"index: \", i, j)\n",
    "        print(a_tmp)\n",
    "        print(2*'\\n')\n",
    "        count +=1\n",
    "print(count)\n",
    "print(int((max_r - min_r)/strides1) )\n",
    "print(int((max_c- min_c)/strides2) )"
   ]
  },
  {
   "cell_type": "code",
   "execution_count": null,
   "metadata": {
    "collapsed": true
   },
   "outputs": [],
   "source": []
  }
 ],
 "metadata": {
  "kernelspec": {
   "display_name": "Python 3",
   "language": "python",
   "name": "python3"
  },
  "language_info": {
   "codemirror_mode": {
    "name": "ipython",
    "version": 3
   },
   "file_extension": ".py",
   "mimetype": "text/x-python",
   "name": "python",
   "nbconvert_exporter": "python",
   "pygments_lexer": "ipython3",
   "version": "3.6.1"
  }
 },
 "nbformat": 4,
 "nbformat_minor": 2
}
