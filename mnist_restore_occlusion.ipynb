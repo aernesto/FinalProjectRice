{
 "cells": [
  {
   "cell_type": "code",
   "execution_count": 1,
   "metadata": {},
   "outputs": [],
   "source": [
    "#Restoring the previously saved mnist model"
   ]
  },
  {
   "cell_type": "code",
   "execution_count": 6,
   "metadata": {},
   "outputs": [
    {
     "name": "stdout",
     "output_type": "stream",
     "text": [
      "INFO:tensorflow:Restoring parameters from mnist_trad/mnist_trad.ckpt\n",
      "Model restored from file: mnist_trad/mnist_trad.ckpt\n"
     ]
    }
   ],
   "source": [
    "__author__  = 'kazem_safari'\n",
    "# So here our strategy is basically the same.\n",
    "# First, we load the network model. \n",
    "#Second, we initialize all the tf.global_variables in a completely separate session.\n",
    "    \n",
    "# Lastly, here, instead of updating them with an optimization function and\n",
    "# a training loop, we update them by restoring everything from the previously saved model\n",
    "\n",
    "import tensorflow as tf\n",
    "#from tensorflow.examples.tutorials.mnist import input_data\n",
    "#mnist = input_data.read_data_sets(\"MNIST_data/\", one_hot=True)\n",
    "\n",
    "#This module itself depends on tensorflow:\n",
    "from mnist_helper_functions import param_counter, mnist_inference\n",
    "\n",
    "tf.reset_default_graph()\n",
    "#placeholders\n",
    "x           = tf.placeholder(tf.float32, shape = [None, 784])\n",
    "y_          = tf.placeholder(tf.float32, shape = [None, 10])\n",
    "keep_prob   = tf.placeholder(tf.float32)\n",
    "\n",
    "#reshape the input from 1D-vector to 2D-image \n",
    "x_image     = tf.reshape(x, [-1, 28, 28, 1])\n",
    "\n",
    "#network params and hyperparams\n",
    "nh_pre      = 1    #number of channels input image\n",
    "nh1         = 32   #number of units first convolutional layer\n",
    "nh2         = 64   #number of units second convolutional layer\n",
    "nh3         = 1024 #numebr of units first fully-connected layer\n",
    "num_classes = 10   #number of output classes\n",
    "\n",
    "#building network architecture function\n",
    "[y_conv, cross_entropy, correct_prediction, accuracy] = \\\n",
    "mnist_inference(x_image,y_, keep_prob, nh1, nh2, nh3, num_classes)\n",
    "#############################################################\n",
    "    ###$$$$ Here the first step is completed!\n",
    "#############################################################\n",
    "#here since we are restoring a pre-trained model we DONOT need the optimizer function\n",
    "#with tf.name_scope('adam_optimizer'):\n",
    "#    train_step = tf.train.AdamOptimizer(1e-4).minimize(cross_entropy)\n",
    "\n",
    "##########################################################\n",
    "###########################################################\n",
    "#This intermediate step is crucial:\n",
    "\n",
    "    #i) instantiating an inti tensor\n",
    "    # Add the variable initializer Op.\n",
    "init         = tf.global_variables_initializer()        \n",
    "\n",
    "    #ii) redefining a new instance of a sever object in tensorflow\n",
    "    # Create a saver.\n",
    "saver        = tf.train.Saver()\n",
    "###########################################################\n",
    "###########################################################\n",
    "\n",
    "# path where the results of training are saved\n",
    "model_path   = 'mnist_trad/mnist_trad.ckpt' \n",
    "save_path    = model_path\n",
    "\n",
    "sess = tf.InteractiveSession()\n",
    "#with tf.Session() as sess:\n",
    "####################################################\n",
    "####################################################\n",
    "sess.run(init) \n",
    "###$$$$ Here the second step is completed!\n",
    "####################################################\n",
    "####################################################\n",
    "\n",
    "\n",
    "####################################################\n",
    "####################################################\n",
    "saver.restore(sess, model_path)\n",
    "print(\"Model restored from file: %s\" % save_path)\n",
    "###$$$$ Here the last step is completed!\n",
    "\n",
    "#One key thing to remember, based on what i\n",
    "#have read and what a ta had told me, is that, \n",
    "#to restore a model completely,\n",
    "#so that no part of our model would be missing,\n",
    "#we need to access all these files simultaneously:\n",
    "#####################\n",
    "#mnist_trad.ckpt.meta\n",
    "#mnist_trad.ckpt.index\n",
    "#mnist_trad.ckpt.data-00000-of-00001\n",
    "#checkpoint\n",
    "\n",
    "#And the only way which is possible to do that is\n",
    "#through saver.restore(sess, model_path)\n",
    "#which accesses all these file altogether!\n",
    "########################\n",
    "####################################################\n",
    "####################################################\n",
    "#mnist_trad_restore()"
   ]
  },
  {
   "cell_type": "code",
   "execution_count": 7,
   "metadata": {},
   "outputs": [],
   "source": [
    "#mnist_patch_occlusion_analysis"
   ]
  },
  {
   "cell_type": "code",
   "execution_count": 8,
   "metadata": {},
   "outputs": [
    {
     "name": "stdout",
     "output_type": "stream",
     "text": [
      "Extracting MNIST_data/train-images-idx3-ubyte.gz\n",
      "Extracting MNIST_data/train-labels-idx1-ubyte.gz\n",
      "Extracting MNIST_data/t10k-images-idx3-ubyte.gz\n",
      "Extracting MNIST_data/t10k-labels-idx1-ubyte.gz\n",
      "Extracting MNIST_data/train-images-idx3-ubyte.gz\n",
      "Extracting MNIST_data/train-labels-idx1-ubyte.gz\n",
      "Extracting MNIST_data/t10k-images-idx3-ubyte.gz\n",
      "Extracting MNIST_data/t10k-labels-idx1-ubyte.gz\n"
     ]
    }
   ],
   "source": [
    "from tensorflow.examples.tutorials.mnist import input_data\n",
    "mnist0 = input_data.read_data_sets(\"MNIST_data/\", one_hot=False)\n",
    "mnist1 = input_data.read_data_sets(\"MNIST_data/\", one_hot=True)\n",
    "import numpy as np\n",
    "import matplotlib.pyplot as plt\n",
    "%matplotlib inline\n",
    "\n",
    "from stack_occlusions import fixOcclusions_stackImages\n",
    "\n",
    "\n",
    "\n",
    "digitClass_indicies =[]\n",
    "def list_digitClass_indicies(labels0_correctly_classified):\n",
    "    #here we extract the indicies of each class from labels_correctly_classified\n",
    "    for i in range(10):\n",
    "        digitClass = np.nonzero(labels0_correctly_classified==i)\n",
    "        #print(digitclass)\n",
    "        digitClass_indicies.append(digitClass)\n",
    "    #print(list_digitclass_indicies)\n",
    "    return digitClass_indicies\n",
    "\n",
    "#create a list of lists to store accuracies of stack of occluded images for each digit\n",
    "occu_stack_acc = [[] for _ in range(10)]\n",
    "#print(occu_stack_acc)\n",
    "def occlusion_accuracy_analysis(patch_size, strides, imgs_correctly_classified,\n",
    "                                labels1_correctly_classified, list_digitClass_indicies):\n",
    "    iter_columns = range(0, 28-patch_size[0]+strides[0], strides[0]) #iterator along columns object \n",
    "    iter_rows    = range(0, 28-patch_size[1]+strides[1], strides[1]) #iterator along rows object\n",
    "    M1           = len(iter_columns)\n",
    "    M2           = len(iter_rows)\n",
    "    M            = M1*M2\n",
    "\n",
    "    acc_array      = np.zeros((10,M1,M2))\n",
    "\n",
    "    for d in range(10):\n",
    "        digitClass         = digitClass_indicies[d] #get the indices of the digitclass == d\n",
    "        #print(imgs_correctly_classified[digitclass].shape)\n",
    "        #images_placeholder = imgs_correctly_classified[digitclass] \n",
    "        images             = imgs_correctly_classified[digitClass].reshape((-1,28,28))\n",
    "        #print(images.shape)\n",
    "\n",
    "        true_labels        = labels1_correctly_classified[digitClass] \n",
    "        #print(true_labels.shape)\n",
    "\n",
    "        #perform occlusions\n",
    "        givenOcclusions_stackImages = fixOcclusions_stackImages(images, strides, patch_size)\n",
    "        #M = len(givenOcclusions_stackImages)\n",
    "\n",
    "        #compute accuracy\n",
    "        for i in range(M): #we want to eval accuracy for each (occluded) stack seperately \n",
    "            occlusion_stack             = givenOcclusions_stackImages[i] \n",
    "            occlusion_stack_placeholder = occlusion_stack.reshape((-1,784))\n",
    "            acc = sess.run(accuracy, feed_dict={x:occlusion_stack_placeholder,  y_: true_labels, keep_prob: 1.0})\n",
    "            occu_stack_acc[d].append(acc)\n",
    "    #print(occu_stack_acc)\n",
    "    for d in range(10):\n",
    "        acc_array[d] = np.asarray(occu_stack_acc[d], dtype=np.float32).reshape(M1, M2)\n",
    "        print(\"digit: %d\"%d)\n",
    "        print(np.around(acc_array[d], decimals = 2))\n",
    "        print(2*'\\n')\n",
    "    return acc_array\n"
   ]
  },
  {
   "cell_type": "code",
   "execution_count": 5,
   "metadata": {},
   "outputs": [
    {
     "name": "stdout",
     "output_type": "stream",
     "text": [
      "(100, 784)\n",
      "(100, 10)\n",
      "digit: 0\n",
      "[[ 1.    1.    1.    1.    1.    0.88  1.  ]\n",
      " [ 1.    1.    1.    1.    0.62  0.88  0.88]\n",
      " [ 1.    1.    1.    1.    0.75  0.75  0.88]\n",
      " [ 1.    0.75  0.88  1.    1.    0.75  0.75]\n",
      " [ 1.    0.75  0.75  1.    1.    1.    1.  ]\n",
      " [ 1.    1.    0.62  0.88  1.    1.    1.  ]\n",
      " [ 1.    1.    0.75  1.    1.    1.    1.  ]]\n",
      "\n",
      "\n",
      "\n",
      "digit: 1\n",
      "[[ 0.93  0.93  0.86  0.86  0.86  0.93  0.93]\n",
      " [ 0.93  0.93  0.71  0.57  0.57  0.79  0.93]\n",
      " [ 0.93  0.93  0.36  0.21  0.21  0.86  0.93]\n",
      " [ 0.93  0.86  0.21  0.29  0.29  0.86  0.93]\n",
      " [ 0.93  0.93  0.21  0.21  0.29  0.79  0.93]\n",
      " [ 0.93  0.93  0.29  0.14  0.07  0.71  0.93]\n",
      " [ 0.93  0.93  0.93  0.64  0.71  0.71  0.93]]\n",
      "\n",
      "\n",
      "\n",
      "digit: 2\n",
      "[[ 1.    1.    1.    1.    1.    1.    1.  ]\n",
      " [ 1.    1.    1.    1.    1.    1.    1.  ]\n",
      " [ 1.    1.    1.    1.    1.    1.    1.  ]\n",
      " [ 1.    0.75  1.    1.    1.    0.88  0.88]\n",
      " [ 1.    0.75  0.75  0.88  0.88  0.75  0.88]\n",
      " [ 1.    0.75  0.75  0.88  0.88  0.75  0.88]\n",
      " [ 1.    1.    1.    1.    1.    0.88  0.88]]\n",
      "\n",
      "\n",
      "\n",
      "digit: 3\n",
      "[[ 0.91  0.73  0.73  0.91  0.91  0.91  0.91]\n",
      " [ 1.    0.91  0.82  0.82  0.64  0.91  0.91]\n",
      " [ 1.    1.    0.73  0.73  0.27  0.91  0.91]\n",
      " [ 1.    1.    0.91  0.82  0.45  0.82  0.91]\n",
      " [ 1.    1.    1.    1.    0.91  0.91  0.91]\n",
      " [ 1.    1.    1.    1.    0.91  0.91  0.91]\n",
      " [ 0.91  1.    1.    1.    0.91  0.91  1.  ]]\n",
      "\n",
      "\n",
      "\n",
      "digit: 4\n",
      "[[ 1.    1.    1.    1.    1.    0.93  0.93]\n",
      " [ 1.    0.93  0.93  0.93  1.    0.93  0.93]\n",
      " [ 0.79  0.79  0.86  0.86  0.93  0.93  0.93]\n",
      " [ 0.71  0.14  0.    0.21  0.    0.29  0.93]\n",
      " [ 0.86  0.36  0.    0.36  0.5   0.79  0.93]\n",
      " [ 0.93  0.93  0.71  0.71  0.64  0.86  1.  ]\n",
      " [ 1.    1.    1.    1.    1.    1.    1.  ]]\n",
      "\n",
      "\n",
      "\n",
      "digit: 5\n",
      "[[ 1.    0.86  0.86  0.86  0.86  0.86  0.86]\n",
      " [ 1.    1.    0.86  0.86  0.86  0.86  0.86]\n",
      " [ 1.    0.86  0.57  0.71  0.86  0.86  0.86]\n",
      " [ 0.86  0.71  0.71  1.    1.    1.    0.86]\n",
      " [ 1.    1.    1.    1.    1.    0.86  0.86]\n",
      " [ 1.    1.    1.    0.86  0.71  1.    0.86]\n",
      " [ 1.    1.    1.    0.86  0.86  0.86  0.86]]\n",
      "\n",
      "\n",
      "\n",
      "digit: 6\n",
      "[[ 1.   1.   1.   1.   1.   1.   1. ]\n",
      " [ 1.   1.   1.   1.   1.   1.   1. ]\n",
      " [ 1.   1.   1.   1.   1.   1.   1. ]\n",
      " [ 1.   1.   0.9  1.   1.   1.   1. ]\n",
      " [ 1.   0.9  0.5  0.4  0.8  1.   1. ]\n",
      " [ 1.   0.9  0.5  0.6  1.   1.   1. ]\n",
      " [ 1.   1.   0.9  0.9  1.   1.   1. ]]\n",
      "\n",
      "\n",
      "\n",
      "digit: 7\n",
      "[[ 1.    0.93  0.87  0.87  1.    1.    1.  ]\n",
      " [ 1.    0.93  0.87  0.87  0.93  0.93  1.  ]\n",
      " [ 1.    1.    1.    0.8   0.87  0.93  1.  ]\n",
      " [ 1.    1.    1.    1.    0.87  0.87  1.  ]\n",
      " [ 1.    1.    1.    1.    1.    1.    1.  ]\n",
      " [ 1.    1.    1.    1.    1.    1.    1.  ]\n",
      " [ 1.    1.    1.    1.    1.    1.    1.  ]]\n",
      "\n",
      "\n",
      "\n",
      "digit: 8\n",
      "[[ 1.   1.   1.   1.   1.   1.   1. ]\n",
      " [ 1.   1.   1.   1.   1.   1.   1. ]\n",
      " [ 1.   0.5  0.5  0.5  0.5  0.5  1. ]\n",
      " [ 1.   1.   0.5  0.   0.   0.5  0.5]\n",
      " [ 1.   1.   0.5  0.5  1.   1.   1. ]\n",
      " [ 1.   1.   0.5  0.5  1.   1.   1. ]\n",
      " [ 1.   1.   1.   1.   1.   1.   1. ]]\n",
      "\n",
      "\n",
      "\n",
      "digit: 9\n",
      "[[ 1.    1.    0.82  0.27  0.45  0.91  1.  ]\n",
      " [ 1.    0.91  0.64  0.    0.18  0.73  1.  ]\n",
      " [ 0.91  0.73  0.45  0.    0.09  0.73  1.  ]\n",
      " [ 0.91  0.45  0.09  0.27  0.36  0.55  1.  ]\n",
      " [ 1.    1.    0.36  0.36  0.55  0.64  1.  ]\n",
      " [ 1.    1.    0.91  1.    1.    0.91  1.  ]\n",
      " [ 1.    1.    1.    1.    1.    1.    1.  ]]\n",
      "\n",
      "\n",
      "\n"
     ]
    }
   ],
   "source": [
    "N = 100\n",
    "images       = mnist1.test.images[0:N]\n",
    "#print(type(images))\n",
    "print(images.shape)\n",
    "labels0      = mnist0.test.labels[0:N] #one_hot = False\n",
    "labels1      = mnist1.test.labels[0:N] #one_hot = True\n",
    "print(labels1.shape)\n",
    "#########################################################\n",
    "### WARNING\n",
    "#NEVER EVER NANME THE OUTPUT OF AN AVALUATION OF A TENSOR YOUR GRAPH TO THE NAME OF AN EXISTING\n",
    "#TENSOR IN YOUR GRAPH. IT WILL CHANGE THE VALUE OF THAT TENSOR AND CAUSE HUGE PROBLEMS.\n",
    "#SO, HERE WE CHOSE A DIFFERENT NAME FOR THE OUTPUT OF EVALUATIONS OF THE EXISTING TENSORS CORRECT_PREDICTION\n",
    "# AND ACCURACY:\n",
    "#######################################################\n",
    "correct_pred, acc = sess.run([correct_prediction, accuracy],\n",
    "                             feed_dict={x: images, y_: labels1, keep_prob: 1.0})\n",
    "#np.set_printoptions(threshold=np.nan)\n",
    "#print(correct_pred)\n",
    "#print(acc)\n",
    "\n",
    "#here we extract the correctly classified labels for occlusion analysis:\n",
    "imgs_correctly_classified     = images[correct_pred.nonzero()]\n",
    "labels0_correctly_classified  = labels0[correct_pred.nonzero()]\n",
    "labels1_correctly_classified  = labels1[correct_pred.nonzero()]\n",
    "#print(labels_correctly_classified)\n",
    "\n",
    "digitClass_indicies = list_digitClass_indicies(labels0_correctly_classified)\n",
    "strides      = [3, 3]\n",
    "patch_size   = [10, 10]\n",
    "acc_array    = occlusion_accuracy_analysis(patch_size, strides, imgs_correctly_classified,\n",
    "                                       labels1_correctly_classified, list_digitClass_indicies)\n",
    "np.save('acc_array.npy', acc_array)"
   ]
  },
  {
   "cell_type": "code",
   "execution_count": 6,
   "metadata": {},
   "outputs": [],
   "source": [
    "#mnist_patch_occlusion_display"
   ]
  },
  {
   "cell_type": "code",
   "execution_count": 1,
   "metadata": {},
   "outputs": [
    {
     "ename": "NameError",
     "evalue": "name 'imgs_correctly_classified' is not defined",
     "output_type": "error",
     "traceback": [
      "\u001b[0;31m---------------------------------------------------------------------------\u001b[0m",
      "\u001b[0;31mNameError\u001b[0m                                 Traceback (most recent call last)",
      "\u001b[0;32m<ipython-input-1-7d09a8611e88>\u001b[0m in \u001b[0;36m<module>\u001b[0;34m()\u001b[0m\n\u001b[1;32m      5\u001b[0m \u001b[0;34m\u001b[0m\u001b[0m\n\u001b[1;32m      6\u001b[0m \u001b[0mM\u001b[0m                \u001b[0;34m=\u001b[0m \u001b[0;36m2\u001b[0m\u001b[0;31m#number of images for display\u001b[0m\u001b[0;34m\u001b[0m\u001b[0m\n\u001b[0;32m----> 7\u001b[0;31m \u001b[0mtotal_num_images\u001b[0m \u001b[0;34m=\u001b[0m \u001b[0mimgs_correctly_classified\u001b[0m\u001b[0;34m.\u001b[0m\u001b[0mshape\u001b[0m\u001b[0;34m[\u001b[0m\u001b[0;36m0\u001b[0m\u001b[0;34m]\u001b[0m\u001b[0;34m\u001b[0m\u001b[0m\n\u001b[0m\u001b[1;32m      8\u001b[0m \u001b[0mprint\u001b[0m\u001b[0;34m(\u001b[0m\u001b[0mtotal_num_images\u001b[0m\u001b[0;34m)\u001b[0m\u001b[0;34m\u001b[0m\u001b[0m\n\u001b[1;32m      9\u001b[0m \u001b[0msample_indices\u001b[0m   \u001b[0;34m=\u001b[0m \u001b[0mrandom\u001b[0m\u001b[0;34m.\u001b[0m\u001b[0msample\u001b[0m\u001b[0;34m(\u001b[0m\u001b[0mrange\u001b[0m\u001b[0;34m(\u001b[0m\u001b[0;36m1\u001b[0m\u001b[0;34m,\u001b[0m\u001b[0mtotal_num_images\u001b[0m\u001b[0;34m)\u001b[0m\u001b[0;34m,\u001b[0m \u001b[0mM\u001b[0m\u001b[0;34m)\u001b[0m\u001b[0;34m\u001b[0m\u001b[0m\n",
      "\u001b[0;31mNameError\u001b[0m: name 'imgs_correctly_classified' is not defined"
     ]
    }
   ],
   "source": [
    "from stack_occlusions import fixImages_stackOcclusions\n",
    "import random\n",
    "#dimensions of our rectanglur moving occlusion patch\n",
    "\n",
    "\n",
    "M                = 2#number of images for display\n",
    "total_num_images = imgs_correctly_classified.shape[0]\n",
    "print(total_num_images)\n",
    "sample_indices   = random.sample(range(1,total_num_images), M)\n",
    "print(\"sample indices: \", sample_indices)\n",
    "\n",
    "sample_images_placeholder = imgs_correctly_classified [sample_indices]\n",
    "sample_images             = imgs_correctly_classified [sample_indices].reshape((M,28,28))\n",
    "print(sample_images.shape)\n",
    "\n",
    "#patch dimensions\n",
    "w = 10\n",
    "h = 10\n",
    "\n",
    "#sizes of our strides\n",
    "strides2 = strides1 = 3\n",
    "\n",
    "stack_occlusions_array = fixImages_stackOcclusions(sample_images, strides, patch_size)\n",
    "#print(stack_occlusions_array.shape)\n",
    "\n",
    "for i in range(M):\n",
    "    image_stacked_occlusions = stack_occlusions_array[i]\n",
    "    "
   ]
  },
  {
   "cell_type": "code",
   "execution_count": 10,
   "metadata": {},
   "outputs": [
    {
     "name": "stdout",
     "output_type": "stream",
     "text": [
      "[[ 0.  0.  0.  0.  0.  0.  0.  1.  0.  0.]]\n",
      "predicted label: [7]\n",
      "\n",
      "\n",
      "\n",
      "predicted label: [7]\n",
      "\n",
      "\n",
      "\n",
      "predicted label: [7]\n",
      "\n",
      "\n",
      "\n",
      "predicted label: [7]\n",
      "\n",
      "\n",
      "\n",
      "predicted label: [7]\n",
      "\n",
      "\n",
      "\n",
      "predicted label: [7]\n",
      "\n",
      "\n",
      "\n",
      "predicted label: [7]\n",
      "\n",
      "\n",
      "\n",
      "predicted label: [7]\n",
      "\n",
      "\n",
      "\n",
      "predicted label: [7]\n",
      "\n",
      "\n",
      "\n",
      "predicted label: [7]\n",
      "\n",
      "\n",
      "\n",
      "predicted label: [7]\n",
      "\n",
      "\n",
      "\n",
      "predicted label: [7]\n",
      "\n",
      "\n",
      "\n",
      "predicted label: [7]\n",
      "\n",
      "\n",
      "\n",
      "predicted label: [7]\n",
      "\n",
      "\n",
      "\n",
      "predicted label: [7]\n",
      "\n",
      "\n",
      "\n",
      "predicted label: [7]\n",
      "\n",
      "\n",
      "\n",
      "predicted label: [7]\n",
      "\n",
      "\n",
      "\n",
      "predicted label: [7]\n",
      "\n",
      "\n",
      "\n",
      "predicted label: [7]\n",
      "\n",
      "\n",
      "\n",
      "predicted label: [7]\n",
      "\n",
      "\n",
      "\n",
      "predicted label: [7]\n",
      "\n",
      "\n",
      "\n",
      "predicted label: [7]\n",
      "\n",
      "\n",
      "\n",
      "predicted label: [7]\n",
      "\n",
      "\n",
      "\n",
      "predicted label: [7]\n",
      "\n",
      "\n",
      "\n",
      "predicted label: [7]\n",
      "\n",
      "\n",
      "\n",
      "predicted label: [7]\n",
      "\n",
      "\n",
      "\n",
      "predicted label: [7]\n",
      "\n",
      "\n",
      "\n",
      "predicted label: [7]\n",
      "\n",
      "\n",
      "\n",
      "predicted label: [7]\n",
      "\n",
      "\n",
      "\n",
      "predicted label: [7]\n",
      "\n",
      "\n",
      "\n",
      "predicted label: [7]\n",
      "\n",
      "\n",
      "\n",
      "predicted label: [7]\n",
      "\n",
      "\n",
      "\n",
      "predicted label: [7]\n",
      "\n",
      "\n",
      "\n",
      "predicted label: [7]\n",
      "\n",
      "\n",
      "\n",
      "predicted label: [7]\n",
      "\n",
      "\n",
      "\n",
      "predicted label: [7]\n",
      "\n",
      "\n",
      "\n",
      "predicted label: [7]\n",
      "\n",
      "\n",
      "\n",
      "predicted label: [7]\n",
      "\n",
      "\n",
      "\n",
      "predicted label: [7]\n",
      "\n",
      "\n",
      "\n"
     ]
    },
    {
     "name": "stderr",
     "output_type": "stream",
     "text": [
      "/home/alleria/virtualenvs/tensorflow1.4/lib/python3.5/site-packages/matplotlib/pyplot.py:523: RuntimeWarning: More than 20 figures have been opened. Figures created through the pyplot interface (`matplotlib.pyplot.figure`) are retained until explicitly closed and may consume too much memory. (To control this warning, see the rcParam `figure.max_open_warning`).\n",
      "  max_open_warning, RuntimeWarning)\n"
     ]
    },
    {
     "name": "stdout",
     "output_type": "stream",
     "text": [
      "predicted label: [7]\n",
      "\n",
      "\n",
      "\n",
      "predicted label: [7]\n",
      "\n",
      "\n",
      "\n",
      "predicted label: [7]\n",
      "\n",
      "\n",
      "\n",
      "predicted label: [7]\n",
      "\n",
      "\n",
      "\n",
      "predicted label: [7]\n",
      "\n",
      "\n",
      "\n",
      "predicted label: [7]\n",
      "\n",
      "\n",
      "\n",
      "predicted label: [7]\n",
      "\n",
      "\n",
      "\n",
      "predicted label: [7]\n",
      "\n",
      "\n",
      "\n",
      "predicted label: [7]\n",
      "\n",
      "\n",
      "\n",
      "predicted label: [7]\n",
      "\n",
      "\n",
      "\n",
      "49\n"
     ]
    },
    {
     "data": {
      "image/png": "[encoded data removed]",
      "text/plain": [
       "<matplotlib.figure.Figure at 0x7f576e363dd8>"
      ]
     },
     "metadata": {},
     "output_type": "display_data"
    },
    {
     "data": {
      "image/png": "[encoded data removed]",
      "text/plain": [
       "<matplotlib.figure.Figure at 0x7f576e25ffd0>"
      ]
     },
     "metadata": {},
     "output_type": "display_data"
    },
    {
     "data": {
      "text/plain": [
       "<matplotlib.figure.Figure at 0x7f576dc3a710>"
      ]
     },
     "metadata": {},
     "output_type": "display_data"
    },
    {
     "data": {
      "text/plain": [
       "<matplotlib.figure.Figure at 0x7f576dbc2e48>"
      ]
     },
     "metadata": {},
     "output_type": "display_data"
    },
    {
     "data": {
      "text/plain": [
       "<matplotlib.figure.Figure at 0x7f576dbc77f0>"
      ]
     },
     "metadata": {},
     "output_type": "display_data"
    },
    {
     "data": {
      "text/plain": [
       "<matplotlib.figure.Figure at 0x7f576dbcb278>"
      ]
     },
     "metadata": {},
     "output_type": "display_data"
    },
    {
     "data": {
      "text/plain": [
       "<matplotlib.figure.Figure at 0x7f576dbcbcc0>"
      ]
     },
     "metadata": {},
     "output_type": "display_data"
    },
    {
     "data": {
      "text/plain": [
       "<matplotlib.figure.Figure at 0x7f576dbd0780>"
      ]
     },
     "metadata": {},
     "output_type": "display_data"
    },
    {
     "data": {
      "text/plain": [
       "<matplotlib.figure.Figure at 0x7f576dbd61d0>"
      ]
     },
     "metadata": {},
     "output_type": "display_data"
    },
    {
     "data": {
      "text/plain": [
       "<matplotlib.figure.Figure at 0x7f576dbd6c18>"
      ]
     },
     "metadata": {},
     "output_type": "display_data"
    },
    {
     "data": {
      "text/plain": [
       "<matplotlib.figure.Figure at 0x7f576dbdb748>"
      ]
     },
     "metadata": {},
     "output_type": "display_data"
    },
    {
     "data": {
      "text/plain": [
       "<matplotlib.figure.Figure at 0x7f576dbe2128>"
      ]
     },
     "metadata": {},
     "output_type": "display_data"
    },
    {
     "data": {
      "text/plain": [
       "<matplotlib.figure.Figure at 0x7f576dbe2b70>"
      ]
     },
     "metadata": {},
     "output_type": "display_data"
    },
    {
     "data": {
      "text/plain": [
       "<matplotlib.figure.Figure at 0x7f576dbe75f8>"
      ]
     },
     "metadata": {},
     "output_type": "display_data"
    },
    {
     "data": {
      "text/plain": [
       "<matplotlib.figure.Figure at 0x7f576dbec080>"
      ]
     },
     "metadata": {},
     "output_type": "display_data"
    },
    {
     "data": {
      "text/plain": [
       "<matplotlib.figure.Figure at 0x7f576dbecac8>"
      ]
     },
     "metadata": {},
     "output_type": "display_data"
    },
    {
     "data": {
      "text/plain": [
       "<matplotlib.figure.Figure at 0x7f576dbf4668>"
      ]
     },
     "metadata": {},
     "output_type": "display_data"
    },
    {
     "data": {
      "text/plain": [
       "<matplotlib.figure.Figure at 0x7f576dbf8048>"
      ]
     },
     "metadata": {},
     "output_type": "display_data"
    },
    {
     "data": {
      "text/plain": [
       "<matplotlib.figure.Figure at 0x7f576dbf8ac8>"
      ]
     },
     "metadata": {},
     "output_type": "display_data"
    },
    {
     "data": {
      "text/plain": [
       "<matplotlib.figure.Figure at 0x7f576dbfd4a8>"
      ]
     },
     "metadata": {},
     "output_type": "display_data"
    },
    {
     "data": {
      "text/plain": [
       "<matplotlib.figure.Figure at 0x7f576dbfdfd0>"
      ]
     },
     "metadata": {},
     "output_type": "display_data"
    },
    {
     "data": {
      "text/plain": [
       "<matplotlib.figure.Figure at 0x7f576db83a58>"
      ]
     },
     "metadata": {},
     "output_type": "display_data"
    },
    {
     "data": {
      "text/plain": [
       "<matplotlib.figure.Figure at 0x7f576db88400>"
      ]
     },
     "metadata": {},
     "output_type": "display_data"
    },
    {
     "data": {
      "text/plain": [
       "<matplotlib.figure.Figure at 0x7f576db88e48>"
      ]
     },
     "metadata": {},
     "output_type": "display_data"
    },
    {
     "data": {
      "text/plain": [
       "<matplotlib.figure.Figure at 0x7f576db8d8d0>"
      ]
     },
     "metadata": {},
     "output_type": "display_data"
    },
    {
     "data": {
      "text/plain": [
       "<matplotlib.figure.Figure at 0x7f576db91438>"
      ]
     },
     "metadata": {},
     "output_type": "display_data"
    },
    {
     "data": {
      "text/plain": [
       "<matplotlib.figure.Figure at 0x7f576db91da0>"
      ]
     },
     "metadata": {},
     "output_type": "display_data"
    },
    {
     "data": {
      "text/plain": [
       "<matplotlib.figure.Figure at 0x7f576db97828>"
      ]
     },
     "metadata": {},
     "output_type": "display_data"
    },
    {
     "data": {
      "text/plain": [
       "<matplotlib.figure.Figure at 0x7f576db9d2b0>"
      ]
     },
     "metadata": {},
     "output_type": "display_data"
    },
    {
     "data": {
      "text/plain": [
       "<matplotlib.figure.Figure at 0x7f576db9dcf8>"
      ]
     },
     "metadata": {},
     "output_type": "display_data"
    },
    {
     "data": {
      "text/plain": [
       "<matplotlib.figure.Figure at 0x7f576dc1dcf8>"
      ]
     },
     "metadata": {},
     "output_type": "display_data"
    },
    {
     "data": {
      "text/plain": [
       "<matplotlib.figure.Figure at 0x7f576dba3940>"
      ]
     },
     "metadata": {},
     "output_type": "display_data"
    },
    {
     "data": {
      "text/plain": [
       "<matplotlib.figure.Figure at 0x7f576dba9390>"
      ]
     },
     "metadata": {},
     "output_type": "display_data"
    },
    {
     "data": {
      "text/plain": [
       "<matplotlib.figure.Figure at 0x7f576dba9dd8>"
      ]
     },
     "metadata": {},
     "output_type": "display_data"
    },
    {
     "data": {
      "text/plain": [
       "<matplotlib.figure.Figure at 0x7f576dbaf860>"
      ]
     },
     "metadata": {},
     "output_type": "display_data"
    },
    {
     "data": {
      "text/plain": [
       "<matplotlib.figure.Figure at 0x7f576dbb42e8>"
      ]
     },
     "metadata": {},
     "output_type": "display_data"
    },
    {
     "data": {
      "text/plain": [
       "<matplotlib.figure.Figure at 0x7f576dbb4d30>"
      ]
     },
     "metadata": {},
     "output_type": "display_data"
    },
    {
     "data": {
      "text/plain": [
       "<matplotlib.figure.Figure at 0x7f576dbb87b8>"
      ]
     },
     "metadata": {},
     "output_type": "display_data"
    },
    {
     "data": {
      "text/plain": [
       "<matplotlib.figure.Figure at 0x7f574eb7e240>"
      ]
     },
     "metadata": {},
     "output_type": "display_data"
    },
    {
     "data": {
      "text/plain": [
       "<matplotlib.figure.Figure at 0x7f574eb7ec88>"
      ]
     },
     "metadata": {},
     "output_type": "display_data"
    },
    {
     "data": {
      "text/plain": [
       "<matplotlib.figure.Figure at 0x7f574eb83710>"
      ]
     },
     "metadata": {},
     "output_type": "display_data"
    },
    {
     "data": {
      "text/plain": [
       "<matplotlib.figure.Figure at 0x7f574eb88208>"
      ]
     },
     "metadata": {},
     "output_type": "display_data"
    },
    {
     "data": {
      "text/plain": [
       "<matplotlib.figure.Figure at 0x7f576db97588>"
      ]
     },
     "metadata": {},
     "output_type": "display_data"
    },
    {
     "data": {
      "text/plain": [
       "<matplotlib.figure.Figure at 0x7f574eb88eb8>"
      ]
     },
     "metadata": {},
     "output_type": "display_data"
    },
    {
     "data": {
      "text/plain": [
       "<matplotlib.figure.Figure at 0x7f574eb8e940>"
      ]
     },
     "metadata": {},
     "output_type": "display_data"
    },
    {
     "data": {
      "text/plain": [
       "<matplotlib.figure.Figure at 0x7f574eb9a2b0>"
      ]
     },
     "metadata": {},
     "output_type": "display_data"
    },
    {
     "data": {
      "text/plain": [
       "<matplotlib.figure.Figure at 0x7f574eb9acf8>"
      ]
     },
     "metadata": {},
     "output_type": "display_data"
    },
    {
     "data": {
      "text/plain": [
       "<matplotlib.figure.Figure at 0x7f574eb9e780>"
      ]
     },
     "metadata": {},
     "output_type": "display_data"
    },
    {
     "data": {
      "text/plain": [
       "<matplotlib.figure.Figure at 0x7f574eba3208>"
      ]
     },
     "metadata": {},
     "output_type": "display_data"
    },
    {
     "data": {
      "text/plain": [
       "<matplotlib.figure.Figure at 0x7f574eba3c50>"
      ]
     },
     "metadata": {},
     "output_type": "display_data"
    },
    {
     "data": {
      "text/plain": [
       "<matplotlib.figure.Figure at 0x7f574eba86d8>"
      ]
     },
     "metadata": {},
     "output_type": "display_data"
    }
   ],
   "source": [
    "M=1\n",
    "#patch dimensions\n",
    "w = 10\n",
    "h = 10\n",
    "\n",
    "#sizes of our strides\n",
    "strides2 = strides1 = 3\n",
    "\n",
    "for k in range(M):\n",
    "    # a sample image and label\n",
    "    img_placeholder   = imgs_correctly_classified[k].reshape((1,784)) #k is the iterable\n",
    "    img               = img_placeholder.reshape(28,28) \n",
    "    plt.imshow(img, cmap='Greys')\n",
    "    \n",
    "    sample_label0     = labels0_correctly_classified [k] #k is the iterable\n",
    "    sample_label1     = labels1_correctly_classified [k] #k is the iterable\n",
    "    \n",
    "    img_placeholder   = img.reshape((1,784))\n",
    "    label_placeholder = sample_label1.reshape((1,10))\n",
    "    print(label_placeholder)\n",
    "    #true_label        = np.argmax(label_placeholder, axis=1)\n",
    "    #print(\"true accuracy: \", sess.run(accuracy, feed_dict={x:img_placeholder, y_:label_placeholder, keep_prob: 1.0}))\n",
    "\n",
    "    #########################################\n",
    "    #previous strategy!\n",
    "    # we aim to occlude only the nonzero portion of the image which contains essential information\n",
    "    #print(img.nonzero())\n",
    "    #max_r = np.max(img.nonzero(), axis = 1)[0]\n",
    "    #max_c = np.max(img.nonzero(), axis = 1)[1]\n",
    "    #min_r = np.min(img.nonzero(), axis = 1)[0]\n",
    "    #min_c = np.min(img.nonzero(), axis = 1)[1]\n",
    "    # range objects for performing iterations in for loops\n",
    "    #iter_columns    = range(min_r,max_r-w+strides1, strides1)\n",
    "    #iter_rows       = range(min_c, max_c-h+strides2, strides2)\n",
    "    ############################################\n",
    "\n",
    "\n",
    "    ################################################\n",
    "    ##################################################\n",
    "    #Our new strategy\n",
    "    iter_columns = range(0,28-w+strides1,strides1)\n",
    "    iter_rows    = range(0,28-h+strides2, strides2)\n",
    "    ##############################################\n",
    "    ################################################\n",
    "\n",
    "    #total number of possible occlusions in each dimension \n",
    "    num_rows     = len(iter_columns)\n",
    "    num_columns  = len(iter_rows) \n",
    "\n",
    "\n",
    "\n",
    "    # plotting figures of occluded image\n",
    "    fig, axs = plt.subplots(num_rows,num_columns, figsize=(28, 28))\n",
    "    fig.subplots_adjust(hspace = .5, wspace=.001)\n",
    "\n",
    "    axs = axs.ravel()\n",
    "    index = 0\n",
    "    #axs[index].imshow(sample_image, cmap='Greys')\n",
    "    #axs[index].set_title(\"true label \"+ str(true_label))\n",
    "    #index +=1\n",
    "\n",
    "    for i in iter_columns:\n",
    "        for j in iter_rows:\n",
    "\n",
    "            occluded_img = img.copy()\n",
    "            if i == iter_columns[-1]:\n",
    "                occluded_img[i:-1, j:j+h] = 0\n",
    "                #print(range(i, -1), range(j, j+h))\n",
    "            \n",
    "            elif j == iter_rows[-1]:\n",
    "                occluded_img[i:i+w, j:-1] = 0\n",
    "                #print(range(i, i+w), range(j,-1))\n",
    "\n",
    "            else:\n",
    "                occluded_img[i:i+w, j:j+h] = 0\n",
    "                #print(range(i, i+w), range(j,j+w))\n",
    "                \n",
    "            occluded_img_placeholder = occluded_img.reshape((1,784))\n",
    "            fig = plt.figure()\n",
    "\n",
    "            #label_placeholder is the same as the label_placeholder for the original image \n",
    "            net_output      = sess.run(y_conv, \n",
    "                                 feed_dict={x:occluded_img_placeholder, y_:label_placeholder, keep_prob: 1.0})\n",
    "            #print(net_output)\n",
    "            #probs           = sess.run((tf.nn.softmax(net_output)))\n",
    "            #print(probs)\n",
    "            perdicted_label = np.argmax(net_output, axis=1)\n",
    "            print(\"predicted label:\", perdicted_label)\n",
    "            #print(\"accuracy:\", acc)\n",
    "            print(2*'\\n')\n",
    "\n",
    "\n",
    "            axs[index].imshow(occluded_img, cmap='Greys')\n",
    "            axs[index].set_title(\"predicted label: \"+ str(perdicted_label))\n",
    "            index +=1\n",
    "    print(index)"
   ]
  },
  {
   "cell_type": "code",
   "execution_count": null,
   "metadata": {},
   "outputs": [],
   "source": []
  }
 ],
 "metadata": {
  "kernelspec": {
   "display_name": "Python 3",
   "language": "python",
   "name": "python3"
  },
  "language_info": {
   "codemirror_mode": {
    "name": "ipython",
    "version": 3
   },
   "file_extension": ".py",
   "mimetype": "text/x-python",
   "name": "python",
   "nbconvert_exporter": "python",
   "pygments_lexer": "ipython3",
   "version": "3.5.2"
  }
 },
 "nbformat": 4,
 "nbformat_minor": 2
}
