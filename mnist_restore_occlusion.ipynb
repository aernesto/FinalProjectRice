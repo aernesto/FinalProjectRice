{
 "cells": [
  {
   "cell_type": "code",
   "execution_count": 1,
   "metadata": {},
   "outputs": [
    {
     "name": "stdout",
     "output_type": "stream",
     "text": [
      "INFO:tensorflow:Restoring parameters from mnist_trad/mnist_trad.ckpt\n",
      "Model restored from file: mnist_trad/mnist_trad.ckpt\n"
     ]
    }
   ],
   "source": [
    "__author__  = 'kazem_safari'\n",
    "# So here our strategy is basically the same.\n",
    "# First, we load the network model. \n",
    "#Second, we initialize all the tf.global_variables in a completely separate session.\n",
    "    \n",
    "# Lastly, here, instead of updating them with an optimization function and\n",
    "# a training loop, we update them by restoring everything from the previously saved model\n",
    "\n",
    "import tensorflow as tf\n",
    "#from tensorflow.examples.tutorials.mnist import input_data\n",
    "#mnist = input_data.read_data_sets(\"MNIST_data/\", one_hot=True)\n",
    "\n",
    "#This module itself depends on tensorflow:\n",
    "from mnist_helper_functions import param_counter, mnist_inference\n",
    "\n",
    "tf.reset_default_graph()\n",
    "#placeholders\n",
    "x           = tf.placeholder(tf.float32, shape = [None, 784])\n",
    "y_          = tf.placeholder(tf.float32, shape = [None, 10])\n",
    "keep_prob   = tf.placeholder(tf.float32)\n",
    "\n",
    "#reshape the input from 1D-vector to 2D-image \n",
    "x_image     = tf.reshape(x, [-1, 28, 28, 1])\n",
    "\n",
    "#network params and hyperparams\n",
    "nh_pre      = 1    #number of channels input image\n",
    "nh1         = 32   #number of units first convolutional layer\n",
    "nh2         = 64   #number of units second convolutional layer\n",
    "nh3         = 1024 #numebr of units first fully-connected layer\n",
    "num_classes = 10   #number of output classes\n",
    "\n",
    "#building network architecture function\n",
    "[y_conv, cross_entropy, correct_prediction, accuracy] = \\\n",
    "mnist_inference(x_image,y_, keep_prob, nh1, nh2, nh3, num_classes)\n",
    "#############################################################\n",
    "    ###$$$$ Here the first step is completed!\n",
    "#############################################################\n",
    "#here since we are restoring a pre-trained model we DONOT need the optimizer function\n",
    "#with tf.name_scope('adam_optimizer'):\n",
    "#    train_step = tf.train.AdamOptimizer(1e-4).minimize(cross_entropy)\n",
    "\n",
    "##########################################################\n",
    "###########################################################\n",
    "#This intermediate step is crucial:\n",
    "\n",
    "    #i) instantiating an inti tensor\n",
    "    # Add the variable initializer Op.\n",
    "init         = tf.global_variables_initializer()        \n",
    "\n",
    "    #ii) redefining a new instance of a sever object in tensorflow\n",
    "    # Create a saver.\n",
    "saver        = tf.train.Saver()\n",
    "###########################################################\n",
    "###########################################################\n",
    "\n",
    "# path where the results of training are saved\n",
    "model_path   = 'mnist_trad/mnist_trad.ckpt' \n",
    "save_path    = model_path\n",
    "\n",
    "sess = tf.InteractiveSession()\n",
    "#with tf.Session() as sess:\n",
    "####################################################\n",
    "####################################################\n",
    "sess.run(init) \n",
    "###$$$$ Here the second step is completed!\n",
    "####################################################\n",
    "####################################################\n",
    "\n",
    "\n",
    "####################################################\n",
    "####################################################\n",
    "saver.restore(sess, model_path)\n",
    "print(\"Model restored from file: %s\" % save_path)\n",
    "###$$$$ Here the last step is completed!\n",
    "\n",
    "#One key thing to remember, based on what i\n",
    "#have read and what a ta had told me, is that, \n",
    "#to restore a model completely,\n",
    "#so that no part of our model would be missing,\n",
    "#we need to access all these files simultaneously:\n",
    "#####################\n",
    "#mnist_trad.ckpt.meta\n",
    "#mnist_trad.ckpt.index\n",
    "#mnist_trad.ckpt.data-00000-of-00001\n",
    "#checkpoint\n",
    "\n",
    "#And the only way which is possible to do that is\n",
    "#through saver.restore(sess, model_path)\n",
    "#which accesses all these file altogether!\n",
    "########################\n",
    "####################################################\n",
    "####################################################\n",
    "#mnist_trad_restore()"
   ]
  },
  {
   "cell_type": "code",
   "execution_count": null,
   "metadata": {},
   "outputs": [],
   "source": [
    "#mnist_patch_occlusion"
   ]
  },
  {
   "cell_type": "code",
   "execution_count": 2,
   "metadata": {},
   "outputs": [
    {
     "name": "stdout",
     "output_type": "stream",
     "text": [
      "Extracting MNIST_data/train-images-idx3-ubyte.gz\n",
      "Extracting MNIST_data/train-labels-idx1-ubyte.gz\n",
      "Extracting MNIST_data/t10k-images-idx3-ubyte.gz\n",
      "Extracting MNIST_data/t10k-labels-idx1-ubyte.gz\n",
      "Extracting MNIST_data/train-images-idx3-ubyte.gz\n",
      "Extracting MNIST_data/train-labels-idx1-ubyte.gz\n",
      "Extracting MNIST_data/t10k-images-idx3-ubyte.gz\n",
      "Extracting MNIST_data/t10k-labels-idx1-ubyte.gz\n"
     ]
    }
   ],
   "source": [
    "\n",
    "from tensorflow.examples.tutorials.mnist import input_data\n",
    "mnist0 = input_data.read_data_sets(\"MNIST_data/\", one_hot=False)\n",
    "mnist1 = input_data.read_data_sets(\"MNIST_data/\", one_hot=True)\n",
    "\n",
    "import numpy as np\n",
    "import matplotlib.pyplot as plt\n",
    "%matplotlib inline"
   ]
  },
  {
   "cell_type": "code",
   "execution_count": 3,
   "metadata": {},
   "outputs": [],
   "source": [
    "N = 1000\n",
    "images       = mnist1.test.images[0:N]\n",
    "labels0      = mnist0.test.labels[0:N] #one_hot = False\n",
    "labels1      = mnist1.test.labels[0:N] #one_hot = True\n",
    "correct_prediction, accuracy = \\\n",
    "sess.run([correct_prediction, accuracy], feed_dict={x: images, y_: labels1, keep_prob: 1.0})\n",
    "\n",
    "#np.set_printoptions(threshold=np.nan)\n",
    "#print(correct_prediction)\n",
    "#print(accuracy)"
   ]
  },
  {
   "cell_type": "code",
   "execution_count": 4,
   "metadata": {},
   "outputs": [
    {
     "name": "stdout",
     "output_type": "stream",
     "text": [
      "[(array([  3,  10,  13,  25,  28,  55,  69,  71, 101, 126, 136, 148, 157,\n",
      "       183, 188, 192, 194, 215, 246, 268, 270, 293, 295, 296, 304, 310,\n",
      "       311, 321, 324, 343, 362, 369, 377, 404, 421, 437, 438, 440, 452,\n",
      "       478, 483, 490, 517, 537, 538, 544, 553, 556, 558, 571, 575, 580,\n",
      "       585, 596, 599, 606, 628, 630, 642, 646, 685, 688, 696, 702, 704,\n",
      "       722, 730, 743, 774, 784, 801, 824, 829, 832, 849, 861, 872, 873,\n",
      "       881, 908, 946, 955, 967, 971]),), (array([  2,   5,  14,  29,  31,  37,  39,  40,  46,  57,  74,  89,  94,\n",
      "        96, 107, 135, 137, 143, 145, 154, 168, 176, 178, 180, 189, 190,\n",
      "       191, 196, 202, 203, 204, 224, 228, 239, 251, 264, 266, 271, 275,\n",
      "       278, 287, 301, 313, 326, 327, 329, 339, 342, 345, 347, 351, 354,\n",
      "       374, 375, 382, 385, 390, 406, 413, 416, 424, 427, 448, 466, 469,\n",
      "       473, 482, 496, 498, 515, 521, 529, 573, 602, 626, 633, 638, 648,\n",
      "       657, 660, 667, 679, 680, 684, 699, 706, 716, 725, 729, 734, 735,\n",
      "       747, 748, 752, 757, 763, 770, 778, 789, 798, 804, 806, 811, 815,\n",
      "       816, 819, 826, 828, 866, 877, 884, 895, 897, 905, 923, 924, 931,\n",
      "       938, 939, 941, 951, 953, 958, 962, 968]),), (array([  1,  35,  38,  43,  47,  72,  77,  82, 106, 119, 147, 149, 172,\n",
      "       174, 186, 199, 208, 221, 222, 225, 236, 237, 244, 249, 256, 258,\n",
      "       277, 279, 284, 290, 292, 297, 302, 305, 323, 328, 359, 360, 368,\n",
      "       384, 387, 393, 397, 401, 415, 418, 420, 445, 449, 460, 470, 485,\n",
      "       495, 504, 505, 508, 528, 531, 539, 541, 572, 597, 600, 610, 615,\n",
      "       618, 619, 621, 629, 632, 639, 674, 698, 709, 712, 719, 721, 724,\n",
      "       744, 755, 776, 779, 796, 803, 808, 810, 817, 836, 841, 845, 846,\n",
      "       851, 853, 865, 868, 869, 882, 896, 898, 899, 901, 915, 921, 948,\n",
      "       949, 954, 959, 964, 969, 970]),), (array([ 18,  30,  32,  44,  51,  63,  68,  76,  87,  90,  93, 112, 142,\n",
      "       158, 173, 195, 200, 205, 213, 216, 230, 231, 245, 269, 308, 309,\n",
      "       312, 320, 331, 332, 340, 346, 366, 378, 379, 399, 405, 434, 439,\n",
      "       442, 443, 444, 446, 457, 486, 492, 497, 499, 507, 516, 518, 520,\n",
      "       523, 540, 560, 563, 564, 566, 567, 568, 579, 583, 601, 614, 623,\n",
      "       634, 643, 654, 662, 668, 670, 671, 683, 708, 715, 727, 733, 760,\n",
      "       762, 772, 775, 781, 787, 788, 791, 795, 799, 825, 827, 833, 843,\n",
      "       860, 864, 867, 871, 889, 900, 902, 903, 909, 914, 920, 932, 933,\n",
      "       950, 956, 965]),), (array([  4,   6,  19,  24,  27,  33,  42,  48,  49,  56,  65,  67,  85,\n",
      "        95, 103, 109, 115, 116, 117, 121, 139, 159, 160, 163, 166, 169,\n",
      "       170, 198, 210, 227, 238, 247, 248, 250, 274, 286, 294, 299, 303,\n",
      "       307, 322, 357, 373, 376, 395, 396, 402, 417, 422, 425, 429, 468,\n",
      "       477, 489, 503, 511, 524, 525, 527, 533, 536, 547, 548, 578, 598,\n",
      "       608, 645, 653, 655, 681, 682, 691, 695, 701, 703, 717, 728, 732,\n",
      "       737, 740, 742, 745, 750, 754, 756, 764, 769, 782, 783, 807, 809,\n",
      "       818, 822, 878, 879, 885, 887, 893, 907, 928, 934, 942, 943, 945]),), (array([  8,  15,  23,  45,  52,  53,  59, 102, 120, 127, 129, 132, 152,\n",
      "       153, 155, 162, 165, 167, 182, 187, 207, 211, 218, 219, 240, 253,\n",
      "       260, 282, 288, 316, 317, 330, 337, 344, 348, 349, 353, 361, 364,\n",
      "       372, 392, 394, 403, 409, 430, 453, 462, 471, 476, 484, 494, 501,\n",
      "       510, 532, 561, 577, 592, 605, 624, 631, 640, 659, 676, 678, 693,\n",
      "       694, 720, 731, 746, 758, 759, 765, 771, 777, 792, 834, 835, 844,\n",
      "       847, 874, 910, 911, 926, 930, 944, 952]),), (array([ 11,  21,  22,  50,  54,  66,  81,  88,  91,  98, 100, 123, 130,\n",
      "       131, 138, 140, 156, 161, 164, 197, 201, 217, 285, 315, 336, 338,\n",
      "       350, 358, 363, 365, 381, 383, 389, 436, 441, 450, 454, 455, 456,\n",
      "       465, 491, 500, 506, 509, 526, 551, 557, 559, 576, 582, 588, 590,\n",
      "       595, 609, 611, 636, 650, 665, 672, 705, 710, 713, 718, 723, 749,\n",
      "       766, 794, 797, 800, 814, 838, 839, 848, 862, 863, 880, 913, 916,\n",
      "       918, 919, 927, 947, 960, 963]),), (array([  0,  17,  26,  34,  36,  41,  60,  64,  70,  75,  79,  80,  83,\n",
      "        86,  97, 111, 114, 122, 124, 133, 141, 144, 171, 175, 220, 223,\n",
      "       229, 234, 243, 254, 255, 261, 262, 281, 300, 306, 325, 334, 355,\n",
      "       367, 380, 407, 408, 410, 412, 435, 461, 475, 487, 502, 514, 542,\n",
      "       543, 546, 549, 569, 574, 593, 604, 612, 622, 635, 637, 644, 651,\n",
      "       652, 661, 664, 673, 686, 687, 689, 707, 711, 726, 736, 751, 790,\n",
      "       802, 805, 812, 820, 821, 830, 831, 837, 858, 875, 886, 888, 894,\n",
      "       906, 917, 922, 925, 935, 961]),), (array([ 61,  84, 110, 128, 134, 146, 177, 179, 181, 184, 226, 232, 233,\n",
      "       242, 257, 259, 265, 267, 276, 289, 298, 335, 341, 352, 370, 371,\n",
      "       388, 398, 400, 426, 428, 432, 433, 451, 458, 459, 463, 467, 479,\n",
      "       512, 519, 530, 534, 535, 545, 555, 562, 570, 584, 589, 591, 594,\n",
      "       607, 617, 627, 641, 649, 669, 675, 677, 692, 697, 700, 741, 761,\n",
      "       767, 773, 780, 785, 786, 823, 842, 850, 854, 855, 856, 857, 876,\n",
      "       891, 892, 912, 936, 957, 972]),), (array([  7,   9,  12,  16,  20,  58,  62,  73,  78,  92,  99, 104, 105,\n",
      "       108, 113, 118, 125, 150, 151, 185, 193, 206, 209, 212, 214, 235,\n",
      "       241, 252, 263, 272, 273, 280, 283, 291, 314, 318, 319, 333, 356,\n",
      "       386, 391, 411, 414, 419, 423, 431, 447, 464, 472, 474, 480, 481,\n",
      "       488, 493, 513, 522, 550, 552, 554, 565, 581, 586, 587, 603, 613,\n",
      "       616, 620, 625, 647, 656, 658, 663, 666, 690, 714, 738, 739, 753,\n",
      "       768, 793, 813, 840, 852, 859, 870, 883, 890, 904, 929, 937, 940,\n",
      "       966, 973]),)]\n"
     ]
    }
   ],
   "source": [
    "#correct_prediction = correct_prediction.reshape((1,N))\n",
    "#print(type(correct_prediction))\n",
    "#print(correct_prediction.dtype)\n",
    "#print(correct_prediction.shape)\n",
    "#print(correct_prediction)\n",
    "#print(correct_prediction.nonzero())\n",
    "\n",
    "#here we extract the correctly classified labels for occlusion analysis:\n",
    "imgs_correctly_classified    = images[correct_prediction.nonzero()]\n",
    "labels0_correctly_classified  = labels0[correct_prediction.nonzero()]\n",
    "labels1_correctly_classified  = labels1[correct_prediction.nonzero()]\n",
    "#print(labels_correctly_classified)\n",
    "\n",
    "#here we extract the indicies of each class from labels_correctly_classified\n",
    "list_digitclass_indicies =[]\n",
    "for i in range(10):\n",
    "    digitclass = np.nonzero(labels0_correctly_classified==i)\n",
    "    #print(digitclass)\n",
    "    list_digitclass_indicies.append(digitclass)\n",
    "\n",
    "\n",
    "print(list_digitclass_indicies)\n",
    "\n"
   ]
  },
  {
   "cell_type": "code",
   "execution_count": 13,
   "metadata": {},
   "outputs": [
    {
     "name": "stdout",
     "output_type": "stream",
     "text": [
      "[[ 0.  0.  0.  0.  0.  0.  0.  1.  0.  0.]]\n",
      "predicted label: [7]\n",
      "\n",
      "\n",
      "\n",
      "predicted label: [7]\n",
      "\n",
      "\n",
      "\n",
      "predicted label: [5]\n",
      "\n",
      "\n",
      "\n",
      "predicted label: [7]\n",
      "\n",
      "\n",
      "\n",
      "predicted label: [7]\n",
      "\n",
      "\n",
      "\n",
      "predicted label: [7]\n",
      "\n",
      "\n",
      "\n",
      "predicted label: [7]\n",
      "\n",
      "\n",
      "\n",
      "predicted label: [7]\n",
      "\n",
      "\n",
      "\n",
      "predicted label: [5]\n",
      "\n",
      "\n",
      "\n",
      "predicted label: [7]\n",
      "\n",
      "\n",
      "\n",
      "predicted label: [7]\n",
      "\n",
      "\n",
      "\n",
      "predicted label: [7]\n",
      "\n",
      "\n",
      "\n",
      "predicted label: [7]\n",
      "\n",
      "\n",
      "\n",
      "predicted label: [7]\n",
      "\n",
      "\n",
      "\n",
      "predicted label: [5]\n",
      "\n",
      "\n",
      "\n",
      "predicted label: [7]\n",
      "\n",
      "\n",
      "\n",
      "predicted label: [7]\n",
      "\n",
      "\n",
      "\n",
      "predicted label: [7]\n",
      "\n",
      "\n",
      "\n",
      "predicted label: [7]\n",
      "\n",
      "\n",
      "\n",
      "predicted label: [7]\n",
      "\n",
      "\n",
      "\n",
      "predicted label: [7]\n",
      "\n",
      "\n",
      "\n",
      "predicted label: [7]\n",
      "\n",
      "\n",
      "\n",
      "predicted label: [7]\n",
      "\n",
      "\n",
      "\n",
      "predicted label: [7]\n",
      "\n",
      "\n",
      "\n",
      "predicted label: [7]\n",
      "\n",
      "\n",
      "\n",
      "predicted label: [7]\n",
      "\n",
      "\n",
      "\n",
      "predicted label: [7]\n",
      "\n",
      "\n",
      "\n",
      "predicted label: [7]\n",
      "\n",
      "\n",
      "\n",
      "predicted label: [7]\n",
      "\n",
      "\n",
      "\n",
      "predicted label: [7]\n",
      "\n",
      "\n",
      "\n",
      "predicted label: [7]\n",
      "\n",
      "\n",
      "\n",
      "predicted label: [7]\n",
      "\n",
      "\n",
      "\n",
      "predicted label: [7]\n",
      "\n",
      "\n",
      "\n",
      "predicted label: [7]\n",
      "\n",
      "\n",
      "\n",
      "predicted label: [7]\n",
      "\n",
      "\n",
      "\n",
      "predicted label: [7]\n",
      "\n",
      "\n",
      "\n",
      "36\n"
     ]
    },
    {
     "name": "stderr",
     "output_type": "stream",
     "text": [
      "/home/alleria/virtualenvs/tensorflow1.4/lib/python3.5/site-packages/matplotlib/pyplot.py:523: RuntimeWarning: More than 20 figures have been opened. Figures created through the pyplot interface (`matplotlib.pyplot.figure`) are retained until explicitly closed and may consume too much memory. (To control this warning, see the rcParam `figure.max_open_warning`).\n",
      "  max_open_warning, RuntimeWarning)\n"
     ]
    },
    {
     "name": "stdout",
     "output_type": "stream",
     "text": [
      "[[ 0.  0.  1.  0.  0.  0.  0.  0.  0.  0.]]\n",
      "predicted label: [2]\n",
      "\n",
      "\n",
      "\n",
      "predicted label: [2]\n",
      "\n",
      "\n",
      "\n",
      "predicted label: [2]\n",
      "\n",
      "\n",
      "\n",
      "predicted label: [2]\n",
      "\n",
      "\n",
      "\n",
      "predicted label: [2]\n",
      "\n",
      "\n",
      "\n",
      "predicted label: [2]\n",
      "\n",
      "\n",
      "\n",
      "predicted label: [2]\n",
      "\n",
      "\n",
      "\n",
      "predicted label: [2]\n",
      "\n",
      "\n",
      "\n",
      "predicted label: [2]\n",
      "\n",
      "\n",
      "\n",
      "predicted label: [2]\n",
      "\n",
      "\n",
      "\n",
      "predicted label: [2]\n",
      "\n",
      "\n",
      "\n",
      "predicted label: [2]\n",
      "\n",
      "\n",
      "\n",
      "predicted label: [2]\n",
      "\n",
      "\n",
      "\n",
      "predicted label: [2]\n",
      "\n",
      "\n",
      "\n",
      "predicted label: [2]\n",
      "\n",
      "\n",
      "\n",
      "predicted label: [2]\n",
      "\n",
      "\n",
      "\n",
      "predicted label: [2]\n",
      "\n",
      "\n",
      "\n",
      "predicted label: [2]\n",
      "\n",
      "\n",
      "\n",
      "predicted label: [2]\n",
      "\n",
      "\n",
      "\n",
      "predicted label: [2]\n",
      "\n",
      "\n",
      "\n",
      "predicted label: [2]\n",
      "\n",
      "\n",
      "\n",
      "predicted label: [2]\n",
      "\n",
      "\n",
      "\n",
      "predicted label: [2]\n",
      "\n",
      "\n",
      "\n",
      "predicted label: [2]\n",
      "\n",
      "\n",
      "\n",
      "predicted label: [2]\n",
      "\n",
      "\n",
      "\n",
      "predicted label: [2]\n",
      "\n",
      "\n",
      "\n",
      "predicted label: [2]\n",
      "\n",
      "\n",
      "\n",
      "predicted label: [2]\n",
      "\n",
      "\n",
      "\n",
      "predicted label: [2]\n",
      "\n",
      "\n",
      "\n",
      "predicted label: [2]\n",
      "\n",
      "\n",
      "\n",
      "predicted label: [2]\n",
      "\n",
      "\n",
      "\n",
      "predicted label: [2]\n",
      "\n",
      "\n",
      "\n",
      "predicted label: [2]\n",
      "\n",
      "\n",
      "\n",
      "predicted label: [2]\n",
      "\n",
      "\n",
      "\n",
      "predicted label: [2]\n",
      "\n",
      "\n",
      "\n",
      "predicted label: [2]\n",
      "\n",
      "\n",
      "\n",
      "36\n",
      "[[ 0.  1.  0.  0.  0.  0.  0.  0.  0.  0.]]\n",
      "predicted label: [1]\n",
      "\n",
      "\n",
      "\n",
      "predicted label: [1]\n",
      "\n",
      "\n",
      "\n",
      "predicted label: [1]\n",
      "\n",
      "\n",
      "\n",
      "predicted label: [1]\n",
      "\n",
      "\n",
      "\n",
      "predicted label: [1]\n",
      "\n",
      "\n",
      "\n",
      "predicted label: [1]\n",
      "\n",
      "\n",
      "\n",
      "predicted label: [1]\n",
      "\n",
      "\n",
      "\n",
      "predicted label: [6]\n",
      "\n",
      "\n",
      "\n",
      "predicted label: [2]\n",
      "\n",
      "\n",
      "\n",
      "predicted label: [2]\n",
      "\n",
      "\n",
      "\n",
      "predicted label: [2]\n",
      "\n",
      "\n",
      "\n",
      "predicted label: [1]\n",
      "\n",
      "\n",
      "\n",
      "predicted label: [3]\n",
      "\n",
      "\n",
      "\n",
      "predicted label: [5]\n",
      "\n",
      "\n",
      "\n",
      "predicted label: [5]\n",
      "\n",
      "\n",
      "\n",
      "predicted label: [5]\n",
      "\n",
      "\n",
      "\n",
      "predicted label: [5]\n",
      "\n",
      "\n",
      "\n",
      "predicted label: [1]\n",
      "\n",
      "\n",
      "\n",
      "predicted label: [3]\n",
      "\n",
      "\n",
      "\n",
      "predicted label: [3]\n",
      "\n",
      "\n",
      "\n",
      "predicted label: [3]\n",
      "\n",
      "\n",
      "\n",
      "predicted label: [3]\n",
      "\n",
      "\n",
      "\n",
      "predicted label: [5]\n",
      "\n",
      "\n",
      "\n",
      "predicted label: [1]\n",
      "\n",
      "\n",
      "\n",
      "predicted label: [3]\n",
      "\n",
      "\n",
      "\n",
      "predicted label: [3]\n",
      "\n",
      "\n",
      "\n",
      "predicted label: [3]\n",
      "\n",
      "\n",
      "\n",
      "predicted label: [3]\n",
      "\n",
      "\n",
      "\n",
      "predicted label: [3]\n",
      "\n",
      "\n",
      "\n",
      "predicted label: [1]\n",
      "\n",
      "\n",
      "\n",
      "predicted label: [3]\n",
      "\n",
      "\n",
      "\n",
      "predicted label: [3]\n",
      "\n",
      "\n",
      "\n",
      "predicted label: [3]\n",
      "\n",
      "\n",
      "\n",
      "predicted label: [3]\n",
      "\n",
      "\n",
      "\n",
      "predicted label: [3]\n",
      "\n",
      "\n",
      "\n",
      "predicted label: [1]\n",
      "\n",
      "\n",
      "\n",
      "36\n",
      "[[ 1.  0.  0.  0.  0.  0.  0.  0.  0.  0.]]\n",
      "predicted label: [0]\n",
      "\n",
      "\n",
      "\n",
      "predicted label: [0]\n",
      "\n",
      "\n",
      "\n",
      "predicted label: [6]\n",
      "\n",
      "\n",
      "\n",
      "predicted label: [6]\n",
      "\n",
      "\n",
      "\n",
      "predicted label: [6]\n",
      "\n",
      "\n",
      "\n",
      "predicted label: [0]\n",
      "\n",
      "\n",
      "\n",
      "predicted label: [0]\n",
      "\n",
      "\n",
      "\n",
      "predicted label: [0]\n",
      "\n",
      "\n",
      "\n",
      "predicted label: [6]\n",
      "\n",
      "\n",
      "\n",
      "predicted label: [6]\n",
      "\n",
      "\n",
      "\n",
      "predicted label: [6]\n",
      "\n",
      "\n",
      "\n",
      "predicted label: [0]\n",
      "\n",
      "\n",
      "\n",
      "predicted label: [3]\n",
      "\n",
      "\n",
      "\n",
      "predicted label: [3]\n",
      "\n",
      "\n",
      "\n",
      "predicted label: [0]\n",
      "\n",
      "\n",
      "\n",
      "predicted label: [0]\n",
      "\n",
      "\n",
      "\n",
      "predicted label: [0]\n",
      "\n",
      "\n",
      "\n",
      "predicted label: [0]\n",
      "\n",
      "\n",
      "\n",
      "predicted label: [7]\n",
      "\n",
      "\n",
      "\n",
      "predicted label: [7]\n",
      "\n",
      "\n",
      "\n",
      "predicted label: [7]\n",
      "\n",
      "\n",
      "\n",
      "predicted label: [0]\n",
      "\n",
      "\n",
      "\n",
      "predicted label: [0]\n",
      "\n",
      "\n",
      "\n",
      "predicted label: [0]\n",
      "\n",
      "\n",
      "\n",
      "predicted label: [7]\n",
      "\n",
      "\n",
      "\n",
      "predicted label: [7]\n",
      "\n",
      "\n",
      "\n",
      "predicted label: [7]\n",
      "\n",
      "\n",
      "\n",
      "predicted label: [7]\n",
      "\n",
      "\n",
      "\n",
      "predicted label: [0]\n",
      "\n",
      "\n",
      "\n",
      "predicted label: [0]\n",
      "\n",
      "\n",
      "\n",
      "predicted label: [7]\n",
      "\n",
      "\n",
      "\n",
      "predicted label: [7]\n",
      "\n",
      "\n",
      "\n",
      "predicted label: [7]\n",
      "\n",
      "\n",
      "\n",
      "predicted label: [0]\n",
      "\n",
      "\n",
      "\n",
      "predicted label: [0]\n",
      "\n",
      "\n",
      "\n",
      "predicted label: [0]\n",
      "\n",
      "\n",
      "\n",
      "36\n",
      "[[ 0.  0.  0.  0.  1.  0.  0.  0.  0.  0.]]\n",
      "predicted label: [4]\n",
      "\n",
      "\n",
      "\n",
      "predicted label: [4]\n",
      "\n",
      "\n",
      "\n",
      "predicted label: [4]\n",
      "\n",
      "\n",
      "\n",
      "predicted label: [4]\n",
      "\n",
      "\n",
      "\n",
      "predicted label: [4]\n",
      "\n",
      "\n",
      "\n",
      "predicted label: [4]\n",
      "\n",
      "\n",
      "\n",
      "predicted label: [4]\n",
      "\n",
      "\n",
      "\n",
      "predicted label: [4]\n",
      "\n",
      "\n",
      "\n",
      "predicted label: [3]\n",
      "\n",
      "\n",
      "\n",
      "predicted label: [4]\n",
      "\n",
      "\n",
      "\n",
      "predicted label: [9]\n",
      "\n",
      "\n",
      "\n",
      "predicted label: [9]\n",
      "\n",
      "\n",
      "\n",
      "predicted label: [4]\n",
      "\n",
      "\n",
      "\n",
      "predicted label: [3]\n",
      "\n",
      "\n",
      "\n",
      "predicted label: [3]\n",
      "\n",
      "\n",
      "\n",
      "predicted label: [4]\n",
      "\n",
      "\n",
      "\n",
      "predicted label: [9]\n",
      "\n",
      "\n",
      "\n",
      "predicted label: [9]\n",
      "\n",
      "\n",
      "\n",
      "predicted label: [7]\n",
      "\n",
      "\n",
      "\n",
      "predicted label: [7]\n",
      "\n",
      "\n",
      "\n",
      "predicted label: [7]\n",
      "\n",
      "\n",
      "\n",
      "predicted label: [5]\n",
      "\n",
      "\n",
      "\n",
      "predicted label: [9]\n",
      "\n",
      "\n",
      "\n",
      "predicted label: [9]\n",
      "\n",
      "\n",
      "\n",
      "predicted label: [7]\n",
      "\n",
      "\n",
      "\n",
      "predicted label: [7]\n",
      "\n",
      "\n",
      "\n",
      "predicted label: [7]\n",
      "\n",
      "\n",
      "\n",
      "predicted label: [7]\n",
      "\n",
      "\n",
      "\n",
      "predicted label: [9]\n",
      "\n",
      "\n",
      "\n",
      "predicted label: [4]\n",
      "\n",
      "\n",
      "\n",
      "predicted label: [4]\n",
      "\n",
      "\n",
      "\n",
      "predicted label: [4]\n",
      "\n",
      "\n",
      "\n",
      "predicted label: [7]\n",
      "\n",
      "\n",
      "\n",
      "predicted label: [4]\n",
      "\n",
      "\n",
      "\n",
      "predicted label: [4]\n",
      "\n",
      "\n",
      "\n",
      "predicted label: [4]\n",
      "\n",
      "\n",
      "\n",
      "36\n",
      "[[ 0.  1.  0.  0.  0.  0.  0.  0.  0.  0.]]\n",
      "predicted label: [1]\n",
      "\n",
      "\n",
      "\n",
      "predicted label: [8]\n",
      "\n",
      "\n",
      "\n",
      "predicted label: [2]\n",
      "\n",
      "\n",
      "\n",
      "predicted label: [2]\n",
      "\n",
      "\n",
      "\n",
      "predicted label: [2]\n",
      "\n",
      "\n",
      "\n",
      "predicted label: [1]\n",
      "\n",
      "\n",
      "\n",
      "predicted label: [1]\n",
      "\n",
      "\n",
      "\n",
      "predicted label: [5]\n",
      "\n",
      "\n",
      "\n",
      "predicted label: [2]\n",
      "\n",
      "\n",
      "\n",
      "predicted label: [2]\n",
      "\n",
      "\n",
      "\n",
      "predicted label: [2]\n",
      "\n",
      "\n",
      "\n",
      "predicted label: [1]\n",
      "\n",
      "\n",
      "\n",
      "predicted label: [3]\n",
      "\n",
      "\n",
      "\n",
      "predicted label: [5]\n",
      "\n",
      "\n",
      "\n",
      "predicted label: [5]\n",
      "\n",
      "\n",
      "\n",
      "predicted label: [5]\n",
      "\n",
      "\n",
      "\n",
      "predicted label: [5]\n",
      "\n",
      "\n",
      "\n",
      "predicted label: [1]\n",
      "\n",
      "\n",
      "\n",
      "predicted label: [3]\n",
      "\n",
      "\n",
      "\n",
      "predicted label: [7]\n",
      "\n",
      "\n",
      "\n",
      "predicted label: [7]\n",
      "\n",
      "\n",
      "\n",
      "predicted label: [7]\n",
      "\n",
      "\n",
      "\n",
      "predicted label: [5]\n",
      "\n",
      "\n",
      "\n",
      "predicted label: [8]\n",
      "\n",
      "\n",
      "\n",
      "predicted label: [3]\n",
      "\n",
      "\n",
      "\n",
      "predicted label: [3]\n",
      "\n",
      "\n",
      "\n",
      "predicted label: [3]\n",
      "\n",
      "\n",
      "\n",
      "predicted label: [3]\n",
      "\n",
      "\n",
      "\n",
      "predicted label: [3]\n",
      "\n",
      "\n",
      "\n",
      "predicted label: [1]\n",
      "\n",
      "\n",
      "\n",
      "predicted label: [3]\n",
      "\n",
      "\n",
      "\n",
      "predicted label: [3]\n",
      "\n",
      "\n",
      "\n",
      "predicted label: [3]\n",
      "\n",
      "\n",
      "\n",
      "predicted label: [3]\n",
      "\n",
      "\n",
      "\n",
      "predicted label: [3]\n",
      "\n",
      "\n",
      "\n",
      "predicted label: [1]\n",
      "\n",
      "\n",
      "\n",
      "36\n",
      "[[ 0.  0.  0.  0.  1.  0.  0.  0.  0.  0.]]\n",
      "predicted label: [8]\n",
      "\n",
      "\n",
      "\n",
      "predicted label: [8]\n",
      "\n",
      "\n",
      "\n",
      "predicted label: [5]\n",
      "\n",
      "\n",
      "\n",
      "predicted label: [4]\n",
      "\n",
      "\n",
      "\n",
      "predicted label: [4]\n",
      "\n",
      "\n",
      "\n",
      "predicted label: [4]\n",
      "\n",
      "\n",
      "\n",
      "predicted label: [8]\n",
      "\n",
      "\n",
      "\n",
      "predicted label: [8]\n",
      "\n",
      "\n",
      "\n",
      "predicted label: [5]\n",
      "\n",
      "\n",
      "\n",
      "predicted label: [5]\n",
      "\n",
      "\n",
      "\n",
      "predicted label: [5]\n",
      "\n",
      "\n",
      "\n",
      "predicted label: [4]\n",
      "\n",
      "\n",
      "\n",
      "predicted label: [8]\n",
      "\n",
      "\n",
      "\n",
      "predicted label: [8]\n",
      "\n",
      "\n",
      "\n",
      "predicted label: [5]\n",
      "\n",
      "\n",
      "\n",
      "predicted label: [5]\n",
      "\n",
      "\n",
      "\n",
      "predicted label: [5]\n",
      "\n",
      "\n",
      "\n",
      "predicted label: [5]\n",
      "\n",
      "\n",
      "\n",
      "predicted label: [7]\n",
      "\n",
      "\n",
      "\n",
      "predicted label: [7]\n",
      "\n",
      "\n",
      "\n",
      "predicted label: [7]\n",
      "\n",
      "\n",
      "\n",
      "predicted label: [5]\n",
      "\n",
      "\n",
      "\n",
      "predicted label: [5]\n",
      "\n",
      "\n",
      "\n",
      "predicted label: [5]\n",
      "\n",
      "\n",
      "\n",
      "predicted label: [8]\n",
      "\n",
      "\n",
      "\n",
      "predicted label: [7]\n",
      "\n",
      "\n",
      "\n",
      "predicted label: [7]\n",
      "\n",
      "\n",
      "\n",
      "predicted label: [7]\n",
      "\n",
      "\n",
      "\n",
      "predicted label: [4]\n",
      "\n",
      "\n",
      "\n",
      "predicted label: [4]\n",
      "\n",
      "\n",
      "\n",
      "predicted label: [4]\n",
      "\n",
      "\n",
      "\n",
      "predicted label: [4]\n",
      "\n",
      "\n",
      "\n",
      "predicted label: [4]\n",
      "\n",
      "\n",
      "\n",
      "predicted label: [4]\n",
      "\n",
      "\n",
      "\n",
      "predicted label: [4]\n",
      "\n",
      "\n",
      "\n",
      "predicted label: [4]\n",
      "\n",
      "\n",
      "\n",
      "36\n",
      "[[ 0.  0.  0.  0.  0.  0.  0.  0.  0.  1.]]\n",
      "predicted label: [2]\n",
      "\n",
      "\n",
      "\n",
      "predicted label: [2]\n",
      "\n",
      "\n",
      "\n",
      "predicted label: [2]\n",
      "\n",
      "\n",
      "\n",
      "predicted label: [4]\n",
      "\n",
      "\n",
      "\n",
      "predicted label: [4]\n",
      "\n",
      "\n",
      "\n",
      "predicted label: [9]\n",
      "\n",
      "\n",
      "\n",
      "predicted label: [9]\n",
      "\n",
      "\n",
      "\n",
      "predicted label: [2]\n",
      "\n",
      "\n",
      "\n",
      "predicted label: [2]\n",
      "\n",
      "\n",
      "\n",
      "predicted label: [2]\n",
      "\n",
      "\n",
      "\n",
      "predicted label: [4]\n",
      "\n",
      "\n",
      "\n",
      "predicted label: [9]\n",
      "\n",
      "\n",
      "\n",
      "predicted label: [9]\n",
      "\n",
      "\n",
      "\n",
      "predicted label: [2]\n",
      "\n",
      "\n",
      "\n",
      "predicted label: [2]\n",
      "\n",
      "\n",
      "\n",
      "predicted label: [2]\n",
      "\n",
      "\n",
      "\n",
      "predicted label: [4]\n",
      "\n",
      "\n",
      "\n",
      "predicted label: [9]\n",
      "\n",
      "\n",
      "\n",
      "predicted label: [9]\n",
      "\n",
      "\n",
      "\n",
      "predicted label: [2]\n",
      "\n",
      "\n",
      "\n",
      "predicted label: [2]\n",
      "\n",
      "\n",
      "\n",
      "predicted label: [9]\n",
      "\n",
      "\n",
      "\n",
      "predicted label: [9]\n",
      "\n",
      "\n",
      "\n",
      "predicted label: [9]\n",
      "\n",
      "\n",
      "\n",
      "predicted label: [9]\n",
      "\n",
      "\n",
      "\n",
      "predicted label: [9]\n",
      "\n",
      "\n",
      "\n",
      "predicted label: [9]\n",
      "\n",
      "\n",
      "\n",
      "predicted label: [7]\n",
      "\n",
      "\n",
      "\n",
      "predicted label: [9]\n",
      "\n",
      "\n",
      "\n",
      "predicted label: [9]\n",
      "\n",
      "\n",
      "\n",
      "predicted label: [9]\n",
      "\n",
      "\n",
      "\n",
      "predicted label: [9]\n",
      "\n",
      "\n",
      "\n",
      "predicted label: [9]\n",
      "\n",
      "\n",
      "\n",
      "predicted label: [9]\n",
      "\n",
      "\n",
      "\n",
      "predicted label: [9]\n",
      "\n",
      "\n",
      "\n",
      "predicted label: [9]\n",
      "\n",
      "\n",
      "\n",
      "36\n",
      "[[ 0.  0.  0.  0.  0.  1.  0.  0.  0.  0.]]\n",
      "predicted label: [6]\n",
      "\n",
      "\n",
      "\n",
      "predicted label: [6]\n",
      "\n",
      "\n",
      "\n",
      "predicted label: [6]\n",
      "\n",
      "\n",
      "\n",
      "predicted label: [4]\n",
      "\n",
      "\n",
      "\n",
      "predicted label: [4]\n",
      "\n",
      "\n",
      "\n",
      "predicted label: [6]\n",
      "\n",
      "\n",
      "\n",
      "predicted label: [5]\n",
      "\n",
      "\n",
      "\n",
      "predicted label: [5]\n",
      "\n",
      "\n",
      "\n",
      "predicted label: [6]\n",
      "\n",
      "\n",
      "\n",
      "predicted label: [6]\n",
      "\n",
      "\n",
      "\n",
      "predicted label: [4]\n",
      "\n",
      "\n",
      "\n",
      "predicted label: [6]\n",
      "\n",
      "\n",
      "\n",
      "predicted label: [5]\n",
      "\n",
      "\n",
      "\n",
      "predicted label: [5]\n",
      "\n",
      "\n",
      "\n",
      "predicted label: [5]\n",
      "\n",
      "\n",
      "\n",
      "predicted label: [5]\n",
      "\n",
      "\n",
      "\n",
      "predicted label: [6]\n",
      "\n",
      "\n",
      "\n",
      "predicted label: [6]\n",
      "\n",
      "\n",
      "\n",
      "predicted label: [5]\n",
      "\n",
      "\n",
      "\n",
      "predicted label: [5]\n",
      "\n",
      "\n",
      "\n",
      "predicted label: [5]\n",
      "\n",
      "\n",
      "\n",
      "predicted label: [5]\n",
      "\n",
      "\n",
      "\n",
      "predicted label: [9]\n",
      "\n",
      "\n",
      "\n",
      "predicted label: [5]\n",
      "\n",
      "\n",
      "\n",
      "predicted label: [5]\n",
      "\n",
      "\n",
      "\n",
      "predicted label: [5]\n",
      "\n",
      "\n",
      "\n",
      "predicted label: [5]\n",
      "\n",
      "\n",
      "\n",
      "predicted label: [5]\n",
      "\n",
      "\n",
      "\n",
      "predicted label: [9]\n",
      "\n",
      "\n",
      "\n",
      "predicted label: [5]\n",
      "\n",
      "\n",
      "\n",
      "predicted label: [5]\n",
      "\n",
      "\n",
      "\n",
      "predicted label: [5]\n",
      "\n",
      "\n",
      "\n",
      "predicted label: [5]\n",
      "\n",
      "\n",
      "\n",
      "predicted label: [5]\n",
      "\n",
      "\n",
      "\n",
      "predicted label: [9]\n",
      "\n",
      "\n",
      "\n",
      "predicted label: [5]\n",
      "\n",
      "\n",
      "\n",
      "36\n",
      "[[ 0.  0.  0.  0.  0.  0.  0.  0.  0.  1.]]\n",
      "predicted label: [7]\n",
      "\n",
      "\n",
      "\n",
      "predicted label: [7]\n",
      "\n",
      "\n",
      "\n",
      "predicted label: [4]\n",
      "\n",
      "\n",
      "\n",
      "predicted label: [4]\n",
      "\n",
      "\n",
      "\n",
      "predicted label: [4]\n",
      "\n",
      "\n",
      "\n",
      "predicted label: [9]\n",
      "\n",
      "\n",
      "\n",
      "predicted label: [7]\n",
      "\n",
      "\n",
      "\n",
      "predicted label: [7]\n",
      "\n",
      "\n",
      "\n",
      "predicted label: [7]\n",
      "\n",
      "\n",
      "\n",
      "predicted label: [5]\n",
      "\n",
      "\n",
      "\n",
      "predicted label: [5]\n",
      "\n",
      "\n",
      "\n",
      "predicted label: [9]\n",
      "\n",
      "\n",
      "\n",
      "predicted label: [7]\n",
      "\n",
      "\n",
      "\n",
      "predicted label: [7]\n",
      "\n",
      "\n",
      "\n",
      "predicted label: [0]\n",
      "\n",
      "\n",
      "\n",
      "predicted label: [5]\n",
      "\n",
      "\n",
      "\n",
      "predicted label: [5]\n",
      "\n",
      "\n",
      "\n",
      "predicted label: [9]\n",
      "\n",
      "\n",
      "\n",
      "predicted label: [7]\n",
      "\n",
      "\n",
      "\n",
      "predicted label: [7]\n",
      "\n",
      "\n",
      "\n",
      "predicted label: [7]\n",
      "\n",
      "\n",
      "\n",
      "predicted label: [5]\n",
      "\n",
      "\n",
      "\n",
      "predicted label: [9]\n",
      "\n",
      "\n",
      "\n",
      "predicted label: [9]\n",
      "\n",
      "\n",
      "\n",
      "predicted label: [7]\n",
      "\n",
      "\n",
      "\n",
      "predicted label: [7]\n",
      "\n",
      "\n",
      "\n",
      "predicted label: [7]\n",
      "\n",
      "\n",
      "\n",
      "predicted label: [7]\n",
      "\n",
      "\n",
      "\n",
      "predicted label: [7]\n",
      "\n",
      "\n",
      "\n",
      "predicted label: [9]\n",
      "\n",
      "\n",
      "\n",
      "predicted label: [9]\n",
      "\n",
      "\n",
      "\n",
      "predicted label: [9]\n",
      "\n",
      "\n",
      "\n",
      "predicted label: [9]\n",
      "\n",
      "\n",
      "\n",
      "predicted label: [9]\n",
      "\n",
      "\n",
      "\n",
      "predicted label: [9]\n",
      "\n",
      "\n",
      "\n",
      "predicted label: [9]\n",
      "\n",
      "\n",
      "\n",
      "36\n"
     ]
    },
    {
     "data": {
      "image/png": "[encoded data removed]",
      "text/plain": [
       "<matplotlib.figure.Figure at 0x7f0c105fc3c8>"
      ]
     },
     "metadata": {},
     "output_type": "display_data"
    },
    {
     "data": {
      "image/png": "[encoded data removed]",
      "text/plain": [
       "<matplotlib.figure.Figure at 0x7f0c12667358>"
      ]
     },
     "metadata": {},
     "output_type": "display_data"
    },
    {
     "data": {
      "text/plain": [
       "<matplotlib.figure.Figure at 0x7f0c10447978>"
      ]
     },
     "metadata": {},
     "output_type": "display_data"
    },
    {
     "data": {
      "text/plain": [
       "<matplotlib.figure.Figure at 0x7f0c1044fd30>"
      ]
     },
     "metadata": {},
     "output_type": "display_data"
    },
    {
     "data": {
      "text/plain": [
       "<matplotlib.figure.Figure at 0x7f0c10453780>"
      ]
     },
     "metadata": {},
     "output_type": "display_data"
    },
    {
     "data": {
      "text/plain": [
       "<matplotlib.figure.Figure at 0x7f0c10457278>"
      ]
     },
     "metadata": {},
     "output_type": "display_data"
    },
    {
     "data": {
      "text/plain": [
       "<matplotlib.figure.Figure at 0x7f0c10457c50>"
      ]
     },
     "metadata": {},
     "output_type": "display_data"
    },
    {
     "data": {
      "text/plain": [
       "<matplotlib.figure.Figure at 0x7f0c1045b7f0>"
      ]
     },
     "metadata": {},
     "output_type": "display_data"
    },
    {
     "data": {
      "text/plain": [
       "<matplotlib.figure.Figure at 0x7f0c10460160>"
      ]
     },
     "metadata": {},
     "output_type": "display_data"
    },
    {
     "data": {
      "text/plain": [
       "<matplotlib.figure.Figure at 0x7f0c10460be0>"
      ]
     },
     "metadata": {},
     "output_type": "display_data"
    },
    {
     "data": {
      "text/plain": [
       "<matplotlib.figure.Figure at 0x7f0c10466668>"
      ]
     },
     "metadata": {},
     "output_type": "display_data"
    },
    {
     "data": {
      "text/plain": [
       "<matplotlib.figure.Figure at 0x7f0c1046d0b8>"
      ]
     },
     "metadata": {},
     "output_type": "display_data"
    },
    {
     "data": {
      "text/plain": [
       "<matplotlib.figure.Figure at 0x7f0c1046db00>"
      ]
     },
     "metadata": {},
     "output_type": "display_data"
    },
    {
     "data": {
      "text/plain": [
       "<matplotlib.figure.Figure at 0x7f0c10471588>"
      ]
     },
     "metadata": {},
     "output_type": "display_data"
    },
    {
     "data": {
      "text/plain": [
       "<matplotlib.figure.Figure at 0x7f0c10476080>"
      ]
     },
     "metadata": {},
     "output_type": "display_data"
    },
    {
     "data": {
      "text/plain": [
       "<matplotlib.figure.Figure at 0x7f0c10476a58>"
      ]
     },
     "metadata": {},
     "output_type": "display_data"
    },
    {
     "data": {
      "text/plain": [
       "<matplotlib.figure.Figure at 0x7f0c1047b518>"
      ]
     },
     "metadata": {},
     "output_type": "display_data"
    },
    {
     "data": {
      "text/plain": [
       "<matplotlib.figure.Figure at 0x7f0c1047bf28>"
      ]
     },
     "metadata": {},
     "output_type": "display_data"
    },
    {
     "data": {
      "text/plain": [
       "<matplotlib.figure.Figure at 0x7f0c104809b0>"
      ]
     },
     "metadata": {},
     "output_type": "display_data"
    },
    {
     "data": {
      "text/plain": [
       "<matplotlib.figure.Figure at 0x7f0c10406438>"
      ]
     },
     "metadata": {},
     "output_type": "display_data"
    },
    {
     "data": {
      "text/plain": [
       "<matplotlib.figure.Figure at 0x7f0c10406f60>"
      ]
     },
     "metadata": {},
     "output_type": "display_data"
    },
    {
     "data": {
      "text/plain": [
       "<matplotlib.figure.Figure at 0x7f0c10531240>"
      ]
     },
     "metadata": {},
     "output_type": "display_data"
    },
    {
     "data": {
      "text/plain": [
       "<matplotlib.figure.Figure at 0x7f0c10508400>"
      ]
     },
     "metadata": {},
     "output_type": "display_data"
    },
    {
     "data": {
      "text/plain": [
       "<matplotlib.figure.Figure at 0x7f0c1040ae48>"
      ]
     },
     "metadata": {},
     "output_type": "display_data"
    },
    {
     "data": {
      "text/plain": [
       "<matplotlib.figure.Figure at 0x7f0c104108d0>"
      ]
     },
     "metadata": {},
     "output_type": "display_data"
    },
    {
     "data": {
      "text/plain": [
       "<matplotlib.figure.Figure at 0x7f0c10416358>"
      ]
     },
     "metadata": {},
     "output_type": "display_data"
    },
    {
     "data": {
      "text/plain": [
       "<matplotlib.figure.Figure at 0x7f0c10416da0>"
      ]
     },
     "metadata": {},
     "output_type": "display_data"
    },
    {
     "data": {
      "text/plain": [
       "<matplotlib.figure.Figure at 0x7f0c1041a908>"
      ]
     },
     "metadata": {},
     "output_type": "display_data"
    },
    {
     "data": {
      "text/plain": [
       "<matplotlib.figure.Figure at 0x7f0c104212b0>"
      ]
     },
     "metadata": {},
     "output_type": "display_data"
    },
    {
     "data": {
      "text/plain": [
       "<matplotlib.figure.Figure at 0x7f0c10421e48>"
      ]
     },
     "metadata": {},
     "output_type": "display_data"
    },
    {
     "data": {
      "text/plain": [
       "<matplotlib.figure.Figure at 0x7f0c10426780>"
      ]
     },
     "metadata": {},
     "output_type": "display_data"
    },
    {
     "data": {
      "text/plain": [
       "<matplotlib.figure.Figure at 0x7f0c1042a208>"
      ]
     },
     "metadata": {},
     "output_type": "display_data"
    },
    {
     "data": {
      "text/plain": [
       "<matplotlib.figure.Figure at 0x7f0c1042ac88>"
      ]
     },
     "metadata": {},
     "output_type": "display_data"
    },
    {
     "data": {
      "text/plain": [
       "<matplotlib.figure.Figure at 0x7f0c1042f6d8>"
      ]
     },
     "metadata": {},
     "output_type": "display_data"
    },
    {
     "data": {
      "text/plain": [
       "<matplotlib.figure.Figure at 0x7f0c10434160>"
      ]
     },
     "metadata": {},
     "output_type": "display_data"
    },
    {
     "data": {
      "text/plain": [
       "<matplotlib.figure.Figure at 0x7f0c10434c50>"
      ]
     },
     "metadata": {},
     "output_type": "display_data"
    },
    {
     "data": {
      "text/plain": [
       "<matplotlib.figure.Figure at 0x7f0c10438630>"
      ]
     },
     "metadata": {},
     "output_type": "display_data"
    },
    {
     "data": {
      "image/png": "[encoded data removed]",
      "text/plain": [
       "<matplotlib.figure.Figure at 0x7f0c1043e0b8>"
      ]
     },
     "metadata": {},
     "output_type": "display_data"
    },
    {
     "data": {
      "image/png": "[encoded data removed]",
      "text/plain": [
       "<matplotlib.figure.Figure at 0x7f0c10471d68>"
      ]
     },
     "metadata": {},
     "output_type": "display_data"
    },
    {
     "data": {
      "text/plain": [
       "<matplotlib.figure.Figure at 0x7f0c35206b00>"
      ]
     },
     "metadata": {},
     "output_type": "display_data"
    },
    {
     "data": {
      "text/plain": [
       "<matplotlib.figure.Figure at 0x7f0c358071d0>"
      ]
     },
     "metadata": {},
     "output_type": "display_data"
    },
    {
     "data": {
      "text/plain": [
       "<matplotlib.figure.Figure at 0x7f0c35807780>"
      ]
     },
     "metadata": {},
     "output_type": "display_data"
    },
    {
     "data": {
      "text/plain": [
       "<matplotlib.figure.Figure at 0x7f0c3527def0>"
      ]
     },
     "metadata": {},
     "output_type": "display_data"
    },
    {
     "data": {
      "text/plain": [
       "<matplotlib.figure.Figure at 0x7f0c357d0320>"
      ]
     },
     "metadata": {},
     "output_type": "display_data"
    },
    {
     "data": {
      "text/plain": [
       "<matplotlib.figure.Figure at 0x7f0c357d0390>"
      ]
     },
     "metadata": {},
     "output_type": "display_data"
    },
    {
     "data": {
      "text/plain": [
       "<matplotlib.figure.Figure at 0x7f0c35a426a0>"
      ]
     },
     "metadata": {},
     "output_type": "display_data"
    },
    {
     "data": {
      "text/plain": [
       "<matplotlib.figure.Figure at 0x7f0c37b45a20>"
      ]
     },
     "metadata": {},
     "output_type": "display_data"
    },
    {
     "data": {
      "text/plain": [
       "<matplotlib.figure.Figure at 0x7f0c34ba7128>"
      ]
     },
     "metadata": {},
     "output_type": "display_data"
    },
    {
     "data": {
      "text/plain": [
       "<matplotlib.figure.Figure at 0x7f0c34ba74e0>"
      ]
     },
     "metadata": {},
     "output_type": "display_data"
    },
    {
     "data": {
      "text/plain": [
       "<matplotlib.figure.Figure at 0x7f0c352b9fd0>"
      ]
     },
     "metadata": {},
     "output_type": "display_data"
    },
    {
     "data": {
      "text/plain": [
       "<matplotlib.figure.Figure at 0x7f0c357eb080>"
      ]
     },
     "metadata": {},
     "output_type": "display_data"
    },
    {
     "data": {
      "text/plain": [
       "<matplotlib.figure.Figure at 0x7f0c352b5828>"
      ]
     },
     "metadata": {},
     "output_type": "display_data"
    },
    {
     "data": {
      "text/plain": [
       "<matplotlib.figure.Figure at 0x7f0c357eba58>"
      ]
     },
     "metadata": {},
     "output_type": "display_data"
    },
    {
     "data": {
      "text/plain": [
       "<matplotlib.figure.Figure at 0x7f0c358066d8>"
      ]
     },
     "metadata": {},
     "output_type": "display_data"
    },
    {
     "data": {
      "text/plain": [
       "<matplotlib.figure.Figure at 0x7f0c35806128>"
      ]
     },
     "metadata": {},
     "output_type": "display_data"
    },
    {
     "data": {
      "text/plain": [
       "<matplotlib.figure.Figure at 0x7f0c359cde10>"
      ]
     },
     "metadata": {},
     "output_type": "display_data"
    },
    {
     "data": {
      "text/plain": [
       "<matplotlib.figure.Figure at 0x7f0c345967f0>"
      ]
     },
     "metadata": {},
     "output_type": "display_data"
    },
    {
     "data": {
      "text/plain": [
       "<matplotlib.figure.Figure at 0x7f0c34596828>"
      ]
     },
     "metadata": {},
     "output_type": "display_data"
    },
    {
     "data": {
      "text/plain": [
       "<matplotlib.figure.Figure at 0x7f0c3411d320>"
      ]
     },
     "metadata": {},
     "output_type": "display_data"
    },
    {
     "data": {
      "text/plain": [
       "<matplotlib.figure.Figure at 0x7f0c34112588>"
      ]
     },
     "metadata": {},
     "output_type": "display_data"
    },
    {
     "data": {
      "text/plain": [
       "<matplotlib.figure.Figure at 0x7f0c34112438>"
      ]
     },
     "metadata": {},
     "output_type": "display_data"
    },
    {
     "data": {
      "text/plain": [
       "<matplotlib.figure.Figure at 0x7f0c0aa735f8>"
      ]
     },
     "metadata": {},
     "output_type": "display_data"
    },
    {
     "data": {
      "text/plain": [
       "<matplotlib.figure.Figure at 0x7f0c0a94a550>"
      ]
     },
     "metadata": {},
     "output_type": "display_data"
    },
    {
     "data": {
      "text/plain": [
       "<matplotlib.figure.Figure at 0x7f0c0a94a198>"
      ]
     },
     "metadata": {},
     "output_type": "display_data"
    },
    {
     "data": {
      "text/plain": [
       "<matplotlib.figure.Figure at 0x7f0c0a973048>"
      ]
     },
     "metadata": {},
     "output_type": "display_data"
    },
    {
     "data": {
      "text/plain": [
       "<matplotlib.figure.Figure at 0x7f0c0a97f710>"
      ]
     },
     "metadata": {},
     "output_type": "display_data"
    },
    {
     "data": {
      "text/plain": [
       "<matplotlib.figure.Figure at 0x7f0c0a97f198>"
      ]
     },
     "metadata": {},
     "output_type": "display_data"
    },
    {
     "data": {
      "text/plain": [
       "<matplotlib.figure.Figure at 0x7f0c0a95aeb8>"
      ]
     },
     "metadata": {},
     "output_type": "display_data"
    },
    {
     "data": {
      "text/plain": [
       "<matplotlib.figure.Figure at 0x7f0c0a974668>"
      ]
     },
     "metadata": {},
     "output_type": "display_data"
    },
    {
     "data": {
      "text/plain": [
       "<matplotlib.figure.Figure at 0x7f0c0a974198>"
      ]
     },
     "metadata": {},
     "output_type": "display_data"
    },
    {
     "data": {
      "text/plain": [
       "<matplotlib.figure.Figure at 0x7f0c0a943ba8>"
      ]
     },
     "metadata": {},
     "output_type": "display_data"
    },
    {
     "data": {
      "text/plain": [
       "<matplotlib.figure.Figure at 0x7f0c0a94b358>"
      ]
     },
     "metadata": {},
     "output_type": "display_data"
    },
    {
     "data": {
      "text/plain": [
       "<matplotlib.figure.Figure at 0x7f0c0a9415c0>"
      ]
     },
     "metadata": {},
     "output_type": "display_data"
    },
    {
     "data": {
      "text/plain": [
       "<matplotlib.figure.Figure at 0x7f0c0a941c18>"
      ]
     },
     "metadata": {},
     "output_type": "display_data"
    },
    {
     "data": {
      "image/png": "[encoded data removed]",
      "text/plain": [
       "<matplotlib.figure.Figure at 0x7f0c0be80ac8>"
      ]
     },
     "metadata": {},
     "output_type": "display_data"
    },
    {
     "data": {
      "image/png": "[encoded data removed]",
      "text/plain": [
       "<matplotlib.figure.Figure at 0x7f0c358073c8>"
      ]
     },
     "metadata": {},
     "output_type": "display_data"
    },
    {
     "data": {
      "text/plain": [
       "<matplotlib.figure.Figure at 0x7f0c35a81ac8>"
      ]
     },
     "metadata": {},
     "output_type": "display_data"
    },
    {
     "data": {
      "text/plain": [
       "<matplotlib.figure.Figure at 0x7f0c1075dcf8>"
      ]
     },
     "metadata": {},
     "output_type": "display_data"
    },
    {
     "data": {
      "text/plain": [
       "<matplotlib.figure.Figure at 0x7f0c107f8908>"
      ]
     },
     "metadata": {},
     "output_type": "display_data"
    },
    {
     "data": {
      "text/plain": [
       "<matplotlib.figure.Figure at 0x7f0c353d70b8>"
      ]
     },
     "metadata": {},
     "output_type": "display_data"
    },
    {
     "data": {
      "text/plain": [
       "<matplotlib.figure.Figure at 0x7f0c0a767be0>"
      ]
     },
     "metadata": {},
     "output_type": "display_data"
    },
    {
     "data": {
      "text/plain": [
       "<matplotlib.figure.Figure at 0x7f0c0a767c18>"
      ]
     },
     "metadata": {},
     "output_type": "display_data"
    },
    {
     "data": {
      "text/plain": [
       "<matplotlib.figure.Figure at 0x7f0c348c2518>"
      ]
     },
     "metadata": {},
     "output_type": "display_data"
    },
    {
     "data": {
      "text/plain": [
       "<matplotlib.figure.Figure at 0x7f0c34d03828>"
      ]
     },
     "metadata": {},
     "output_type": "display_data"
    },
    {
     "data": {
      "text/plain": [
       "<matplotlib.figure.Figure at 0x7f0c3541a5c0>"
      ]
     },
     "metadata": {},
     "output_type": "display_data"
    },
    {
     "data": {
      "text/plain": [
       "<matplotlib.figure.Figure at 0x7f0c3541a048>"
      ]
     },
     "metadata": {},
     "output_type": "display_data"
    },
    {
     "data": {
      "text/plain": [
       "<matplotlib.figure.Figure at 0x7f0c35423da0>"
      ]
     },
     "metadata": {},
     "output_type": "display_data"
    },
    {
     "data": {
      "text/plain": [
       "<matplotlib.figure.Figure at 0x7f0c10747cc0>"
      ]
     },
     "metadata": {},
     "output_type": "display_data"
    },
    {
     "data": {
      "text/plain": [
       "<matplotlib.figure.Figure at 0x7f0c10747c50>"
      ]
     },
     "metadata": {},
     "output_type": "display_data"
    },
    {
     "data": {
      "text/plain": [
       "<matplotlib.figure.Figure at 0x7f0c348b36d8>"
      ]
     },
     "metadata": {},
     "output_type": "display_data"
    },
    {
     "data": {
      "text/plain": [
       "<matplotlib.figure.Figure at 0x7f0c348ffd30>"
      ]
     },
     "metadata": {},
     "output_type": "display_data"
    },
    {
     "data": {
      "text/plain": [
       "<matplotlib.figure.Figure at 0x7f0c348ff320>"
      ]
     },
     "metadata": {},
     "output_type": "display_data"
    },
    {
     "data": {
      "text/plain": [
       "<matplotlib.figure.Figure at 0x7f0c3577df98>"
      ]
     },
     "metadata": {},
     "output_type": "display_data"
    },
    {
     "data": {
      "text/plain": [
       "<matplotlib.figure.Figure at 0x7f0c0a712828>"
      ]
     },
     "metadata": {},
     "output_type": "display_data"
    },
    {
     "data": {
      "text/plain": [
       "<matplotlib.figure.Figure at 0x7f0c0a712438>"
      ]
     },
     "metadata": {},
     "output_type": "display_data"
    },
    {
     "data": {
      "text/plain": [
       "<matplotlib.figure.Figure at 0x7f0c0ad35ef0>"
      ]
     },
     "metadata": {},
     "output_type": "display_data"
    },
    {
     "data": {
      "text/plain": [
       "<matplotlib.figure.Figure at 0x7f0c0a6b85c0>"
      ]
     },
     "metadata": {},
     "output_type": "display_data"
    },
    {
     "data": {
      "text/plain": [
       "<matplotlib.figure.Figure at 0x7f0c1081f780>"
      ]
     },
     "metadata": {},
     "output_type": "display_data"
    },
    {
     "data": {
      "text/plain": [
       "<matplotlib.figure.Figure at 0x7f0c1081f550>"
      ]
     },
     "metadata": {},
     "output_type": "display_data"
    },
    {
     "data": {
      "text/plain": [
       "<matplotlib.figure.Figure at 0x7f0c104d5048>"
      ]
     },
     "metadata": {},
     "output_type": "display_data"
    },
    {
     "data": {
      "text/plain": [
       "<matplotlib.figure.Figure at 0x7f0c10249550>"
      ]
     },
     "metadata": {},
     "output_type": "display_data"
    },
    {
     "data": {
      "text/plain": [
       "<matplotlib.figure.Figure at 0x7f0c10249e48>"
      ]
     },
     "metadata": {},
     "output_type": "display_data"
    },
    {
     "data": {
      "text/plain": [
       "<matplotlib.figure.Figure at 0x7f0c34febb00>"
      ]
     },
     "metadata": {},
     "output_type": "display_data"
    },
    {
     "data": {
      "text/plain": [
       "<matplotlib.figure.Figure at 0x7f0c34feb630>"
      ]
     },
     "metadata": {},
     "output_type": "display_data"
    },
    {
     "data": {
      "text/plain": [
       "<matplotlib.figure.Figure at 0x7f0c0b54e978>"
      ]
     },
     "metadata": {},
     "output_type": "display_data"
    },
    {
     "data": {
      "text/plain": [
       "<matplotlib.figure.Figure at 0x7f0c0b578320>"
      ]
     },
     "metadata": {},
     "output_type": "display_data"
    },
    {
     "data": {
      "text/plain": [
       "<matplotlib.figure.Figure at 0x7f0c0b578160>"
      ]
     },
     "metadata": {},
     "output_type": "display_data"
    },
    {
     "data": {
      "text/plain": [
       "<matplotlib.figure.Figure at 0x7f0c12367ef0>"
      ]
     },
     "metadata": {},
     "output_type": "display_data"
    },
    {
     "data": {
      "text/plain": [
       "<matplotlib.figure.Figure at 0x7f0c34d4a9e8>"
      ]
     },
     "metadata": {},
     "output_type": "display_data"
    },
    {
     "data": {
      "text/plain": [
       "<matplotlib.figure.Figure at 0x7f0c35890a20>"
      ]
     },
     "metadata": {},
     "output_type": "display_data"
    },
    {
     "data": {
      "text/plain": [
       "<matplotlib.figure.Figure at 0x7f0c35890a58>"
      ]
     },
     "metadata": {},
     "output_type": "display_data"
    },
    {
     "data": {
      "image/png": "[encoded data removed]",
      "text/plain": [
       "<matplotlib.figure.Figure at 0x7f0c35921048>"
      ]
     },
     "metadata": {},
     "output_type": "display_data"
    },
    {
     "data": {
      "image/png": "[encoded data removed]",
      "text/plain": [
       "<matplotlib.figure.Figure at 0x7f0c35802940>"
      ]
     },
     "metadata": {},
     "output_type": "display_data"
    },
    {
     "data": {
      "text/plain": [
       "<matplotlib.figure.Figure at 0x7f0c0a6f6710>"
      ]
     },
     "metadata": {},
     "output_type": "display_data"
    },
    {
     "data": {
      "text/plain": [
       "<matplotlib.figure.Figure at 0x7f0c0a6c1668>"
      ]
     },
     "metadata": {},
     "output_type": "display_data"
    },
    {
     "data": {
      "text/plain": [
       "<matplotlib.figure.Figure at 0x7f0c0a6d0240>"
      ]
     },
     "metadata": {},
     "output_type": "display_data"
    },
    {
     "data": {
      "text/plain": [
       "<matplotlib.figure.Figure at 0x7f0c0a6e4048>"
      ]
     },
     "metadata": {},
     "output_type": "display_data"
    },
    {
     "data": {
      "text/plain": [
       "<matplotlib.figure.Figure at 0x7f0c0a6e49e8>"
      ]
     },
     "metadata": {},
     "output_type": "display_data"
    },
    {
     "data": {
      "text/plain": [
       "<matplotlib.figure.Figure at 0x7f0c0a6dc470>"
      ]
     },
     "metadata": {},
     "output_type": "display_data"
    },
    {
     "data": {
      "text/plain": [
       "<matplotlib.figure.Figure at 0x7f0c0a6dcef0>"
      ]
     },
     "metadata": {},
     "output_type": "display_data"
    },
    {
     "data": {
      "text/plain": [
       "<matplotlib.figure.Figure at 0x7f0c0a6c09b0>"
      ]
     },
     "metadata": {},
     "output_type": "display_data"
    },
    {
     "data": {
      "text/plain": [
       "<matplotlib.figure.Figure at 0x7f0c354343c8>"
      ]
     },
     "metadata": {},
     "output_type": "display_data"
    },
    {
     "data": {
      "text/plain": [
       "<matplotlib.figure.Figure at 0x7f0c35434b00>"
      ]
     },
     "metadata": {},
     "output_type": "display_data"
    },
    {
     "data": {
      "text/plain": [
       "<matplotlib.figure.Figure at 0x7f0c354189e8>"
      ]
     },
     "metadata": {},
     "output_type": "display_data"
    },
    {
     "data": {
      "text/plain": [
       "<matplotlib.figure.Figure at 0x7f0c3540cf28>"
      ]
     },
     "metadata": {},
     "output_type": "display_data"
    },
    {
     "data": {
      "text/plain": [
       "<matplotlib.figure.Figure at 0x7f0c3540ce10>"
      ]
     },
     "metadata": {},
     "output_type": "display_data"
    },
    {
     "data": {
      "text/plain": [
       "<matplotlib.figure.Figure at 0x7f0c35428898>"
      ]
     },
     "metadata": {},
     "output_type": "display_data"
    },
    {
     "data": {
      "text/plain": [
       "<matplotlib.figure.Figure at 0x7f0c35409278>"
      ]
     },
     "metadata": {},
     "output_type": "display_data"
    },
    {
     "data": {
      "text/plain": [
       "<matplotlib.figure.Figure at 0x7f0c35409d68>"
      ]
     },
     "metadata": {},
     "output_type": "display_data"
    },
    {
     "data": {
      "text/plain": [
       "<matplotlib.figure.Figure at 0x7f0c3542d748>"
      ]
     },
     "metadata": {},
     "output_type": "display_data"
    },
    {
     "data": {
      "text/plain": [
       "<matplotlib.figure.Figure at 0x7f0c354361d0>"
      ]
     },
     "metadata": {},
     "output_type": "display_data"
    },
    {
     "data": {
      "text/plain": [
       "<matplotlib.figure.Figure at 0x7f0c35436d30>"
      ]
     },
     "metadata": {},
     "output_type": "display_data"
    },
    {
     "data": {
      "text/plain": [
       "<matplotlib.figure.Figure at 0x7f0c3541f6a0>"
      ]
     },
     "metadata": {},
     "output_type": "display_data"
    },
    {
     "data": {
      "text/plain": [
       "<matplotlib.figure.Figure at 0x7f0c3542e160>"
      ]
     },
     "metadata": {},
     "output_type": "display_data"
    },
    {
     "data": {
      "text/plain": [
       "<matplotlib.figure.Figure at 0x7f0c3542eb70>"
      ]
     },
     "metadata": {},
     "output_type": "display_data"
    },
    {
     "data": {
      "text/plain": [
       "<matplotlib.figure.Figure at 0x7f0c352f3320>"
      ]
     },
     "metadata": {},
     "output_type": "display_data"
    },
    {
     "data": {
      "text/plain": [
       "<matplotlib.figure.Figure at 0x7f0c352dd080>"
      ]
     },
     "metadata": {},
     "output_type": "display_data"
    },
    {
     "data": {
      "text/plain": [
       "<matplotlib.figure.Figure at 0x7f0c352ddac8>"
      ]
     },
     "metadata": {},
     "output_type": "display_data"
    },
    {
     "data": {
      "text/plain": [
       "<matplotlib.figure.Figure at 0x7f0c352ec588>"
      ]
     },
     "metadata": {},
     "output_type": "display_data"
    },
    {
     "data": {
      "text/plain": [
       "<matplotlib.figure.Figure at 0x7f0c352e70b8>"
      ]
     },
     "metadata": {},
     "output_type": "display_data"
    },
    {
     "data": {
      "text/plain": [
       "<matplotlib.figure.Figure at 0x7f0c352e7a20>"
      ]
     },
     "metadata": {},
     "output_type": "display_data"
    },
    {
     "data": {
      "text/plain": [
       "<matplotlib.figure.Figure at 0x7f0c352d2550>"
      ]
     },
     "metadata": {},
     "output_type": "display_data"
    },
    {
     "data": {
      "text/plain": [
       "<matplotlib.figure.Figure at 0x7f0c352ce080>"
      ]
     },
     "metadata": {},
     "output_type": "display_data"
    },
    {
     "data": {
      "text/plain": [
       "<matplotlib.figure.Figure at 0x7f0c352ce9e8>"
      ]
     },
     "metadata": {},
     "output_type": "display_data"
    },
    {
     "data": {
      "text/plain": [
       "<matplotlib.figure.Figure at 0x7f0c352cd400>"
      ]
     },
     "metadata": {},
     "output_type": "display_data"
    },
    {
     "data": {
      "text/plain": [
       "<matplotlib.figure.Figure at 0x7f0c352cde48>"
      ]
     },
     "metadata": {},
     "output_type": "display_data"
    },
    {
     "data": {
      "text/plain": [
       "<matplotlib.figure.Figure at 0x7f0c3541fe80>"
      ]
     },
     "metadata": {},
     "output_type": "display_data"
    },
    {
     "data": {
      "text/plain": [
       "<matplotlib.figure.Figure at 0x7f0c352e1c88>"
      ]
     },
     "metadata": {},
     "output_type": "display_data"
    },
    {
     "data": {
      "image/png": "[encoded data removed]",
      "text/plain": [
       "<matplotlib.figure.Figure at 0x7f0c352cc6a0>"
      ]
     },
     "metadata": {},
     "output_type": "display_data"
    },
    {
     "data": {
      "image/png": "[encoded data removed]",
      "text/plain": [
       "<matplotlib.figure.Figure at 0x7f0c34b0e160>"
      ]
     },
     "metadata": {},
     "output_type": "display_data"
    },
    {
     "data": {
      "text/plain": [
       "<matplotlib.figure.Figure at 0x7f0c34b77ef0>"
      ]
     },
     "metadata": {},
     "output_type": "display_data"
    },
    {
     "data": {
      "text/plain": [
       "<matplotlib.figure.Figure at 0x7f0c34b83438>"
      ]
     },
     "metadata": {},
     "output_type": "display_data"
    },
    {
     "data": {
      "text/plain": [
       "<matplotlib.figure.Figure at 0x7f0c34b83cf8>"
      ]
     },
     "metadata": {},
     "output_type": "display_data"
    },
    {
     "data": {
      "text/plain": [
       "<matplotlib.figure.Figure at 0x7f0c34b85780>"
      ]
     },
     "metadata": {},
     "output_type": "display_data"
    },
    {
     "data": {
      "text/plain": [
       "<matplotlib.figure.Figure at 0x7f0c34b4c208>"
      ]
     },
     "metadata": {},
     "output_type": "display_data"
    },
    {
     "data": {
      "text/plain": [
       "<matplotlib.figure.Figure at 0x7f0c34b4cd30>"
      ]
     },
     "metadata": {},
     "output_type": "display_data"
    },
    {
     "data": {
      "text/plain": [
       "<matplotlib.figure.Figure at 0x7f0c34b506d8>"
      ]
     },
     "metadata": {},
     "output_type": "display_data"
    },
    {
     "data": {
      "text/plain": [
       "<matplotlib.figure.Figure at 0x7f0c34146198>"
      ]
     },
     "metadata": {},
     "output_type": "display_data"
    },
    {
     "data": {
      "text/plain": [
       "<matplotlib.figure.Figure at 0x7f0c34146be0>"
      ]
     },
     "metadata": {},
     "output_type": "display_data"
    },
    {
     "data": {
      "text/plain": [
       "<matplotlib.figure.Figure at 0x7f0c3411b710>"
      ]
     },
     "metadata": {},
     "output_type": "display_data"
    },
    {
     "data": {
      "text/plain": [
       "<matplotlib.figure.Figure at 0x7f0c341201d0>"
      ]
     },
     "metadata": {},
     "output_type": "display_data"
    },
    {
     "data": {
      "text/plain": [
       "<matplotlib.figure.Figure at 0x7f0c34120be0>"
      ]
     },
     "metadata": {},
     "output_type": "display_data"
    },
    {
     "data": {
      "text/plain": [
       "<matplotlib.figure.Figure at 0x7f0c34116f98>"
      ]
     },
     "metadata": {},
     "output_type": "display_data"
    },
    {
     "data": {
      "text/plain": [
       "<matplotlib.figure.Figure at 0x7f0c34128080>"
      ]
     },
     "metadata": {},
     "output_type": "display_data"
    },
    {
     "data": {
      "text/plain": [
       "<matplotlib.figure.Figure at 0x7f0c34128a58>"
      ]
     },
     "metadata": {},
     "output_type": "display_data"
    },
    {
     "data": {
      "text/plain": [
       "<matplotlib.figure.Figure at 0x7f0c3410d518>"
      ]
     },
     "metadata": {},
     "output_type": "display_data"
    },
    {
     "data": {
      "text/plain": [
       "<matplotlib.figure.Figure at 0x7f0c3410df60>"
      ]
     },
     "metadata": {},
     "output_type": "display_data"
    },
    {
     "data": {
      "text/plain": [
       "<matplotlib.figure.Figure at 0x7f0c341429b0>"
      ]
     },
     "metadata": {},
     "output_type": "display_data"
    },
    {
     "data": {
      "text/plain": [
       "<matplotlib.figure.Figure at 0x7f0c3411a438>"
      ]
     },
     "metadata": {},
     "output_type": "display_data"
    },
    {
     "data": {
      "text/plain": [
       "<matplotlib.figure.Figure at 0x7f0c3411ae80>"
      ]
     },
     "metadata": {},
     "output_type": "display_data"
    },
    {
     "data": {
      "text/plain": [
       "<matplotlib.figure.Figure at 0x7f0c34132908>"
      ]
     },
     "metadata": {},
     "output_type": "display_data"
    },
    {
     "data": {
      "text/plain": [
       "<matplotlib.figure.Figure at 0x7f0c34122400>"
      ]
     },
     "metadata": {},
     "output_type": "display_data"
    },
    {
     "data": {
      "text/plain": [
       "<matplotlib.figure.Figure at 0x7f0c34122e10>"
      ]
     },
     "metadata": {},
     "output_type": "display_data"
    },
    {
     "data": {
      "text/plain": [
       "<matplotlib.figure.Figure at 0x7f0c34135860>"
      ]
     },
     "metadata": {},
     "output_type": "display_data"
    },
    {
     "data": {
      "text/plain": [
       "<matplotlib.figure.Figure at 0x7f0c13dbe2e8>"
      ]
     },
     "metadata": {},
     "output_type": "display_data"
    },
    {
     "data": {
      "text/plain": [
       "<matplotlib.figure.Figure at 0x7f0c13dbedd8>"
      ]
     },
     "metadata": {},
     "output_type": "display_data"
    },
    {
     "data": {
      "text/plain": [
       "<matplotlib.figure.Figure at 0x7f0c13dbd7b8>"
      ]
     },
     "metadata": {},
     "output_type": "display_data"
    },
    {
     "data": {
      "text/plain": [
       "<matplotlib.figure.Figure at 0x7f0c13db3240>"
      ]
     },
     "metadata": {},
     "output_type": "display_data"
    },
    {
     "data": {
      "text/plain": [
       "<matplotlib.figure.Figure at 0x7f0c13db3c88>"
      ]
     },
     "metadata": {},
     "output_type": "display_data"
    },
    {
     "data": {
      "text/plain": [
       "<matplotlib.figure.Figure at 0x7f0c13d91be0>"
      ]
     },
     "metadata": {},
     "output_type": "display_data"
    },
    {
     "data": {
      "text/plain": [
       "<matplotlib.figure.Figure at 0x7f0c13d96e48>"
      ]
     },
     "metadata": {},
     "output_type": "display_data"
    },
    {
     "data": {
      "text/plain": [
       "<matplotlib.figure.Figure at 0x7f0c34b80cc0>"
      ]
     },
     "metadata": {},
     "output_type": "display_data"
    },
    {
     "data": {
      "text/plain": [
       "<matplotlib.figure.Figure at 0x7f0c13dad0b8>"
      ]
     },
     "metadata": {},
     "output_type": "display_data"
    },
    {
     "data": {
      "text/plain": [
       "<matplotlib.figure.Figure at 0x7f0c13dadb00>"
      ]
     },
     "metadata": {},
     "output_type": "display_data"
    },
    {
     "data": {
      "text/plain": [
       "<matplotlib.figure.Figure at 0x7f0c13d9a588>"
      ]
     },
     "metadata": {},
     "output_type": "display_data"
    },
    {
     "data": {
      "image/png": "[encoded data removed]",
      "text/plain": [
       "<matplotlib.figure.Figure at 0x7f0c13d837b8>"
      ]
     },
     "metadata": {},
     "output_type": "display_data"
    },
    {
     "data": {
      "image/png": "[encoded data removed]",
      "text/plain": [
       "<matplotlib.figure.Figure at 0x7f0c34116518>"
      ]
     },
     "metadata": {},
     "output_type": "display_data"
    },
    {
     "data": {
      "text/plain": [
       "<matplotlib.figure.Figure at 0x7f0c34f9eda0>"
      ]
     },
     "metadata": {},
     "output_type": "display_data"
    },
    {
     "data": {
      "text/plain": [
       "<matplotlib.figure.Figure at 0x7f0c34749278>"
      ]
     },
     "metadata": {},
     "output_type": "display_data"
    },
    {
     "data": {
      "text/plain": [
       "<matplotlib.figure.Figure at 0x7f0c34749cc0>"
      ]
     },
     "metadata": {},
     "output_type": "display_data"
    },
    {
     "data": {
      "text/plain": [
       "<matplotlib.figure.Figure at 0x7f0c34771a90>"
      ]
     },
     "metadata": {},
     "output_type": "display_data"
    },
    {
     "data": {
      "text/plain": [
       "<matplotlib.figure.Figure at 0x7f0c347560b8>"
      ]
     },
     "metadata": {},
     "output_type": "display_data"
    },
    {
     "data": {
      "text/plain": [
       "<matplotlib.figure.Figure at 0x7f0c34756b38>"
      ]
     },
     "metadata": {},
     "output_type": "display_data"
    },
    {
     "data": {
      "text/plain": [
       "<matplotlib.figure.Figure at 0x7f0c347866a0>"
      ]
     },
     "metadata": {},
     "output_type": "display_data"
    },
    {
     "data": {
      "text/plain": [
       "<matplotlib.figure.Figure at 0x7f0c34765128>"
      ]
     },
     "metadata": {},
     "output_type": "display_data"
    },
    {
     "data": {
      "text/plain": [
       "<matplotlib.figure.Figure at 0x7f0c34765a58>"
      ]
     },
     "metadata": {},
     "output_type": "display_data"
    },
    {
     "data": {
      "text/plain": [
       "<matplotlib.figure.Figure at 0x7f0c3477d550>"
      ]
     },
     "metadata": {},
     "output_type": "display_data"
    },
    {
     "data": {
      "text/plain": [
       "<matplotlib.figure.Figure at 0x7f0c3477df28>"
      ]
     },
     "metadata": {},
     "output_type": "display_data"
    },
    {
     "data": {
      "text/plain": [
       "<matplotlib.figure.Figure at 0x7f0c347539b0>"
      ]
     },
     "metadata": {},
     "output_type": "display_data"
    },
    {
     "data": {
      "text/plain": [
       "<matplotlib.figure.Figure at 0x7f0c3475c438>"
      ]
     },
     "metadata": {},
     "output_type": "display_data"
    },
    {
     "data": {
      "text/plain": [
       "<matplotlib.figure.Figure at 0x7f0c3475ce80>"
      ]
     },
     "metadata": {},
     "output_type": "display_data"
    },
    {
     "data": {
      "text/plain": [
       "<matplotlib.figure.Figure at 0x7f0c34785a58>"
      ]
     },
     "metadata": {},
     "output_type": "display_data"
    },
    {
     "data": {
      "text/plain": [
       "<matplotlib.figure.Figure at 0x7f0c3475d4a8>"
      ]
     },
     "metadata": {},
     "output_type": "display_data"
    },
    {
     "data": {
      "text/plain": [
       "<matplotlib.figure.Figure at 0x7f0c3475ddd8>"
      ]
     },
     "metadata": {},
     "output_type": "display_data"
    },
    {
     "data": {
      "text/plain": [
       "<matplotlib.figure.Figure at 0x7f0c34994898>"
      ]
     },
     "metadata": {},
     "output_type": "display_data"
    },
    {
     "data": {
      "text/plain": [
       "<matplotlib.figure.Figure at 0x7f0c349b4390>"
      ]
     },
     "metadata": {},
     "output_type": "display_data"
    },
    {
     "data": {
      "text/plain": [
       "<matplotlib.figure.Figure at 0x7f0c349b4d30>"
      ]
     },
     "metadata": {},
     "output_type": "display_data"
    },
    {
     "data": {
      "text/plain": [
       "<matplotlib.figure.Figure at 0x7f0c349b77f0>"
      ]
     },
     "metadata": {},
     "output_type": "display_data"
    },
    {
     "data": {
      "text/plain": [
       "<matplotlib.figure.Figure at 0x7f0c349a5fd0>"
      ]
     },
     "metadata": {},
     "output_type": "display_data"
    },
    {
     "data": {
      "text/plain": [
       "<matplotlib.figure.Figure at 0x7f0c349a50f0>"
      ]
     },
     "metadata": {},
     "output_type": "display_data"
    },
    {
     "data": {
      "text/plain": [
       "<matplotlib.figure.Figure at 0x7f0c349c2cc0>"
      ]
     },
     "metadata": {},
     "output_type": "display_data"
    },
    {
     "data": {
      "text/plain": [
       "<matplotlib.figure.Figure at 0x7f0c3498c048>"
      ]
     },
     "metadata": {},
     "output_type": "display_data"
    },
    {
     "data": {
      "text/plain": [
       "<matplotlib.figure.Figure at 0x7f0c3498c8d0>"
      ]
     },
     "metadata": {},
     "output_type": "display_data"
    },
    {
     "data": {
      "text/plain": [
       "<matplotlib.figure.Figure at 0x7f0c359a0d68>"
      ]
     },
     "metadata": {},
     "output_type": "display_data"
    },
    {
     "data": {
      "text/plain": [
       "<matplotlib.figure.Figure at 0x7f0c3498f710>"
      ]
     },
     "metadata": {},
     "output_type": "display_data"
    },
    {
     "data": {
      "text/plain": [
       "<matplotlib.figure.Figure at 0x7f0c349b2198>"
      ]
     },
     "metadata": {},
     "output_type": "display_data"
    },
    {
     "data": {
      "text/plain": [
       "<matplotlib.figure.Figure at 0x7f0c349b2c18>"
      ]
     },
     "metadata": {},
     "output_type": "display_data"
    },
    {
     "data": {
      "text/plain": [
       "<matplotlib.figure.Figure at 0x7f0c349a6668>"
      ]
     },
     "metadata": {},
     "output_type": "display_data"
    },
    {
     "data": {
      "text/plain": [
       "<matplotlib.figure.Figure at 0x7f0c3498a0f0>"
      ]
     },
     "metadata": {},
     "output_type": "display_data"
    },
    {
     "data": {
      "text/plain": [
       "<matplotlib.figure.Figure at 0x7f0c3498ab38>"
      ]
     },
     "metadata": {},
     "output_type": "display_data"
    },
    {
     "data": {
      "text/plain": [
       "<matplotlib.figure.Figure at 0x7f0c3499d5c0>"
      ]
     },
     "metadata": {},
     "output_type": "display_data"
    },
    {
     "data": {
      "text/plain": [
       "<matplotlib.figure.Figure at 0x7f0c13ba17f0>"
      ]
     },
     "metadata": {},
     "output_type": "display_data"
    },
    {
     "data": {
      "image/png": "[encoded data removed]",
      "text/plain": [
       "<matplotlib.figure.Figure at 0x7f0c13ba15c0>"
      ]
     },
     "metadata": {},
     "output_type": "display_data"
    },
    {
     "data": {
      "image/png": "[encoded data removed]",
      "text/plain": [
       "<matplotlib.figure.Figure at 0x7f0c13b8f438>"
      ]
     },
     "metadata": {},
     "output_type": "display_data"
    },
    {
     "data": {
      "text/plain": [
       "<matplotlib.figure.Figure at 0x7f0c351ee4e0>"
      ]
     },
     "metadata": {},
     "output_type": "display_data"
    },
    {
     "data": {
      "text/plain": [
       "<matplotlib.figure.Figure at 0x7f0c351e0a20>"
      ]
     },
     "metadata": {},
     "output_type": "display_data"
    },
    {
     "data": {
      "text/plain": [
       "<matplotlib.figure.Figure at 0x7f0c351e72e8>"
      ]
     },
     "metadata": {},
     "output_type": "display_data"
    },
    {
     "data": {
      "text/plain": [
       "<matplotlib.figure.Figure at 0x7f0c351e7da0>"
      ]
     },
     "metadata": {},
     "output_type": "display_data"
    },
    {
     "data": {
      "text/plain": [
       "<matplotlib.figure.Figure at 0x7f0c351e67b8>"
      ]
     },
     "metadata": {},
     "output_type": "display_data"
    },
    {
     "data": {
      "text/plain": [
       "<matplotlib.figure.Figure at 0x7f0c0accc240>"
      ]
     },
     "metadata": {},
     "output_type": "display_data"
    },
    {
     "data": {
      "text/plain": [
       "<matplotlib.figure.Figure at 0x7f0c0acccc88>"
      ]
     },
     "metadata": {},
     "output_type": "display_data"
    },
    {
     "data": {
      "text/plain": [
       "<matplotlib.figure.Figure at 0x7f0c0accd710>"
      ]
     },
     "metadata": {},
     "output_type": "display_data"
    },
    {
     "data": {
      "text/plain": [
       "<matplotlib.figure.Figure at 0x7f0c0acff198>"
      ]
     },
     "metadata": {},
     "output_type": "display_data"
    },
    {
     "data": {
      "text/plain": [
       "<matplotlib.figure.Figure at 0x7f0c0acffc18>"
      ]
     },
     "metadata": {},
     "output_type": "display_data"
    },
    {
     "data": {
      "text/plain": [
       "<matplotlib.figure.Figure at 0x7f0c0aced668>"
      ]
     },
     "metadata": {},
     "output_type": "display_data"
    },
    {
     "data": {
      "text/plain": [
       "<matplotlib.figure.Figure at 0x7f0c0acc70f0>"
      ]
     },
     "metadata": {},
     "output_type": "display_data"
    },
    {
     "data": {
      "text/plain": [
       "<matplotlib.figure.Figure at 0x7f0c0acc7b38>"
      ]
     },
     "metadata": {},
     "output_type": "display_data"
    },
    {
     "data": {
      "text/plain": [
       "<matplotlib.figure.Figure at 0x7f0c0accf5f8>"
      ]
     },
     "metadata": {},
     "output_type": "display_data"
    },
    {
     "data": {
      "text/plain": [
       "<matplotlib.figure.Figure at 0x7f0c0acf3048>"
      ]
     },
     "metadata": {},
     "output_type": "display_data"
    },
    {
     "data": {
      "text/plain": [
       "<matplotlib.figure.Figure at 0x7f0c0acf3ac8>"
      ]
     },
     "metadata": {},
     "output_type": "display_data"
    },
    {
     "data": {
      "text/plain": [
       "<matplotlib.figure.Figure at 0x7f0c0ace3518>"
      ]
     },
     "metadata": {},
     "output_type": "display_data"
    },
    {
     "data": {
      "text/plain": [
       "<matplotlib.figure.Figure at 0x7f0c0ace3f98>"
      ]
     },
     "metadata": {},
     "output_type": "display_data"
    },
    {
     "data": {
      "text/plain": [
       "<matplotlib.figure.Figure at 0x7f0c0a840358>"
      ]
     },
     "metadata": {},
     "output_type": "display_data"
    },
    {
     "data": {
      "text/plain": [
       "<matplotlib.figure.Figure at 0x7f0c0acdc5f8>"
      ]
     },
     "metadata": {},
     "output_type": "display_data"
    },
    {
     "data": {
      "text/plain": [
       "<matplotlib.figure.Figure at 0x7f0c0acd2048>"
      ]
     },
     "metadata": {},
     "output_type": "display_data"
    },
    {
     "data": {
      "text/plain": [
       "<matplotlib.figure.Figure at 0x7f0c0acd2ac8>"
      ]
     },
     "metadata": {},
     "output_type": "display_data"
    },
    {
     "data": {
      "text/plain": [
       "<matplotlib.figure.Figure at 0x7f0c0ace2518>"
      ]
     },
     "metadata": {},
     "output_type": "display_data"
    },
    {
     "data": {
      "text/plain": [
       "<matplotlib.figure.Figure at 0x7f0c0ace2f60>"
      ]
     },
     "metadata": {},
     "output_type": "display_data"
    },
    {
     "data": {
      "text/plain": [
       "<matplotlib.figure.Figure at 0x7f0c103319e8>"
      ]
     },
     "metadata": {},
     "output_type": "display_data"
    },
    {
     "data": {
      "text/plain": [
       "<matplotlib.figure.Figure at 0x7f0c1033c470>"
      ]
     },
     "metadata": {},
     "output_type": "display_data"
    },
    {
     "data": {
      "text/plain": [
       "<matplotlib.figure.Figure at 0x7f0c1033ceb8>"
      ]
     },
     "metadata": {},
     "output_type": "display_data"
    },
    {
     "data": {
      "text/plain": [
       "<matplotlib.figure.Figure at 0x7f0c103212e8>"
      ]
     },
     "metadata": {},
     "output_type": "display_data"
    },
    {
     "data": {
      "text/plain": [
       "<matplotlib.figure.Figure at 0x7f0c10341438>"
      ]
     },
     "metadata": {},
     "output_type": "display_data"
    },
    {
     "data": {
      "text/plain": [
       "<matplotlib.figure.Figure at 0x7f0c10341e10>"
      ]
     },
     "metadata": {},
     "output_type": "display_data"
    },
    {
     "data": {
      "text/plain": [
       "<matplotlib.figure.Figure at 0x7f0c10335898>"
      ]
     },
     "metadata": {},
     "output_type": "display_data"
    },
    {
     "data": {
      "text/plain": [
       "<matplotlib.figure.Figure at 0x7f0c1031d320>"
      ]
     },
     "metadata": {},
     "output_type": "display_data"
    },
    {
     "data": {
      "text/plain": [
       "<matplotlib.figure.Figure at 0x7f0c1031dd68>"
      ]
     },
     "metadata": {},
     "output_type": "display_data"
    },
    {
     "data": {
      "text/plain": [
       "<matplotlib.figure.Figure at 0x7f0c10316128>"
      ]
     },
     "metadata": {},
     "output_type": "display_data"
    },
    {
     "data": {
      "text/plain": [
       "<matplotlib.figure.Figure at 0x7f0c10333320>"
      ]
     },
     "metadata": {},
     "output_type": "display_data"
    },
    {
     "data": {
      "image/png": "[encoded data removed]",
      "text/plain": [
       "<matplotlib.figure.Figure at 0x7f0c10333d30>"
      ]
     },
     "metadata": {},
     "output_type": "display_data"
    },
    {
     "data": {
      "image/png": "[encoded data removed]",
      "text/plain": [
       "<matplotlib.figure.Figure at 0x7f0c351e6550>"
      ]
     },
     "metadata": {},
     "output_type": "display_data"
    },
    {
     "data": {
      "text/plain": [
       "<matplotlib.figure.Figure at 0x7f0c0b04b6a0>"
      ]
     },
     "metadata": {},
     "output_type": "display_data"
    },
    {
     "data": {
      "text/plain": [
       "<matplotlib.figure.Figure at 0x7f0c0b05db00>"
      ]
     },
     "metadata": {},
     "output_type": "display_data"
    },
    {
     "data": {
      "text/plain": [
       "<matplotlib.figure.Figure at 0x7f0c0b057550>"
      ]
     },
     "metadata": {},
     "output_type": "display_data"
    },
    {
     "data": {
      "text/plain": [
       "<matplotlib.figure.Figure at 0x7f0c0b057ef0>"
      ]
     },
     "metadata": {},
     "output_type": "display_data"
    },
    {
     "data": {
      "text/plain": [
       "<matplotlib.figure.Figure at 0x7f0c0b047978>"
      ]
     },
     "metadata": {},
     "output_type": "display_data"
    },
    {
     "data": {
      "text/plain": [
       "<matplotlib.figure.Figure at 0x7f0c0aacc438>"
      ]
     },
     "metadata": {},
     "output_type": "display_data"
    },
    {
     "data": {
      "text/plain": [
       "<matplotlib.figure.Figure at 0x7f0c0aacce80>"
      ]
     },
     "metadata": {},
     "output_type": "display_data"
    },
    {
     "data": {
      "text/plain": [
       "<matplotlib.figure.Figure at 0x7f0c0aaed8d0>"
      ]
     },
     "metadata": {},
     "output_type": "display_data"
    },
    {
     "data": {
      "text/plain": [
       "<matplotlib.figure.Figure at 0x7f0c0aaea358>"
      ]
     },
     "metadata": {},
     "output_type": "display_data"
    },
    {
     "data": {
      "text/plain": [
       "<matplotlib.figure.Figure at 0x7f0c0aaeada0>"
      ]
     },
     "metadata": {},
     "output_type": "display_data"
    },
    {
     "data": {
      "text/plain": [
       "<matplotlib.figure.Figure at 0x7f0c0aad0860>"
      ]
     },
     "metadata": {},
     "output_type": "display_data"
    },
    {
     "data": {
      "text/plain": [
       "<matplotlib.figure.Figure at 0x7f0c0aaf12b0>"
      ]
     },
     "metadata": {},
     "output_type": "display_data"
    },
    {
     "data": {
      "text/plain": [
       "<matplotlib.figure.Figure at 0x7f0c0aaf1d30>"
      ]
     },
     "metadata": {},
     "output_type": "display_data"
    },
    {
     "data": {
      "text/plain": [
       "<matplotlib.figure.Figure at 0x7f0c0aadb828>"
      ]
     },
     "metadata": {},
     "output_type": "display_data"
    },
    {
     "data": {
      "text/plain": [
       "<matplotlib.figure.Figure at 0x7f0c34ccc320>"
      ]
     },
     "metadata": {},
     "output_type": "display_data"
    },
    {
     "data": {
      "text/plain": [
       "<matplotlib.figure.Figure at 0x7f0c13fd5780>"
      ]
     },
     "metadata": {},
     "output_type": "display_data"
    },
    {
     "data": {
      "text/plain": [
       "<matplotlib.figure.Figure at 0x7f0c0aaee588>"
      ]
     },
     "metadata": {},
     "output_type": "display_data"
    },
    {
     "data": {
      "text/plain": [
       "<matplotlib.figure.Figure at 0x7f0c0aad8080>"
      ]
     },
     "metadata": {},
     "output_type": "display_data"
    },
    {
     "data": {
      "text/plain": [
       "<matplotlib.figure.Figure at 0x7f0c0aad8a58>"
      ]
     },
     "metadata": {},
     "output_type": "display_data"
    },
    {
     "data": {
      "text/plain": [
       "<matplotlib.figure.Figure at 0x7f0c0aae44e0>"
      ]
     },
     "metadata": {},
     "output_type": "display_data"
    },
    {
     "data": {
      "text/plain": [
       "<matplotlib.figure.Figure at 0x7f0c0aae4f28>"
      ]
     },
     "metadata": {},
     "output_type": "display_data"
    },
    {
     "data": {
      "text/plain": [
       "<matplotlib.figure.Figure at 0x7f0c0aad59b0>"
      ]
     },
     "metadata": {},
     "output_type": "display_data"
    },
    {
     "data": {
      "text/plain": [
       "<matplotlib.figure.Figure at 0x7f0c0aac7470>"
      ]
     },
     "metadata": {},
     "output_type": "display_data"
    },
    {
     "data": {
      "text/plain": [
       "<matplotlib.figure.Figure at 0x7f0c0aac7eb8>"
      ]
     },
     "metadata": {},
     "output_type": "display_data"
    },
    {
     "data": {
      "text/plain": [
       "<matplotlib.figure.Figure at 0x7f0c34c10908>"
      ]
     },
     "metadata": {},
     "output_type": "display_data"
    },
    {
     "data": {
      "text/plain": [
       "<matplotlib.figure.Figure at 0x7f0c34c16390>"
      ]
     },
     "metadata": {},
     "output_type": "display_data"
    },
    {
     "data": {
      "text/plain": [
       "<matplotlib.figure.Figure at 0x7f0c34c16dd8>"
      ]
     },
     "metadata": {},
     "output_type": "display_data"
    },
    {
     "data": {
      "text/plain": [
       "<matplotlib.figure.Figure at 0x7f0c34c46898>"
      ]
     },
     "metadata": {},
     "output_type": "display_data"
    },
    {
     "data": {
      "text/plain": [
       "<matplotlib.figure.Figure at 0x7f0c34c192e8>"
      ]
     },
     "metadata": {},
     "output_type": "display_data"
    },
    {
     "data": {
      "text/plain": [
       "<matplotlib.figure.Figure at 0x7f0c34c19d30>"
      ]
     },
     "metadata": {},
     "output_type": "display_data"
    },
    {
     "data": {
      "text/plain": [
       "<matplotlib.figure.Figure at 0x7f0c34c3b7b8>"
      ]
     },
     "metadata": {},
     "output_type": "display_data"
    },
    {
     "data": {
      "text/plain": [
       "<matplotlib.figure.Figure at 0x7f0c34c1a240>"
      ]
     },
     "metadata": {},
     "output_type": "display_data"
    },
    {
     "data": {
      "text/plain": [
       "<matplotlib.figure.Figure at 0x7f0c34c1acc0>"
      ]
     },
     "metadata": {},
     "output_type": "display_data"
    },
    {
     "data": {
      "text/plain": [
       "<matplotlib.figure.Figure at 0x7f0c34c08710>"
      ]
     },
     "metadata": {},
     "output_type": "display_data"
    },
    {
     "data": {
      "text/plain": [
       "<matplotlib.figure.Figure at 0x7f0c34c0f198>"
      ]
     },
     "metadata": {},
     "output_type": "display_data"
    },
    {
     "data": {
      "image/png": "[encoded data removed]",
      "text/plain": [
       "<matplotlib.figure.Figure at 0x7f0c34c0fbe0>"
      ]
     },
     "metadata": {},
     "output_type": "display_data"
    },
    {
     "data": {
      "image/png": "[encoded data removed]",
      "text/plain": [
       "<matplotlib.figure.Figure at 0x7f0c34c08ef0>"
      ]
     },
     "metadata": {},
     "output_type": "display_data"
    },
    {
     "data": {
      "text/plain": [
       "<matplotlib.figure.Figure at 0x7f0c1240bef0>"
      ]
     },
     "metadata": {},
     "output_type": "display_data"
    },
    {
     "data": {
      "text/plain": [
       "<matplotlib.figure.Figure at 0x7f0c13e9fb00>"
      ]
     },
     "metadata": {},
     "output_type": "display_data"
    },
    {
     "data": {
      "text/plain": [
       "<matplotlib.figure.Figure at 0x7f0c124267b8>"
      ]
     },
     "metadata": {},
     "output_type": "display_data"
    },
    {
     "data": {
      "text/plain": [
       "<matplotlib.figure.Figure at 0x7f0c12412240>"
      ]
     },
     "metadata": {},
     "output_type": "display_data"
    },
    {
     "data": {
      "text/plain": [
       "<matplotlib.figure.Figure at 0x7f0c12412c88>"
      ]
     },
     "metadata": {},
     "output_type": "display_data"
    },
    {
     "data": {
      "text/plain": [
       "<matplotlib.figure.Figure at 0x7f0c12427710>"
      ]
     },
     "metadata": {},
     "output_type": "display_data"
    },
    {
     "data": {
      "text/plain": [
       "<matplotlib.figure.Figure at 0x7f0c12408198>"
      ]
     },
     "metadata": {},
     "output_type": "display_data"
    },
    {
     "data": {
      "text/plain": [
       "<matplotlib.figure.Figure at 0x7f0c12408be0>"
      ]
     },
     "metadata": {},
     "output_type": "display_data"
    },
    {
     "data": {
      "text/plain": [
       "<matplotlib.figure.Figure at 0x7f0c1243c668>"
      ]
     },
     "metadata": {},
     "output_type": "display_data"
    },
    {
     "data": {
      "text/plain": [
       "<matplotlib.figure.Figure at 0x7f0c12424128>"
      ]
     },
     "metadata": {},
     "output_type": "display_data"
    },
    {
     "data": {
      "text/plain": [
       "<matplotlib.figure.Figure at 0x7f0c12424b70>"
      ]
     },
     "metadata": {},
     "output_type": "display_data"
    },
    {
     "data": {
      "text/plain": [
       "<matplotlib.figure.Figure at 0x7f0c124225f8>"
      ]
     },
     "metadata": {},
     "output_type": "display_data"
    },
    {
     "data": {
      "text/plain": [
       "<matplotlib.figure.Figure at 0x7f0c354af048>"
      ]
     },
     "metadata": {},
     "output_type": "display_data"
    },
    {
     "data": {
      "text/plain": [
       "<matplotlib.figure.Figure at 0x7f0c354afac8>"
      ]
     },
     "metadata": {},
     "output_type": "display_data"
    },
    {
     "data": {
      "text/plain": [
       "<matplotlib.figure.Figure at 0x7f0c354983c8>"
      ]
     },
     "metadata": {},
     "output_type": "display_data"
    },
    {
     "data": {
      "text/plain": [
       "<matplotlib.figure.Figure at 0x7f0c35498080>"
      ]
     },
     "metadata": {},
     "output_type": "display_data"
    },
    {
     "data": {
      "text/plain": [
       "<matplotlib.figure.Figure at 0x7f0c3548c9e8>"
      ]
     },
     "metadata": {},
     "output_type": "display_data"
    },
    {
     "data": {
      "text/plain": [
       "<matplotlib.figure.Figure at 0x7f0c354c7438>"
      ]
     },
     "metadata": {},
     "output_type": "display_data"
    },
    {
     "data": {
      "text/plain": [
       "<matplotlib.figure.Figure at 0x7f0c354c7eb8>"
      ]
     },
     "metadata": {},
     "output_type": "display_data"
    },
    {
     "data": {
      "text/plain": [
       "<matplotlib.figure.Figure at 0x7f0c354900b8>"
      ]
     },
     "metadata": {},
     "output_type": "display_data"
    },
    {
     "data": {
      "text/plain": [
       "<matplotlib.figure.Figure at 0x7f0c3549e390>"
      ]
     },
     "metadata": {},
     "output_type": "display_data"
    },
    {
     "data": {
      "text/plain": [
       "<matplotlib.figure.Figure at 0x7f0c3549edd8>"
      ]
     },
     "metadata": {},
     "output_type": "display_data"
    },
    {
     "data": {
      "text/plain": [
       "<matplotlib.figure.Figure at 0x7f0c354c3898>"
      ]
     },
     "metadata": {},
     "output_type": "display_data"
    },
    {
     "data": {
      "text/plain": [
       "<matplotlib.figure.Figure at 0x7f0c354ba438>"
      ]
     },
     "metadata": {},
     "output_type": "display_data"
    },
    {
     "data": {
      "text/plain": [
       "<matplotlib.figure.Figure at 0x7f0c354ba748>"
      ]
     },
     "metadata": {},
     "output_type": "display_data"
    },
    {
     "data": {
      "text/plain": [
       "<matplotlib.figure.Figure at 0x7f0c354ad860>"
      ]
     },
     "metadata": {},
     "output_type": "display_data"
    },
    {
     "data": {
      "text/plain": [
       "<matplotlib.figure.Figure at 0x7f0c3548e278>"
      ]
     },
     "metadata": {},
     "output_type": "display_data"
    },
    {
     "data": {
      "text/plain": [
       "<matplotlib.figure.Figure at 0x7f0c3548eda0>"
      ]
     },
     "metadata": {},
     "output_type": "display_data"
    },
    {
     "data": {
      "text/plain": [
       "<matplotlib.figure.Figure at 0x7f0c35488710>"
      ]
     },
     "metadata": {},
     "output_type": "display_data"
    },
    {
     "data": {
      "text/plain": [
       "<matplotlib.figure.Figure at 0x7f0c3549f208>"
      ]
     },
     "metadata": {},
     "output_type": "display_data"
    },
    {
     "data": {
      "text/plain": [
       "<matplotlib.figure.Figure at 0x7f0c3549fbe0>"
      ]
     },
     "metadata": {},
     "output_type": "display_data"
    },
    {
     "data": {
      "text/plain": [
       "<matplotlib.figure.Figure at 0x7f0c34a7b668>"
      ]
     },
     "metadata": {},
     "output_type": "display_data"
    },
    {
     "data": {
      "text/plain": [
       "<matplotlib.figure.Figure at 0x7f0c34a540f0>"
      ]
     },
     "metadata": {},
     "output_type": "display_data"
    },
    {
     "data": {
      "text/plain": [
       "<matplotlib.figure.Figure at 0x7f0c34a54b38>"
      ]
     },
     "metadata": {},
     "output_type": "display_data"
    },
    {
     "data": {
      "text/plain": [
       "<matplotlib.figure.Figure at 0x7f0c34a4a5f8>"
      ]
     },
     "metadata": {},
     "output_type": "display_data"
    },
    {
     "data": {
      "image/png": "[encoded data removed]",
      "text/plain": [
       "<matplotlib.figure.Figure at 0x7f0c34a59048>"
      ]
     },
     "metadata": {},
     "output_type": "display_data"
    },
    {
     "data": {
      "image/png": "[encoded data removed]",
      "text/plain": [
       "<matplotlib.figure.Figure at 0x7f0c34a857b8>"
      ]
     },
     "metadata": {},
     "output_type": "display_data"
    },
    {
     "data": {
      "text/plain": [
       "<matplotlib.figure.Figure at 0x7f0c100aac88>"
      ]
     },
     "metadata": {},
     "output_type": "display_data"
    },
    {
     "data": {
      "text/plain": [
       "<matplotlib.figure.Figure at 0x7f0c100b8b38>"
      ]
     },
     "metadata": {},
     "output_type": "display_data"
    },
    {
     "data": {
      "text/plain": [
       "<matplotlib.figure.Figure at 0x7f0c10097400>"
      ]
     },
     "metadata": {},
     "output_type": "display_data"
    },
    {
     "data": {
      "text/plain": [
       "<matplotlib.figure.Figure at 0x7f0c10097e48>"
      ]
     },
     "metadata": {},
     "output_type": "display_data"
    },
    {
     "data": {
      "text/plain": [
       "<matplotlib.figure.Figure at 0x7f0c100b08d0>"
      ]
     },
     "metadata": {},
     "output_type": "display_data"
    },
    {
     "data": {
      "text/plain": [
       "<matplotlib.figure.Figure at 0x7f0c10099358>"
      ]
     },
     "metadata": {},
     "output_type": "display_data"
    },
    {
     "data": {
      "text/plain": [
       "<matplotlib.figure.Figure at 0x7f0c10099da0>"
      ]
     },
     "metadata": {},
     "output_type": "display_data"
    },
    {
     "data": {
      "text/plain": [
       "<matplotlib.figure.Figure at 0x7f0c100a3550>"
      ]
     },
     "metadata": {},
     "output_type": "display_data"
    },
    {
     "data": {
      "text/plain": [
       "<matplotlib.figure.Figure at 0x7f0c100b3390>"
      ]
     },
     "metadata": {},
     "output_type": "display_data"
    },
    {
     "data": {
      "text/plain": [
       "<matplotlib.figure.Figure at 0x7f0c100b3e10>"
      ]
     },
     "metadata": {},
     "output_type": "display_data"
    },
    {
     "data": {
      "text/plain": [
       "<matplotlib.figure.Figure at 0x7f0c1008e780>"
      ]
     },
     "metadata": {},
     "output_type": "display_data"
    },
    {
     "data": {
      "text/plain": [
       "<matplotlib.figure.Figure at 0x7f0c1009a208>"
      ]
     },
     "metadata": {},
     "output_type": "display_data"
    },
    {
     "data": {
      "text/plain": [
       "<matplotlib.figure.Figure at 0x7f0c1009ad30>"
      ]
     },
     "metadata": {},
     "output_type": "display_data"
    },
    {
     "data": {
      "text/plain": [
       "<matplotlib.figure.Figure at 0x7f0c34425710>"
      ]
     },
     "metadata": {},
     "output_type": "display_data"
    },
    {
     "data": {
      "text/plain": [
       "<matplotlib.figure.Figure at 0x7f0c3442b0f0>"
      ]
     },
     "metadata": {},
     "output_type": "display_data"
    },
    {
     "data": {
      "text/plain": [
       "<matplotlib.figure.Figure at 0x7f0c3442b588>"
      ]
     },
     "metadata": {},
     "output_type": "display_data"
    },
    {
     "data": {
      "text/plain": [
       "<matplotlib.figure.Figure at 0x7f0c344204a8>"
      ]
     },
     "metadata": {},
     "output_type": "display_data"
    },
    {
     "data": {
      "text/plain": [
       "<matplotlib.figure.Figure at 0x7f0c3441a1d0>"
      ]
     },
     "metadata": {},
     "output_type": "display_data"
    },
    {
     "data": {
      "text/plain": [
       "<matplotlib.figure.Figure at 0x7f0c3441ab00>"
      ]
     },
     "metadata": {},
     "output_type": "display_data"
    },
    {
     "data": {
      "text/plain": [
       "<matplotlib.figure.Figure at 0x7f0c34428860>"
      ]
     },
     "metadata": {},
     "output_type": "display_data"
    },
    {
     "data": {
      "text/plain": [
       "<matplotlib.figure.Figure at 0x7f0c344292e8>"
      ]
     },
     "metadata": {},
     "output_type": "display_data"
    },
    {
     "data": {
      "text/plain": [
       "<matplotlib.figure.Figure at 0x7f0c34429da0>"
      ]
     },
     "metadata": {},
     "output_type": "display_data"
    },
    {
     "data": {
      "text/plain": [
       "<matplotlib.figure.Figure at 0x7f0c3442c4e0>"
      ]
     },
     "metadata": {},
     "output_type": "display_data"
    },
    {
     "data": {
      "text/plain": [
       "<matplotlib.figure.Figure at 0x7f0c3442cf60>"
      ]
     },
     "metadata": {},
     "output_type": "display_data"
    },
    {
     "data": {
      "text/plain": [
       "<matplotlib.figure.Figure at 0x7f0c3441b358>"
      ]
     },
     "metadata": {},
     "output_type": "display_data"
    },
    {
     "data": {
      "text/plain": [
       "<matplotlib.figure.Figure at 0x7f0c34411438>"
      ]
     },
     "metadata": {},
     "output_type": "display_data"
    },
    {
     "data": {
      "text/plain": [
       "<matplotlib.figure.Figure at 0x7f0c34411e80>"
      ]
     },
     "metadata": {},
     "output_type": "display_data"
    },
    {
     "data": {
      "text/plain": [
       "<matplotlib.figure.Figure at 0x7f0c3442d940>"
      ]
     },
     "metadata": {},
     "output_type": "display_data"
    },
    {
     "data": {
      "text/plain": [
       "<matplotlib.figure.Figure at 0x7f0c34417390>"
      ]
     },
     "metadata": {},
     "output_type": "display_data"
    },
    {
     "data": {
      "text/plain": [
       "<matplotlib.figure.Figure at 0x7f0c34417eb8>"
      ]
     },
     "metadata": {},
     "output_type": "display_data"
    },
    {
     "data": {
      "text/plain": [
       "<matplotlib.figure.Figure at 0x7f0c34418860>"
      ]
     },
     "metadata": {},
     "output_type": "display_data"
    },
    {
     "data": {
      "text/plain": [
       "<matplotlib.figure.Figure at 0x7f0c107e1e48>"
      ]
     },
     "metadata": {},
     "output_type": "display_data"
    },
    {
     "data": {
      "text/plain": [
       "<matplotlib.figure.Figure at 0x7f0c107e16a0>"
      ]
     },
     "metadata": {},
     "output_type": "display_data"
    },
    {
     "data": {
      "text/plain": [
       "<matplotlib.figure.Figure at 0x7f0c107e77b8>"
      ]
     },
     "metadata": {},
     "output_type": "display_data"
    },
    {
     "data": {
      "text/plain": [
       "<matplotlib.figure.Figure at 0x7f0c107fa240>"
      ]
     },
     "metadata": {},
     "output_type": "display_data"
    },
    {
     "data": {
      "text/plain": [
       "<matplotlib.figure.Figure at 0x7f0c107facf8>"
      ]
     },
     "metadata": {},
     "output_type": "display_data"
    }
   ],
   "source": [
    "M = 10#number of images for display\n",
    "for k in range(M):\n",
    "    # a sample image and label\n",
    "    img_placeholder   = imgs_correctly_classified[k].reshape((1,784)) #k is the iterable\n",
    "    img               = img_placeholder.reshape(28,28) \n",
    "    plt.imshow(img, cmap='Greys')\n",
    "    \n",
    "    sample_label0 = labels0_correctly_classified [k] #k is the iterable\n",
    "    sample_label1 = labels1_correctly_classified [k] #k is the iterable\n",
    "    \n",
    "    img_placeholder   = img.reshape((1,784))\n",
    "    label_placeholder = sample_label1.reshape((1,10))\n",
    "    print(label_placeholder)\n",
    "    #true_label        = np.argmax(label_placeholder, axis=1)\n",
    "    #print(\"true accuracy: \", sess.run(accuracy, feed_dict={x:img_placeholder, y_:label_placeholder, keep_prob: 1.0}))\n",
    "    #dimensions of our rectanglur moving occlusion patch\n",
    "    w = 15\n",
    "    h = 15\n",
    "\n",
    "    #sizes of our strides\n",
    "    strides2 = strides1 = 3\n",
    "\n",
    "    #########################################\n",
    "    #previous strategy!\n",
    "    # we aim to occlude only the nonzero portion of the image which contains essential information\n",
    "    #print(img.nonzero())\n",
    "    #max_r = np.max(img.nonzero(), axis = 1)[0]\n",
    "    #max_c = np.max(img.nonzero(), axis = 1)[1]\n",
    "    #min_r = np.min(img.nonzero(), axis = 1)[0]\n",
    "    #min_c = np.min(img.nonzero(), axis = 1)[1]\n",
    "    # range objects for performing iterations in for loops\n",
    "    #iter_columns    = range(min_r,max_r-w+strides1, strides1)\n",
    "    #iter_rows       = range(min_c, max_c-h+strides2, strides2)\n",
    "    ############################################\n",
    "\n",
    "\n",
    "    ################################################\n",
    "    ##################################################\n",
    "    #Our new strategy\n",
    "    iter_columns = range(0,28-w+strides1,strides1)\n",
    "    iter_rows    = range(0,28-h+strides2, strides2)\n",
    "    ##############################################\n",
    "    ################################################\n",
    "\n",
    "    #total number of possible occlusions in each dimension \n",
    "    num_rows     = len(iter_columns)\n",
    "    num_columns  = len(iter_rows) \n",
    "\n",
    "\n",
    "\n",
    "    # plotting figures of occluded image\n",
    "    fig, axs = plt.subplots(num_rows,num_columns, figsize=(28, 28))\n",
    "    fig.subplots_adjust(hspace = .5, wspace=.001)\n",
    "\n",
    "    axs = axs.ravel()\n",
    "    index = 0\n",
    "    #axs[index].imshow(sample_image, cmap='Greys')\n",
    "    #axs[index].set_title(\"true label \"+ str(true_label))\n",
    "    #index +=1\n",
    "\n",
    "    for i in iter_columns:\n",
    "        for j in iter_rows:\n",
    "\n",
    "            occluded_img = img.copy()\n",
    "            if i == iter_columns[-1]:\n",
    "                occluded_img[i:-1, j:j+h] = 0\n",
    "                #print(range(i, -1), range(j, j+h))\n",
    "            \n",
    "            elif j == iter_rows[-1]:\n",
    "                occluded_img[i:i+w, j:-1] = 0\n",
    "                #print(range(i, i+w), range(j,-1))\n",
    "\n",
    "            else:\n",
    "                occluded_img[i:i+w, j:j+h] = 0\n",
    "                #print(range(i, i+w), range(j,j+w))\n",
    "                \n",
    "            occluded_img_placeholder = occluded_img.reshape((1,784))\n",
    "            fig = plt.figure()\n",
    "\n",
    "            #label_placeholder is the same as the label_placeholder for the original image \n",
    "            net_output      = sess.run(y_conv, \n",
    "                                 feed_dict={x:occluded_img_placeholder, y_:label_placeholder, keep_prob: 1.0})\n",
    "            #print(net_output)\n",
    "            #probs           = sess.run((tf.nn.softmax(net_output)))\n",
    "            #print(probs)\n",
    "            perdicted_label = np.argmax(net_output, axis=1)\n",
    "            print(\"predicted label:\", perdicted_label)\n",
    "            #print(\"accuracy:\", acc)\n",
    "            print(2*'\\n')\n",
    "\n",
    "\n",
    "            axs[index].imshow(occluded_img, cmap='Greys')\n",
    "            axs[index].set_title(\"predicted label: \"+ str(perdicted_label))\n",
    "            index +=1\n",
    "    print(index)"
   ]
  },
  {
   "cell_type": "code",
   "execution_count": null,
   "metadata": {},
   "outputs": [],
   "source": []
  }
 ],
 "metadata": {
  "kernelspec": {
   "display_name": "Python 3",
   "language": "python",
   "name": "python3"
  },
  "language_info": {
   "codemirror_mode": {
    "name": "ipython",
    "version": 3
   },
   "file_extension": ".py",
   "mimetype": "text/x-python",
   "name": "python",
   "nbconvert_exporter": "python",
   "pygments_lexer": "ipython3",
   "version": "3.5.2"
  }
 },
 "nbformat": 4,
 "nbformat_minor": 2
}
