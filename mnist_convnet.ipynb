{
 "cells": [
  {
   "cell_type": "code",
   "execution_count": 17,
   "metadata": {},
   "outputs": [
    {
     "name": "stdout",
     "output_type": "stream",
     "text": [
      "Extracting MNIST_data/train-images-idx3-ubyte.gz\n",
      "Extracting MNIST_data/train-labels-idx1-ubyte.gz\n",
      "Extracting MNIST_data/t10k-images-idx3-ubyte.gz\n",
      "Extracting MNIST_data/t10k-labels-idx1-ubyte.gz\n"
     ]
    }
   ],
   "source": [
    "import os\n",
    "import time\n",
    "import tensorflow as tf\n",
    "\n",
    "# Load MNIST dataset\n",
    "from tensorflow.examples.tutorials.mnist import input_data\n",
    "mnist = input_data.read_data_sets('MNIST_data', one_hot=True)\n",
    "\n",
    "\n",
    "#helper functions\n",
    "def compute_num_params():\n",
    "    #counting the total number of parameters in our network\n",
    "    total_parameters = 0\n",
    "    for variable in tf.trainable_variables():\n",
    "        # shape is an array of tf.Dimension\n",
    "        shape = variable.get_shape()\n",
    "        #print(shape)\n",
    "        #print(len(shape))\n",
    "        variable_parameters = 1\n",
    "        for dim in shape:\n",
    "            #print(dim)\n",
    "            variable_parameters *= dim.value\n",
    "        #print(variable_parameters)\n",
    "        total_parameters += variable_parameters\n",
    "    print(total_parameters)\n",
    "\n",
    "def conv2d(x, W):\n",
    "    h_conv = tf.nn.conv2d(x, W, strides=[1, 1, 1, 1], padding='SAME')\n",
    "    return h_conv\n",
    "\n",
    "def max_pool_2x2(x):\n",
    "    h_max = tf.nn.max_pool(x, ksize=[1, 2, 2, 1],\n",
    "                        strides=[1, 2, 2, 1], padding='SAME')\n",
    "    return h_max"
   ]
  },
  {
   "cell_type": "code",
   "execution_count": 18,
   "metadata": {},
   "outputs": [
    {
     "name": "stdout",
     "output_type": "stream",
     "text": [
      "(?, 14, 14, 32)\n",
      "(?, 7, 7, 64)\n",
      "(?, 1024)\n",
      "(?, 1024)\n",
      "(?, 10)\n",
      "step 0, training accuracy 0.22\n",
      "step 200, training accuracy 0.96\n",
      "step 400, training accuracy 0.98\n",
      "step 600, training accuracy 1\n",
      "step 800, training accuracy 1\n",
      "step 1000, training accuracy 0.98\n",
      "step 1200, training accuracy 1\n",
      "step 1400, training accuracy 0.98\n",
      "step 1600, training accuracy 0.98\n",
      "step 1800, training accuracy 0.96\n",
      "step 2000, training accuracy 1\n",
      "step 2200, training accuracy 1\n",
      "step 2400, training accuracy 1\n",
      "step 2600, training accuracy 1\n",
      "step 2800, training accuracy 1\n",
      "step 3000, training accuracy 1\n",
      "step 3200, training accuracy 1\n",
      "step 3400, training accuracy 1\n",
      "step 3600, training accuracy 1\n",
      "step 3800, training accuracy 1\n",
      "step 4000, training accuracy 1\n",
      "step 4200, training accuracy 1\n",
      "step 4400, training accuracy 1\n",
      "step 4600, training accuracy 1\n",
      "step 4800, training accuracy 1\n",
      "step 5000, training accuracy 1\n",
      "step 5200, training accuracy 1\n",
      "step 5400, training accuracy 0.98\n",
      "step 5600, training accuracy 0.98\n",
      "step 5800, training accuracy 1\n",
      "step 6000, training accuracy 0.98\n",
      "step 6200, training accuracy 1\n",
      "step 6400, training accuracy 1\n",
      "step 6600, training accuracy 1\n",
      "step 6800, training accuracy 0.98\n",
      "step 7000, training accuracy 1\n",
      "step 7200, training accuracy 1\n",
      "step 7400, training accuracy 1\n",
      "step 7600, training accuracy 1\n",
      "step 7800, training accuracy 0.98\n",
      "step 8000, training accuracy 1\n",
      "step 8200, training accuracy 1\n",
      "step 8400, training accuracy 0.98\n",
      "step 8600, training accuracy 1\n",
      "step 8800, training accuracy 0.98\n",
      "step 9000, training accuracy 1\n",
      "step 9200, training accuracy 0.98\n",
      "step 9400, training accuracy 1\n",
      "step 9600, training accuracy 1\n",
      "step 9800, training accuracy 1\n",
      "step 10000, training accuracy 1\n",
      "step 10200, training accuracy 1\n",
      "step 10400, training accuracy 1\n",
      "step 10600, training accuracy 0.98\n",
      "step 10800, training accuracy 0.98\n",
      "step 11000, training accuracy 1\n",
      "step 11200, training accuracy 1\n",
      "step 11400, training accuracy 0.96\n",
      "step 11600, training accuracy 1\n",
      "step 11800, training accuracy 1\n",
      "step 12000, training accuracy 1\n",
      "step 12200, training accuracy 1\n",
      "step 12400, training accuracy 1\n",
      "step 12600, training accuracy 1\n",
      "step 12800, training accuracy 1\n",
      "step 13000, training accuracy 1\n",
      "step 13200, training accuracy 0.98\n",
      "step 13400, training accuracy 1\n",
      "step 13600, training accuracy 1\n",
      "step 13800, training accuracy 1\n",
      "step 14000, training accuracy 1\n",
      "step 14200, training accuracy 1\n",
      "step 14400, training accuracy 1\n",
      "step 14600, training accuracy 1\n",
      "step 14800, training accuracy 1\n",
      "step 15000, training accuracy 1\n",
      "step 15200, training accuracy 1\n",
      "step 15400, training accuracy 1\n",
      "step 15600, training accuracy 1\n",
      "step 15800, training accuracy 1\n",
      "step 16000, training accuracy 1\n",
      "step 16200, training accuracy 1\n",
      "step 16400, training accuracy 1\n",
      "step 16600, training accuracy 1\n",
      "step 16800, training accuracy 1\n",
      "step 17000, training accuracy 1\n",
      "step 17200, training accuracy 0.98\n",
      "step 17400, training accuracy 0.98\n",
      "step 17600, training accuracy 1\n",
      "step 17800, training accuracy 1\n",
      "step 18000, training accuracy 1\n",
      "step 18200, training accuracy 1\n",
      "step 18400, training accuracy 1\n",
      "step 18600, training accuracy 1\n",
      "step 18800, training accuracy 1\n",
      "step 19000, training accuracy 1\n",
      "step 19200, training accuracy 1\n",
      "step 19400, training accuracy 1\n",
      "step 19600, training accuracy 1\n",
      "step 19800, training accuracy 1\n",
      "Model saved in file: model.ckpt\n",
      "test accuracy 0.992\n",
      "The training takes 2663.620072 second to finish\n",
      "3274730\n"
     ]
    }
   ],
   "source": [
    "result_dir= 'mnist_model_summaries'\n",
    "max_iter  = 20000\n",
    "\n",
    "# start a session\n",
    "tf.reset_default_graph()\n",
    "sess = tf.InteractiveSession()\n",
    "start_time = time.time() # start timing\n",
    "\n",
    "x         = tf.placeholder(tf.float32, shape=[None, 784])\n",
    "y_        = tf.placeholder(tf.float32, [None, 10])\n",
    "\n",
    "x_image   = tf.reshape(x, [-1, 28, 28, 1])\n",
    "\n",
    "#convolutional layer 1\n",
    "with tf.name_scope('conv1'):\n",
    "    nh1       = 32 #number of channels out\n",
    "    nh_pre    = 1  #number of channels in\n",
    "    W1        = tf.get_variable('W1', shape = [5, 5, 1, nh1],\n",
    "                                initializer = tf.contrib.layers.xavier_initializer(),\n",
    "                                dtype=tf.float32)\n",
    "    b1        = tf.get_variable('b1', shape = [nh1],\n",
    "                                initializer = tf.contrib.layers.xavier_initializer(), \n",
    "                                dtype=tf.float32)     \n",
    "    h_conv1   = conv2d(x_image,W1) + b1\n",
    "    h_bnorm1  = tf.contrib.layers.batch_norm(h_conv1, epsilon=1e-5, scope='bn1')\n",
    "    h_act1    = tf.nn.relu(h_bnorm1)\n",
    "    h_pool1   = max_pool_2x2(h_act1)\n",
    "    print(h_pool1.shape)\n",
    "\n",
    "#convolutional layer 2\n",
    "with tf.name_scope('conv2'):\n",
    "    nh2       = 64 #number of channels out\n",
    "    nh_pre    = nh1  #number of channels in\n",
    "    W2        = tf.get_variable('W2', shape = (5, 5, nh1, nh2), \n",
    "                                initializer = tf.contrib.layers.xavier_initializer(),\n",
    "                                dtype=tf.float32)\n",
    "    b2        = tf.get_variable('b2', shape = [nh2],\n",
    "                                initializer = tf.contrib.layers.xavier_initializer(),\n",
    "                                dtype=tf.float32)\n",
    "      \n",
    "    h_conv2   = conv2d(h_pool1,W2) + b2\n",
    "    h_bnorm2  = tf.contrib.layers.batch_norm(h_conv2, epsilon=1e-5, scope='bn2')\n",
    "    h_act2    = tf.nn.relu(h_bnorm2)\n",
    "    h_pool2   = max_pool_2x2(h_act2)\n",
    "    print(h_pool2.shape)\n",
    "\n",
    "#fully connected layer1\n",
    "with tf.name_scope('fc1'):\n",
    "    nh3 = 1024\n",
    "    W_fc1 = tf.get_variable('W_fc1', shape = [7 * 7 * nh2, nh3],\n",
    "                                initializer = tf.contrib.layers.xavier_initializer(),\n",
    "                                dtype=tf.float32)\n",
    "    b_fc1 = tf.get_variable('b_fc1', shape = [nh3],\n",
    "                                initializer = tf.contrib.layers.xavier_initializer(), \n",
    "                                dtype=tf.float32)  \n",
    "    h_pool2_flat = tf.reshape(h_pool2, [-1, 7 * 7 * nh2])\n",
    "    #h_bnorm  = tf.contrib.layers.batch_norm(h_pool2_flat, epsilon=1e-3, scope='bn')\n",
    "    h_fc1 = tf.nn.relu(tf.matmul(h_pool2_flat, W_fc1) + b_fc1)\n",
    "    print(h_fc1.shape)\n",
    "\n",
    "#dropout layer\n",
    "with tf.name_scope('dropout'):\n",
    "    keep_prob  = tf.placeholder(tf.float32)\n",
    "    h_fc1_drop = tf.nn.dropout(h_fc1, keep_prob)\n",
    "    print(h_fc1_drop.shape)\n",
    "    \n",
    "#fully connected layer2\n",
    "with tf.name_scope('fc2'):\n",
    "    W_fc2 = tf.get_variable('W_fc2', shape = [nh3, 10],\n",
    "                                initializer = tf.contrib.layers.xavier_initializer(),\n",
    "                                dtype=tf.float32)\n",
    "    b_fc2 = tf.get_variable('b_fc2', shape = [10],\n",
    "                                initializer = tf.contrib.layers.xavier_initializer(), \n",
    "                                dtype=tf.float32) \n",
    "    y_conv = tf.matmul(h_fc1_drop, W_fc2) + b_fc2\n",
    "    print(y_conv.shape)\n",
    "    \n",
    "with tf.name_scope('loss'):\n",
    "    cross_entropy = tf.nn.softmax_cross_entropy_with_logits(labels=y_,\n",
    "                                                            logits=y_conv)\n",
    "    cross_entropy = tf.reduce_mean(cross_entropy)\n",
    "\n",
    "with tf.name_scope('adam_optimizer'):\n",
    "    train_step = tf.train.AdamOptimizer(1e-4).minimize(cross_entropy)\n",
    "\n",
    "with tf.name_scope('accuracy'):\n",
    "    correct_prediction = tf.equal(tf.argmax(y_conv, 1), tf.argmax(y_, 1))\n",
    "    correct_prediction = tf.cast(correct_prediction, tf.float32)\n",
    "    accuracy = tf.reduce_mean(correct_prediction)\n",
    "\n",
    "# Create a saver for writing training checkpoints.\n",
    "saver = tf.train.Saver()\n",
    "\n",
    "#with tf.Session() as sess:\n",
    "sess.run(tf.global_variables_initializer())\n",
    "for i in range(max_iter):\n",
    "    batch = mnist.train.next_batch(50)\n",
    "    if i % 200 == 0:\n",
    "        train_accuracy = accuracy.eval(feed_dict = {x: batch[0], y_: batch[1], keep_prob: 1.0})\n",
    "        print('step %d, training accuracy %g' % (i, train_accuracy))\n",
    "    train_step.run(feed_dict = {x: batch[0], y_: batch[1], keep_prob: .5})\n",
    "    \n",
    "saver.save(sess, 'model.ckpt')\n",
    "print(\"Model saved in file: %s\" % save_path)\n",
    "\n",
    "print('test accuracy %g' % accuracy.eval(feed_dict={\n",
    "    x: mnist.test.images, y_: mnist.test.labels, keep_prob: 1.0}))\n",
    "# Save the variables to disk.\n",
    "\n",
    "\n",
    "stop_time = time.time()\n",
    "print('The training takes %f second to finish'%(stop_time - start_time))\n",
    "compute_num_params()"
   ]
  },
  {
   "cell_type": "code",
   "execution_count": 32,
   "metadata": {},
   "outputs": [
    {
     "name": "stdout",
     "output_type": "stream",
     "text": [
      "true accuracy:  1.0\n",
      "range(4, 14) range(7, 17)\n",
      "predicted label: [0]\n",
      "accuracy: 1.0\n",
      "\n",
      "\n",
      "\n",
      "range(4, 14) range(10, 20)\n",
      "predicted label: [0]\n",
      "accuracy: 1.0\n",
      "\n",
      "\n",
      "\n",
      "range(4, 14) range(13, 23)\n",
      "predicted label: [6]\n",
      "accuracy: 0.0\n",
      "\n",
      "\n",
      "\n",
      "range(7, 17) range(7, 17)\n",
      "predicted label: [0]\n",
      "accuracy: 1.0\n",
      "\n",
      "\n",
      "\n",
      "range(7, 17) range(10, 20)\n",
      "predicted label: [0]\n",
      "accuracy: 1.0\n",
      "\n",
      "\n",
      "\n",
      "range(7, 17) range(13, 23)\n",
      "predicted label: [6]\n",
      "accuracy: 0.0\n",
      "\n",
      "\n",
      "\n",
      "range(10, 20) range(7, 17)\n",
      "predicted label: [0]\n",
      "accuracy: 1.0\n",
      "\n",
      "\n",
      "\n",
      "range(10, 20) range(10, 20)\n",
      "predicted label: [0]\n",
      "accuracy: 1.0\n",
      "\n",
      "\n",
      "\n",
      "range(10, 20) range(13, 23)\n",
      "predicted label: [0]\n",
      "accuracy: 1.0\n",
      "\n",
      "\n",
      "\n",
      "range(13, 23) range(7, 17)\n",
      "predicted label: [7]\n",
      "accuracy: 0.0\n",
      "\n",
      "\n",
      "\n",
      "range(13, 23) range(10, 20)\n",
      "predicted label: [0]\n",
      "accuracy: 1.0\n",
      "\n",
      "\n",
      "\n",
      "range(13, 23) range(13, 23)\n",
      "predicted label: [0]\n",
      "accuracy: 1.0\n",
      "\n",
      "\n",
      "\n",
      "12\n"
     ]
    },
    {
     "data": {
      "image/png": "[encoded data removed]",
      "text/plain": [
       "<matplotlib.figure.Figure at 0x7f450c842a58>"
      ]
     },
     "metadata": {},
     "output_type": "display_data"
    },
    {
     "data": {
      "image/png": "[encoded data removed]",
      "text/plain": [
       "<matplotlib.figure.Figure at 0x7f450c83d080>"
      ]
     },
     "metadata": {},
     "output_type": "display_data"
    },
    {
     "data": {
      "text/plain": [
       "<matplotlib.figure.Figure at 0x7f45062d96a0>"
      ]
     },
     "metadata": {},
     "output_type": "display_data"
    },
    {
     "data": {
      "text/plain": [
       "<matplotlib.figure.Figure at 0x7f45062dfc18>"
      ]
     },
     "metadata": {},
     "output_type": "display_data"
    },
    {
     "data": {
      "text/plain": [
       "<matplotlib.figure.Figure at 0x7f45062e8f98>"
      ]
     },
     "metadata": {},
     "output_type": "display_data"
    },
    {
     "data": {
      "text/plain": [
       "<matplotlib.figure.Figure at 0x7f45062fd128>"
      ]
     },
     "metadata": {},
     "output_type": "display_data"
    },
    {
     "data": {
      "text/plain": [
       "<matplotlib.figure.Figure at 0x7f45062fde80>"
      ]
     },
     "metadata": {},
     "output_type": "display_data"
    },
    {
     "data": {
      "text/plain": [
       "<matplotlib.figure.Figure at 0x7f4506290978>"
      ]
     },
     "metadata": {},
     "output_type": "display_data"
    },
    {
     "data": {
      "text/plain": [
       "<matplotlib.figure.Figure at 0x7f4506298c50>"
      ]
     },
     "metadata": {},
     "output_type": "display_data"
    },
    {
     "data": {
      "text/plain": [
       "<matplotlib.figure.Figure at 0x7f45062a3f60>"
      ]
     },
     "metadata": {},
     "output_type": "display_data"
    },
    {
     "data": {
      "text/plain": [
       "<matplotlib.figure.Figure at 0x7f45062ba240>"
      ]
     },
     "metadata": {},
     "output_type": "display_data"
    },
    {
     "data": {
      "text/plain": [
       "<matplotlib.figure.Figure at 0x7f4506244518>"
      ]
     },
     "metadata": {},
     "output_type": "display_data"
    },
    {
     "data": {
      "text/plain": [
       "<matplotlib.figure.Figure at 0x7f4506251908>"
      ]
     },
     "metadata": {},
     "output_type": "display_data"
    },
    {
     "data": {
      "text/plain": [
       "<matplotlib.figure.Figure at 0x7f4506255c50>"
      ]
     },
     "metadata": {},
     "output_type": "display_data"
    }
   ],
   "source": [
    "import matplotlib.pyplot as plt\n",
    "import numpy as np\n",
    "%matplotlib inline\n",
    "\n",
    "sample_image = mnist.test.images[3]\n",
    "sample_label = mnist.test.labels[3]\n",
    "#print(sample_label)\n",
    "sample_image = sample_image.reshape((1,784))\n",
    "sample_label = sample_label.reshape((1,10))\n",
    "true_label   = np.argmax(sample_label, axis=1)\n",
    "\n",
    "print(\"true accuracy: \", sess.run(accuracy, feed_dict={x:sample_image, y_:sample_label, keep_prob: 1.0}))\n",
    "\n",
    "\n",
    "# we aim to occlude only the nonzero portion of the image which contains essential information\n",
    "img = sample_image.reshape([28, 28])\n",
    "plt.imshow(img, cmap='Greys')\n",
    "#print(img.nonzero())\n",
    "max_r = np.max(img.nonzero(), axis = 1)[0]\n",
    "max_c = np.max(img.nonzero(), axis = 1)[1]\n",
    "min_r = np.min(img.nonzero(), axis = 1)[0]\n",
    "min_c = np.min(img.nonzero(), axis = 1)[1]\n",
    "\n",
    "#dimensions of our rectanglur moving occlusion patch\n",
    "w = 10\n",
    "h = 10\n",
    "\n",
    "#sizes of our strides\n",
    "strides2 = strides1 = 3\n",
    "\n",
    "# range objects for performing iterations in for loops\n",
    "iter_rows    = range(min_r,int(np.array([max_r-w+strides1, 28]).min()), strides1)\n",
    "iter_columns = range(min_c,int(np.array([max_c-h+strides2,28]).min()), strides2)\n",
    "\n",
    "#total number of possible occlusions in each dimension \n",
    "num_rows     = len(iter_rows)\n",
    "num_columns   = len(iter_columns) \n",
    "\n",
    "\n",
    "\n",
    "# plotting figures of occluded image\n",
    "fig, axs = plt.subplots(num_rows,num_columns, figsize=(28, 28))\n",
    "fig.subplots_adjust(hspace = .5, wspace=.001)\n",
    "\n",
    "axs = axs.ravel()\n",
    "index = 0\n",
    "#axs[index].imshow(sample_image, cmap='Greys')\n",
    "#axs[index].set_title(\"true label \"+ str(true_label))\n",
    "#index +=1\n",
    "for i in iter_rows:\n",
    "    for j in iter_columns:\n",
    "        occluded_img = img.copy()\n",
    "        \n",
    "        if i == iter_rows[-1]:\n",
    "            occluded_img[i:28, j:j+h] = 0\n",
    "            \n",
    "        \n",
    "        elif j==iter_columns[-1]:\n",
    "            occluded_img[i:i+h, j:28] = 0\n",
    "        \n",
    "        else:\n",
    "            occluded_img[i:i+w, j:j+h] = 0\n",
    "        \n",
    "        #plt.figure()\n",
    "        print(range(i,i+w), range(j,j+w))\n",
    "        occluded_img_vec = occluded_img.reshape((1,784))\n",
    "        fig = plt.figure()\n",
    "        \n",
    "        perd, acc = sess.run([y_conv,accuracy], feed_dict={x:occluded_img_vec, y_:sample_label, keep_prob: 1.0})\n",
    "        probs = sess.run((tf.nn.softmax(perd)))\n",
    "        perd_label = np.argmax(probs, axis=1)\n",
    "        print(\"predicted label:\", perd_label)\n",
    "        print(\"accuracy:\", acc)\n",
    "        print(2*'\\n')\n",
    "        \n",
    "        \n",
    "        axs[index].imshow(occluded_img, cmap='Greys')\n",
    "        axs[index].set_title(\"predicted label: \"+ str(perd_label))\n",
    "        index +=1\n",
    "print(index)\n"
   ]
  },
  {
   "cell_type": "code",
   "execution_count": null,
   "metadata": {
    "collapsed": true
   },
   "outputs": [],
   "source": []
  }
 ],
 "metadata": {
  "kernelspec": {
   "display_name": "Python 3",
   "language": "python",
   "name": "python3"
  },
  "language_info": {
   "codemirror_mode": {
    "name": "ipython",
    "version": 3
   },
   "file_extension": ".py",
   "mimetype": "text/x-python",
   "name": "python",
   "nbconvert_exporter": "python",
   "pygments_lexer": "ipython3",
   "version": "3.6.1"
  }
 },
 "nbformat": 4,
 "nbformat_minor": 2
}
